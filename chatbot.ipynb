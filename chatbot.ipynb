{
 "cells": [
  {
   "cell_type": "code",
   "execution_count": 1,
   "metadata": {},
   "outputs": [
    {
     "name": "stdout",
     "output_type": "stream",
     "text": [
      "Requirement already satisfied: langchain in /Users/anthonyjaramillo/opt/anaconda3/envs/experimental/lib/python3.9/site-packages (0.0.129)\n",
      "Requirement already satisfied: aiohttp<4.0.0,>=3.8.3 in /Users/anthonyjaramillo/opt/anaconda3/envs/experimental/lib/python3.9/site-packages (from langchain) (3.8.4)\n",
      "Requirement already satisfied: PyYAML>=5.4.1 in /Users/anthonyjaramillo/opt/anaconda3/envs/experimental/lib/python3.9/site-packages (from langchain) (6.0)\n",
      "Requirement already satisfied: tenacity<9.0.0,>=8.1.0 in /Users/anthonyjaramillo/opt/anaconda3/envs/experimental/lib/python3.9/site-packages (from langchain) (8.2.2)\n",
      "Requirement already satisfied: dataclasses-json<0.6.0,>=0.5.7 in /Users/anthonyjaramillo/opt/anaconda3/envs/experimental/lib/python3.9/site-packages (from langchain) (0.5.7)\n",
      "Requirement already satisfied: SQLAlchemy<2,>=1 in /Users/anthonyjaramillo/opt/anaconda3/envs/experimental/lib/python3.9/site-packages (from langchain) (1.4.47)\n",
      "Requirement already satisfied: numpy<2,>=1 in /Users/anthonyjaramillo/opt/anaconda3/envs/experimental/lib/python3.9/site-packages (from langchain) (1.23.5)\n",
      "Requirement already satisfied: pydantic<2,>=1 in /Users/anthonyjaramillo/opt/anaconda3/envs/experimental/lib/python3.9/site-packages (from langchain) (1.10.7)\n",
      "Requirement already satisfied: requests<3,>=2 in /Users/anthonyjaramillo/opt/anaconda3/envs/experimental/lib/python3.9/site-packages (from langchain) (2.28.1)\n",
      "Requirement already satisfied: aiosignal>=1.1.2 in /Users/anthonyjaramillo/opt/anaconda3/envs/experimental/lib/python3.9/site-packages (from aiohttp<4.0.0,>=3.8.3->langchain) (1.3.1)\n",
      "Requirement already satisfied: frozenlist>=1.1.1 in /Users/anthonyjaramillo/opt/anaconda3/envs/experimental/lib/python3.9/site-packages (from aiohttp<4.0.0,>=3.8.3->langchain) (1.3.3)\n",
      "Requirement already satisfied: multidict<7.0,>=4.5 in /Users/anthonyjaramillo/opt/anaconda3/envs/experimental/lib/python3.9/site-packages (from aiohttp<4.0.0,>=3.8.3->langchain) (6.0.4)\n",
      "Requirement already satisfied: attrs>=17.3.0 in /Users/anthonyjaramillo/opt/anaconda3/envs/experimental/lib/python3.9/site-packages (from aiohttp<4.0.0,>=3.8.3->langchain) (22.1.0)\n",
      "Requirement already satisfied: charset-normalizer<4.0,>=2.0 in /Users/anthonyjaramillo/opt/anaconda3/envs/experimental/lib/python3.9/site-packages (from aiohttp<4.0.0,>=3.8.3->langchain) (2.0.4)\n",
      "Requirement already satisfied: async-timeout<5.0,>=4.0.0a3 in /Users/anthonyjaramillo/opt/anaconda3/envs/experimental/lib/python3.9/site-packages (from aiohttp<4.0.0,>=3.8.3->langchain) (4.0.2)\n",
      "Requirement already satisfied: yarl<2.0,>=1.0 in /Users/anthonyjaramillo/opt/anaconda3/envs/experimental/lib/python3.9/site-packages (from aiohttp<4.0.0,>=3.8.3->langchain) (1.8.2)\n",
      "Requirement already satisfied: typing-inspect>=0.4.0 in /Users/anthonyjaramillo/opt/anaconda3/envs/experimental/lib/python3.9/site-packages (from dataclasses-json<0.6.0,>=0.5.7->langchain) (0.8.0)\n",
      "Requirement already satisfied: marshmallow<4.0.0,>=3.3.0 in /Users/anthonyjaramillo/opt/anaconda3/envs/experimental/lib/python3.9/site-packages (from dataclasses-json<0.6.0,>=0.5.7->langchain) (3.19.0)\n",
      "Requirement already satisfied: marshmallow-enum<2.0.0,>=1.5.1 in /Users/anthonyjaramillo/opt/anaconda3/envs/experimental/lib/python3.9/site-packages (from dataclasses-json<0.6.0,>=0.5.7->langchain) (1.5.1)\n",
      "Requirement already satisfied: typing-extensions>=4.2.0 in /Users/anthonyjaramillo/opt/anaconda3/envs/experimental/lib/python3.9/site-packages (from pydantic<2,>=1->langchain) (4.5.0)\n",
      "Requirement already satisfied: urllib3<1.27,>=1.21.1 in /Users/anthonyjaramillo/opt/anaconda3/envs/experimental/lib/python3.9/site-packages (from requests<3,>=2->langchain) (1.26.15)\n",
      "Requirement already satisfied: certifi>=2017.4.17 in /Users/anthonyjaramillo/opt/anaconda3/envs/experimental/lib/python3.9/site-packages (from requests<3,>=2->langchain) (2022.12.7)\n",
      "Requirement already satisfied: idna<4,>=2.5 in /Users/anthonyjaramillo/opt/anaconda3/envs/experimental/lib/python3.9/site-packages (from requests<3,>=2->langchain) (3.4)\n",
      "Requirement already satisfied: greenlet!=0.4.17 in /Users/anthonyjaramillo/opt/anaconda3/envs/experimental/lib/python3.9/site-packages (from SQLAlchemy<2,>=1->langchain) (2.0.2)\n",
      "Requirement already satisfied: packaging>=17.0 in /Users/anthonyjaramillo/opt/anaconda3/envs/experimental/lib/python3.9/site-packages (from marshmallow<4.0.0,>=3.3.0->dataclasses-json<0.6.0,>=0.5.7->langchain) (23.0)\n",
      "Requirement already satisfied: mypy-extensions>=0.3.0 in /Users/anthonyjaramillo/opt/anaconda3/envs/experimental/lib/python3.9/site-packages (from typing-inspect>=0.4.0->dataclasses-json<0.6.0,>=0.5.7->langchain) (1.0.0)\n",
      "Note: you may need to restart the kernel to use updated packages.\n",
      "Requirement already satisfied: openai in /Users/anthonyjaramillo/opt/anaconda3/envs/experimental/lib/python3.9/site-packages (0.27.2)\n",
      "Requirement already satisfied: requests>=2.20 in /Users/anthonyjaramillo/opt/anaconda3/envs/experimental/lib/python3.9/site-packages (from openai) (2.28.1)\n",
      "Requirement already satisfied: aiohttp in /Users/anthonyjaramillo/opt/anaconda3/envs/experimental/lib/python3.9/site-packages (from openai) (3.8.4)\n",
      "Requirement already satisfied: tqdm in /Users/anthonyjaramillo/opt/anaconda3/envs/experimental/lib/python3.9/site-packages (from openai) (4.65.0)\n",
      "Requirement already satisfied: urllib3<1.27,>=1.21.1 in /Users/anthonyjaramillo/opt/anaconda3/envs/experimental/lib/python3.9/site-packages (from requests>=2.20->openai) (1.26.15)\n",
      "Requirement already satisfied: certifi>=2017.4.17 in /Users/anthonyjaramillo/opt/anaconda3/envs/experimental/lib/python3.9/site-packages (from requests>=2.20->openai) (2022.12.7)\n",
      "Requirement already satisfied: idna<4,>=2.5 in /Users/anthonyjaramillo/opt/anaconda3/envs/experimental/lib/python3.9/site-packages (from requests>=2.20->openai) (3.4)\n",
      "Requirement already satisfied: charset-normalizer<3,>=2 in /Users/anthonyjaramillo/opt/anaconda3/envs/experimental/lib/python3.9/site-packages (from requests>=2.20->openai) (2.0.4)\n",
      "Requirement already satisfied: multidict<7.0,>=4.5 in /Users/anthonyjaramillo/opt/anaconda3/envs/experimental/lib/python3.9/site-packages (from aiohttp->openai) (6.0.4)\n",
      "Requirement already satisfied: yarl<2.0,>=1.0 in /Users/anthonyjaramillo/opt/anaconda3/envs/experimental/lib/python3.9/site-packages (from aiohttp->openai) (1.8.2)\n",
      "Requirement already satisfied: attrs>=17.3.0 in /Users/anthonyjaramillo/opt/anaconda3/envs/experimental/lib/python3.9/site-packages (from aiohttp->openai) (22.1.0)\n",
      "Requirement already satisfied: async-timeout<5.0,>=4.0.0a3 in /Users/anthonyjaramillo/opt/anaconda3/envs/experimental/lib/python3.9/site-packages (from aiohttp->openai) (4.0.2)\n",
      "Requirement already satisfied: frozenlist>=1.1.1 in /Users/anthonyjaramillo/opt/anaconda3/envs/experimental/lib/python3.9/site-packages (from aiohttp->openai) (1.3.3)\n",
      "Requirement already satisfied: aiosignal>=1.1.2 in /Users/anthonyjaramillo/opt/anaconda3/envs/experimental/lib/python3.9/site-packages (from aiohttp->openai) (1.3.1)\n",
      "Note: you may need to restart the kernel to use updated packages.\n",
      "Requirement already satisfied: datasets in /Users/anthonyjaramillo/opt/anaconda3/envs/experimental/lib/python3.9/site-packages (2.11.0)\n",
      "Requirement already satisfied: pyarrow>=8.0.0 in /Users/anthonyjaramillo/opt/anaconda3/envs/experimental/lib/python3.9/site-packages (from datasets) (11.0.0)\n",
      "Requirement already satisfied: pyyaml>=5.1 in /Users/anthonyjaramillo/opt/anaconda3/envs/experimental/lib/python3.9/site-packages (from datasets) (6.0)\n",
      "Requirement already satisfied: fsspec[http]>=2021.11.1 in /Users/anthonyjaramillo/opt/anaconda3/envs/experimental/lib/python3.9/site-packages (from datasets) (2023.3.0)\n",
      "Requirement already satisfied: pandas in /Users/anthonyjaramillo/opt/anaconda3/envs/experimental/lib/python3.9/site-packages (from datasets) (1.5.3)\n",
      "Requirement already satisfied: packaging in /Users/anthonyjaramillo/opt/anaconda3/envs/experimental/lib/python3.9/site-packages (from datasets) (23.0)\n",
      "Requirement already satisfied: tqdm>=4.62.1 in /Users/anthonyjaramillo/opt/anaconda3/envs/experimental/lib/python3.9/site-packages (from datasets) (4.65.0)\n",
      "Requirement already satisfied: dill<0.3.7,>=0.3.0 in /Users/anthonyjaramillo/opt/anaconda3/envs/experimental/lib/python3.9/site-packages (from datasets) (0.3.6)\n",
      "Requirement already satisfied: numpy>=1.17 in /Users/anthonyjaramillo/opt/anaconda3/envs/experimental/lib/python3.9/site-packages (from datasets) (1.23.5)\n",
      "Requirement already satisfied: responses<0.19 in /Users/anthonyjaramillo/opt/anaconda3/envs/experimental/lib/python3.9/site-packages (from datasets) (0.18.0)\n",
      "Requirement already satisfied: aiohttp in /Users/anthonyjaramillo/opt/anaconda3/envs/experimental/lib/python3.9/site-packages (from datasets) (3.8.4)\n",
      "Requirement already satisfied: multiprocess in /Users/anthonyjaramillo/opt/anaconda3/envs/experimental/lib/python3.9/site-packages (from datasets) (0.70.14)\n",
      "Requirement already satisfied: huggingface-hub<1.0.0,>=0.11.0 in /Users/anthonyjaramillo/opt/anaconda3/envs/experimental/lib/python3.9/site-packages (from datasets) (0.13.3)\n",
      "Requirement already satisfied: xxhash in /Users/anthonyjaramillo/opt/anaconda3/envs/experimental/lib/python3.9/site-packages (from datasets) (3.2.0)\n",
      "Requirement already satisfied: requests>=2.19.0 in /Users/anthonyjaramillo/opt/anaconda3/envs/experimental/lib/python3.9/site-packages (from datasets) (2.28.1)\n",
      "Requirement already satisfied: charset-normalizer<4.0,>=2.0 in /Users/anthonyjaramillo/opt/anaconda3/envs/experimental/lib/python3.9/site-packages (from aiohttp->datasets) (2.0.4)\n",
      "Requirement already satisfied: yarl<2.0,>=1.0 in /Users/anthonyjaramillo/opt/anaconda3/envs/experimental/lib/python3.9/site-packages (from aiohttp->datasets) (1.8.2)\n",
      "Requirement already satisfied: attrs>=17.3.0 in /Users/anthonyjaramillo/opt/anaconda3/envs/experimental/lib/python3.9/site-packages (from aiohttp->datasets) (22.1.0)\n",
      "Requirement already satisfied: multidict<7.0,>=4.5 in /Users/anthonyjaramillo/opt/anaconda3/envs/experimental/lib/python3.9/site-packages (from aiohttp->datasets) (6.0.4)\n",
      "Requirement already satisfied: frozenlist>=1.1.1 in /Users/anthonyjaramillo/opt/anaconda3/envs/experimental/lib/python3.9/site-packages (from aiohttp->datasets) (1.3.3)\n",
      "Requirement already satisfied: async-timeout<5.0,>=4.0.0a3 in /Users/anthonyjaramillo/opt/anaconda3/envs/experimental/lib/python3.9/site-packages (from aiohttp->datasets) (4.0.2)\n",
      "Requirement already satisfied: aiosignal>=1.1.2 in /Users/anthonyjaramillo/opt/anaconda3/envs/experimental/lib/python3.9/site-packages (from aiohttp->datasets) (1.3.1)\n",
      "Requirement already satisfied: typing-extensions>=3.7.4.3 in /Users/anthonyjaramillo/opt/anaconda3/envs/experimental/lib/python3.9/site-packages (from huggingface-hub<1.0.0,>=0.11.0->datasets) (4.5.0)\n",
      "Requirement already satisfied: filelock in /Users/anthonyjaramillo/opt/anaconda3/envs/experimental/lib/python3.9/site-packages (from huggingface-hub<1.0.0,>=0.11.0->datasets) (3.9.0)\n",
      "Requirement already satisfied: idna<4,>=2.5 in /Users/anthonyjaramillo/opt/anaconda3/envs/experimental/lib/python3.9/site-packages (from requests>=2.19.0->datasets) (3.4)\n",
      "Requirement already satisfied: urllib3<1.27,>=1.21.1 in /Users/anthonyjaramillo/opt/anaconda3/envs/experimental/lib/python3.9/site-packages (from requests>=2.19.0->datasets) (1.26.15)\n",
      "Requirement already satisfied: certifi>=2017.4.17 in /Users/anthonyjaramillo/opt/anaconda3/envs/experimental/lib/python3.9/site-packages (from requests>=2.19.0->datasets) (2022.12.7)\n",
      "Requirement already satisfied: python-dateutil>=2.8.1 in /Users/anthonyjaramillo/opt/anaconda3/envs/experimental/lib/python3.9/site-packages (from pandas->datasets) (2.8.2)\n",
      "Requirement already satisfied: pytz>=2020.1 in /Users/anthonyjaramillo/opt/anaconda3/envs/experimental/lib/python3.9/site-packages (from pandas->datasets) (2023.3)\n",
      "Requirement already satisfied: six>=1.5 in /Users/anthonyjaramillo/opt/anaconda3/envs/experimental/lib/python3.9/site-packages (from python-dateutil>=2.8.1->pandas->datasets) (1.16.0)\n",
      "Note: you may need to restart the kernel to use updated packages.\n",
      "Requirement already satisfied: chromadb in /Users/anthonyjaramillo/opt/anaconda3/envs/experimental/lib/python3.9/site-packages (0.3.18)\n",
      "Requirement already satisfied: uvicorn[standard]>=0.18.3 in /Users/anthonyjaramillo/opt/anaconda3/envs/experimental/lib/python3.9/site-packages (from chromadb) (0.21.1)\n",
      "Requirement already satisfied: requests>=2.28 in /Users/anthonyjaramillo/opt/anaconda3/envs/experimental/lib/python3.9/site-packages (from chromadb) (2.28.1)\n",
      "Requirement already satisfied: fastapi>=0.85.1 in /Users/anthonyjaramillo/opt/anaconda3/envs/experimental/lib/python3.9/site-packages (from chromadb) (0.95.0)\n",
      "Requirement already satisfied: pandas>=1.3 in /Users/anthonyjaramillo/opt/anaconda3/envs/experimental/lib/python3.9/site-packages (from chromadb) (1.5.3)\n",
      "Requirement already satisfied: pydantic>=1.9 in /Users/anthonyjaramillo/opt/anaconda3/envs/experimental/lib/python3.9/site-packages (from chromadb) (1.10.7)\n",
      "Requirement already satisfied: hnswlib>=0.7 in /Users/anthonyjaramillo/opt/anaconda3/envs/experimental/lib/python3.9/site-packages (from chromadb) (0.7.0)\n",
      "Requirement already satisfied: duckdb>=0.7.1 in /Users/anthonyjaramillo/opt/anaconda3/envs/experimental/lib/python3.9/site-packages (from chromadb) (0.7.1)\n",
      "Requirement already satisfied: posthog>=2.4.0 in /Users/anthonyjaramillo/opt/anaconda3/envs/experimental/lib/python3.9/site-packages (from chromadb) (2.4.2)\n",
      "Requirement already satisfied: clickhouse-connect>=0.5.7 in /Users/anthonyjaramillo/opt/anaconda3/envs/experimental/lib/python3.9/site-packages (from chromadb) (0.5.18)\n",
      "Requirement already satisfied: numpy>=1.21.6 in /Users/anthonyjaramillo/opt/anaconda3/envs/experimental/lib/python3.9/site-packages (from chromadb) (1.23.5)\n",
      "Requirement already satisfied: sentence-transformers>=2.2.2 in /Users/anthonyjaramillo/opt/anaconda3/envs/experimental/lib/python3.9/site-packages (from chromadb) (2.2.2)\n",
      "Requirement already satisfied: urllib3>=1.26 in /Users/anthonyjaramillo/opt/anaconda3/envs/experimental/lib/python3.9/site-packages (from clickhouse-connect>=0.5.7->chromadb) (1.26.15)\n",
      "Requirement already satisfied: certifi in /Users/anthonyjaramillo/opt/anaconda3/envs/experimental/lib/python3.9/site-packages (from clickhouse-connect>=0.5.7->chromadb) (2022.12.7)\n",
      "Requirement already satisfied: pytz in /Users/anthonyjaramillo/opt/anaconda3/envs/experimental/lib/python3.9/site-packages (from clickhouse-connect>=0.5.7->chromadb) (2023.3)\n",
      "Requirement already satisfied: zstandard in /Users/anthonyjaramillo/opt/anaconda3/envs/experimental/lib/python3.9/site-packages (from clickhouse-connect>=0.5.7->chromadb) (0.20.0)\n",
      "Requirement already satisfied: lz4 in /Users/anthonyjaramillo/opt/anaconda3/envs/experimental/lib/python3.9/site-packages (from clickhouse-connect>=0.5.7->chromadb) (4.3.2)\n",
      "Requirement already satisfied: starlette<0.27.0,>=0.26.1 in /Users/anthonyjaramillo/opt/anaconda3/envs/experimental/lib/python3.9/site-packages (from fastapi>=0.85.1->chromadb) (0.26.1)\n",
      "Requirement already satisfied: python-dateutil>=2.8.1 in /Users/anthonyjaramillo/opt/anaconda3/envs/experimental/lib/python3.9/site-packages (from pandas>=1.3->chromadb) (2.8.2)\n",
      "Requirement already satisfied: monotonic>=1.5 in /Users/anthonyjaramillo/opt/anaconda3/envs/experimental/lib/python3.9/site-packages (from posthog>=2.4.0->chromadb) (1.6)\n",
      "Requirement already satisfied: six>=1.5 in /Users/anthonyjaramillo/opt/anaconda3/envs/experimental/lib/python3.9/site-packages (from posthog>=2.4.0->chromadb) (1.16.0)\n",
      "Requirement already satisfied: backoff>=1.10.0 in /Users/anthonyjaramillo/opt/anaconda3/envs/experimental/lib/python3.9/site-packages (from posthog>=2.4.0->chromadb) (2.2.1)\n",
      "Requirement already satisfied: typing-extensions>=4.2.0 in /Users/anthonyjaramillo/opt/anaconda3/envs/experimental/lib/python3.9/site-packages (from pydantic>=1.9->chromadb) (4.5.0)\n",
      "Requirement already satisfied: charset-normalizer<3,>=2 in /Users/anthonyjaramillo/opt/anaconda3/envs/experimental/lib/python3.9/site-packages (from requests>=2.28->chromadb) (2.0.4)\n",
      "Requirement already satisfied: idna<4,>=2.5 in /Users/anthonyjaramillo/opt/anaconda3/envs/experimental/lib/python3.9/site-packages (from requests>=2.28->chromadb) (3.4)\n",
      "Requirement already satisfied: scipy in /Users/anthonyjaramillo/opt/anaconda3/envs/experimental/lib/python3.9/site-packages (from sentence-transformers>=2.2.2->chromadb) (1.10.1)\n",
      "Requirement already satisfied: sentencepiece in /Users/anthonyjaramillo/opt/anaconda3/envs/experimental/lib/python3.9/site-packages (from sentence-transformers>=2.2.2->chromadb) (0.1.97)\n",
      "Requirement already satisfied: torchvision in /Users/anthonyjaramillo/opt/anaconda3/envs/experimental/lib/python3.9/site-packages (from sentence-transformers>=2.2.2->chromadb) (0.15.0)\n",
      "Requirement already satisfied: nltk in /Users/anthonyjaramillo/opt/anaconda3/envs/experimental/lib/python3.9/site-packages (from sentence-transformers>=2.2.2->chromadb) (3.8.1)\n",
      "Requirement already satisfied: torch>=1.6.0 in /Users/anthonyjaramillo/opt/anaconda3/envs/experimental/lib/python3.9/site-packages (from sentence-transformers>=2.2.2->chromadb) (2.0.0)\n",
      "Requirement already satisfied: scikit-learn in /Users/anthonyjaramillo/opt/anaconda3/envs/experimental/lib/python3.9/site-packages (from sentence-transformers>=2.2.2->chromadb) (1.2.2)\n",
      "Requirement already satisfied: tqdm in /Users/anthonyjaramillo/opt/anaconda3/envs/experimental/lib/python3.9/site-packages (from sentence-transformers>=2.2.2->chromadb) (4.65.0)\n",
      "Requirement already satisfied: transformers<5.0.0,>=4.6.0 in /Users/anthonyjaramillo/opt/anaconda3/envs/experimental/lib/python3.9/site-packages (from sentence-transformers>=2.2.2->chromadb) (4.27.4)\n",
      "Requirement already satisfied: huggingface-hub>=0.4.0 in /Users/anthonyjaramillo/opt/anaconda3/envs/experimental/lib/python3.9/site-packages (from sentence-transformers>=2.2.2->chromadb) (0.13.3)\n",
      "Requirement already satisfied: click>=7.0 in /Users/anthonyjaramillo/opt/anaconda3/envs/experimental/lib/python3.9/site-packages (from uvicorn[standard]>=0.18.3->chromadb) (8.1.3)\n",
      "Requirement already satisfied: h11>=0.8 in /Users/anthonyjaramillo/opt/anaconda3/envs/experimental/lib/python3.9/site-packages (from uvicorn[standard]>=0.18.3->chromadb) (0.14.0)\n",
      "Requirement already satisfied: httptools>=0.5.0 in /Users/anthonyjaramillo/opt/anaconda3/envs/experimental/lib/python3.9/site-packages (from uvicorn[standard]>=0.18.3->chromadb) (0.5.0)\n",
      "Requirement already satisfied: python-dotenv>=0.13 in /Users/anthonyjaramillo/opt/anaconda3/envs/experimental/lib/python3.9/site-packages (from uvicorn[standard]>=0.18.3->chromadb) (1.0.0)\n",
      "Requirement already satisfied: websockets>=10.4 in /Users/anthonyjaramillo/opt/anaconda3/envs/experimental/lib/python3.9/site-packages (from uvicorn[standard]>=0.18.3->chromadb) (10.4)\n",
      "Requirement already satisfied: pyyaml>=5.1 in /Users/anthonyjaramillo/opt/anaconda3/envs/experimental/lib/python3.9/site-packages (from uvicorn[standard]>=0.18.3->chromadb) (6.0)\n",
      "Requirement already satisfied: watchfiles>=0.13 in /Users/anthonyjaramillo/opt/anaconda3/envs/experimental/lib/python3.9/site-packages (from uvicorn[standard]>=0.18.3->chromadb) (0.19.0)\n",
      "Requirement already satisfied: uvloop!=0.15.0,!=0.15.1,>=0.14.0 in /Users/anthonyjaramillo/opt/anaconda3/envs/experimental/lib/python3.9/site-packages (from uvicorn[standard]>=0.18.3->chromadb) (0.17.0)\n",
      "Requirement already satisfied: packaging>=20.9 in /Users/anthonyjaramillo/opt/anaconda3/envs/experimental/lib/python3.9/site-packages (from huggingface-hub>=0.4.0->sentence-transformers>=2.2.2->chromadb) (23.0)\n",
      "Requirement already satisfied: filelock in /Users/anthonyjaramillo/opt/anaconda3/envs/experimental/lib/python3.9/site-packages (from huggingface-hub>=0.4.0->sentence-transformers>=2.2.2->chromadb) (3.9.0)\n",
      "Requirement already satisfied: anyio<5,>=3.4.0 in /Users/anthonyjaramillo/opt/anaconda3/envs/experimental/lib/python3.9/site-packages (from starlette<0.27.0,>=0.26.1->fastapi>=0.85.1->chromadb) (3.5.0)\n",
      "Requirement already satisfied: sympy in /Users/anthonyjaramillo/opt/anaconda3/envs/experimental/lib/python3.9/site-packages (from torch>=1.6.0->sentence-transformers>=2.2.2->chromadb) (1.11.1)\n",
      "Requirement already satisfied: networkx in /Users/anthonyjaramillo/opt/anaconda3/envs/experimental/lib/python3.9/site-packages (from torch>=1.6.0->sentence-transformers>=2.2.2->chromadb) (2.8.4)\n",
      "Requirement already satisfied: jinja2 in /Users/anthonyjaramillo/opt/anaconda3/envs/experimental/lib/python3.9/site-packages (from torch>=1.6.0->sentence-transformers>=2.2.2->chromadb) (3.1.2)\n",
      "Requirement already satisfied: tokenizers!=0.11.3,<0.14,>=0.11.1 in /Users/anthonyjaramillo/opt/anaconda3/envs/experimental/lib/python3.9/site-packages (from transformers<5.0.0,>=4.6.0->sentence-transformers>=2.2.2->chromadb) (0.13.2)\n",
      "Requirement already satisfied: regex!=2019.12.17 in /Users/anthonyjaramillo/opt/anaconda3/envs/experimental/lib/python3.9/site-packages (from transformers<5.0.0,>=4.6.0->sentence-transformers>=2.2.2->chromadb) (2023.3.23)\n",
      "Requirement already satisfied: joblib in /Users/anthonyjaramillo/opt/anaconda3/envs/experimental/lib/python3.9/site-packages (from nltk->sentence-transformers>=2.2.2->chromadb) (1.2.0)\n",
      "Requirement already satisfied: threadpoolctl>=2.0.0 in /Users/anthonyjaramillo/opt/anaconda3/envs/experimental/lib/python3.9/site-packages (from scikit-learn->sentence-transformers>=2.2.2->chromadb) (3.1.0)\n",
      "Requirement already satisfied: pillow!=8.3.*,>=5.3.0 in /Users/anthonyjaramillo/opt/anaconda3/envs/experimental/lib/python3.9/site-packages (from torchvision->sentence-transformers>=2.2.2->chromadb) (9.4.0)\n",
      "Requirement already satisfied: sniffio>=1.1 in /Users/anthonyjaramillo/opt/anaconda3/envs/experimental/lib/python3.9/site-packages (from anyio<5,>=3.4.0->starlette<0.27.0,>=0.26.1->fastapi>=0.85.1->chromadb) (1.2.0)\n",
      "Requirement already satisfied: MarkupSafe>=2.0 in /Users/anthonyjaramillo/opt/anaconda3/envs/experimental/lib/python3.9/site-packages (from jinja2->torch>=1.6.0->sentence-transformers>=2.2.2->chromadb) (2.1.1)\n",
      "Requirement already satisfied: mpmath>=0.19 in /Users/anthonyjaramillo/opt/anaconda3/envs/experimental/lib/python3.9/site-packages (from sympy->torch>=1.6.0->sentence-transformers>=2.2.2->chromadb) (1.2.1)\n",
      "Note: you may need to restart the kernel to use updated packages.\n",
      "Requirement already satisfied: pandas in /Users/anthonyjaramillo/opt/anaconda3/envs/experimental/lib/python3.9/site-packages (1.5.3)\n",
      "Requirement already satisfied: python-dateutil>=2.8.1 in /Users/anthonyjaramillo/opt/anaconda3/envs/experimental/lib/python3.9/site-packages (from pandas) (2.8.2)\n",
      "Requirement already satisfied: pytz>=2020.1 in /Users/anthonyjaramillo/opt/anaconda3/envs/experimental/lib/python3.9/site-packages (from pandas) (2023.3)\n",
      "Requirement already satisfied: numpy>=1.20.3 in /Users/anthonyjaramillo/opt/anaconda3/envs/experimental/lib/python3.9/site-packages (from pandas) (1.23.5)\n",
      "Requirement already satisfied: six>=1.5 in /Users/anthonyjaramillo/opt/anaconda3/envs/experimental/lib/python3.9/site-packages (from python-dateutil>=2.8.1->pandas) (1.16.0)\n",
      "Note: you may need to restart the kernel to use updated packages.\n",
      "Requirement already satisfied: python-dotenv in /Users/anthonyjaramillo/opt/anaconda3/envs/experimental/lib/python3.9/site-packages (1.0.0)\n",
      "Note: you may need to restart the kernel to use updated packages.\n",
      "Requirement already satisfied: spacy in /Users/anthonyjaramillo/opt/anaconda3/envs/experimental/lib/python3.9/site-packages (3.5.1)\n",
      "Requirement already satisfied: murmurhash<1.1.0,>=0.28.0 in /Users/anthonyjaramillo/opt/anaconda3/envs/experimental/lib/python3.9/site-packages (from spacy) (1.0.9)\n",
      "Requirement already satisfied: packaging>=20.0 in /Users/anthonyjaramillo/opt/anaconda3/envs/experimental/lib/python3.9/site-packages (from spacy) (23.0)\n",
      "Requirement already satisfied: jinja2 in /Users/anthonyjaramillo/opt/anaconda3/envs/experimental/lib/python3.9/site-packages (from spacy) (3.1.2)\n",
      "Requirement already satisfied: catalogue<2.1.0,>=2.0.6 in /Users/anthonyjaramillo/opt/anaconda3/envs/experimental/lib/python3.9/site-packages (from spacy) (2.0.8)\n",
      "Requirement already satisfied: requests<3.0.0,>=2.13.0 in /Users/anthonyjaramillo/opt/anaconda3/envs/experimental/lib/python3.9/site-packages (from spacy) (2.28.1)\n",
      "Requirement already satisfied: setuptools in /Users/anthonyjaramillo/opt/anaconda3/envs/experimental/lib/python3.9/site-packages (from spacy) (67.6.1)\n",
      "Requirement already satisfied: spacy-loggers<2.0.0,>=1.0.0 in /Users/anthonyjaramillo/opt/anaconda3/envs/experimental/lib/python3.9/site-packages (from spacy) (1.0.4)\n",
      "Requirement already satisfied: thinc<8.2.0,>=8.1.8 in /Users/anthonyjaramillo/opt/anaconda3/envs/experimental/lib/python3.9/site-packages (from spacy) (8.1.9)\n",
      "Requirement already satisfied: wasabi<1.2.0,>=0.9.1 in /Users/anthonyjaramillo/opt/anaconda3/envs/experimental/lib/python3.9/site-packages (from spacy) (1.1.1)\n",
      "Requirement already satisfied: spacy-legacy<3.1.0,>=3.0.11 in /Users/anthonyjaramillo/opt/anaconda3/envs/experimental/lib/python3.9/site-packages (from spacy) (3.0.12)\n",
      "Requirement already satisfied: numpy>=1.15.0 in /Users/anthonyjaramillo/opt/anaconda3/envs/experimental/lib/python3.9/site-packages (from spacy) (1.23.5)\n",
      "Requirement already satisfied: pydantic!=1.8,!=1.8.1,<1.11.0,>=1.7.4 in /Users/anthonyjaramillo/opt/anaconda3/envs/experimental/lib/python3.9/site-packages (from spacy) (1.10.7)\n",
      "Requirement already satisfied: srsly<3.0.0,>=2.4.3 in /Users/anthonyjaramillo/opt/anaconda3/envs/experimental/lib/python3.9/site-packages (from spacy) (2.4.6)\n",
      "Requirement already satisfied: typer<0.8.0,>=0.3.0 in /Users/anthonyjaramillo/opt/anaconda3/envs/experimental/lib/python3.9/site-packages (from spacy) (0.7.0)\n",
      "Requirement already satisfied: langcodes<4.0.0,>=3.2.0 in /Users/anthonyjaramillo/opt/anaconda3/envs/experimental/lib/python3.9/site-packages (from spacy) (3.3.0)\n",
      "Requirement already satisfied: smart-open<7.0.0,>=5.2.1 in /Users/anthonyjaramillo/opt/anaconda3/envs/experimental/lib/python3.9/site-packages (from spacy) (6.3.0)\n",
      "Requirement already satisfied: cymem<2.1.0,>=2.0.2 in /Users/anthonyjaramillo/opt/anaconda3/envs/experimental/lib/python3.9/site-packages (from spacy) (2.0.7)\n",
      "Requirement already satisfied: tqdm<5.0.0,>=4.38.0 in /Users/anthonyjaramillo/opt/anaconda3/envs/experimental/lib/python3.9/site-packages (from spacy) (4.65.0)\n",
      "Requirement already satisfied: pathy>=0.10.0 in /Users/anthonyjaramillo/opt/anaconda3/envs/experimental/lib/python3.9/site-packages (from spacy) (0.10.1)\n",
      "Requirement already satisfied: preshed<3.1.0,>=3.0.2 in /Users/anthonyjaramillo/opt/anaconda3/envs/experimental/lib/python3.9/site-packages (from spacy) (3.0.8)\n",
      "Requirement already satisfied: typing-extensions>=4.2.0 in /Users/anthonyjaramillo/opt/anaconda3/envs/experimental/lib/python3.9/site-packages (from pydantic!=1.8,!=1.8.1,<1.11.0,>=1.7.4->spacy) (4.5.0)\n",
      "Requirement already satisfied: idna<4,>=2.5 in /Users/anthonyjaramillo/opt/anaconda3/envs/experimental/lib/python3.9/site-packages (from requests<3.0.0,>=2.13.0->spacy) (3.4)\n",
      "Requirement already satisfied: certifi>=2017.4.17 in /Users/anthonyjaramillo/opt/anaconda3/envs/experimental/lib/python3.9/site-packages (from requests<3.0.0,>=2.13.0->spacy) (2022.12.7)\n",
      "Requirement already satisfied: urllib3<1.27,>=1.21.1 in /Users/anthonyjaramillo/opt/anaconda3/envs/experimental/lib/python3.9/site-packages (from requests<3.0.0,>=2.13.0->spacy) (1.26.15)\n",
      "Requirement already satisfied: charset-normalizer<3,>=2 in /Users/anthonyjaramillo/opt/anaconda3/envs/experimental/lib/python3.9/site-packages (from requests<3.0.0,>=2.13.0->spacy) (2.0.4)\n",
      "Requirement already satisfied: confection<1.0.0,>=0.0.1 in /Users/anthonyjaramillo/opt/anaconda3/envs/experimental/lib/python3.9/site-packages (from thinc<8.2.0,>=8.1.8->spacy) (0.0.4)\n",
      "Requirement already satisfied: blis<0.8.0,>=0.7.8 in /Users/anthonyjaramillo/opt/anaconda3/envs/experimental/lib/python3.9/site-packages (from thinc<8.2.0,>=8.1.8->spacy) (0.7.9)\n",
      "Requirement already satisfied: click<9.0.0,>=7.1.1 in /Users/anthonyjaramillo/opt/anaconda3/envs/experimental/lib/python3.9/site-packages (from typer<0.8.0,>=0.3.0->spacy) (8.1.3)\n",
      "Requirement already satisfied: MarkupSafe>=2.0 in /Users/anthonyjaramillo/opt/anaconda3/envs/experimental/lib/python3.9/site-packages (from jinja2->spacy) (2.1.1)\n",
      "Note: you may need to restart the kernel to use updated packages.\n",
      "Requirement already satisfied: chardet in /Users/anthonyjaramillo/opt/anaconda3/envs/experimental/lib/python3.9/site-packages (5.1.0)\n",
      "Note: you may need to restart the kernel to use updated packages.\n",
      "Requirement already satisfied: unstructured[local-inference] in /Users/anthonyjaramillo/opt/anaconda3/envs/experimental/lib/python3.9/site-packages (0.5.8)\n",
      "Requirement already satisfied: openpyxl in /Users/anthonyjaramillo/opt/anaconda3/envs/experimental/lib/python3.9/site-packages (from unstructured[local-inference]) (3.1.2)\n",
      "Requirement already satisfied: lxml in /Users/anthonyjaramillo/opt/anaconda3/envs/experimental/lib/python3.9/site-packages (from unstructured[local-inference]) (4.9.2)\n",
      "Requirement already satisfied: pandas in /Users/anthonyjaramillo/opt/anaconda3/envs/experimental/lib/python3.9/site-packages (from unstructured[local-inference]) (1.5.3)\n",
      "Requirement already satisfied: pypandoc in /Users/anthonyjaramillo/opt/anaconda3/envs/experimental/lib/python3.9/site-packages (from unstructured[local-inference]) (1.11)\n",
      "Requirement already satisfied: python-docx in /Users/anthonyjaramillo/opt/anaconda3/envs/experimental/lib/python3.9/site-packages (from unstructured[local-inference]) (0.8.11)\n",
      "Requirement already satisfied: msg-parser in /Users/anthonyjaramillo/opt/anaconda3/envs/experimental/lib/python3.9/site-packages (from unstructured[local-inference]) (1.2.0)\n",
      "Requirement already satisfied: pillow in /Users/anthonyjaramillo/opt/anaconda3/envs/experimental/lib/python3.9/site-packages (from unstructured[local-inference]) (9.4.0)\n",
      "Requirement already satisfied: python-magic in /Users/anthonyjaramillo/opt/anaconda3/envs/experimental/lib/python3.9/site-packages (from unstructured[local-inference]) (0.4.27)\n",
      "Requirement already satisfied: certifi>=2022.12.07 in /Users/anthonyjaramillo/opt/anaconda3/envs/experimental/lib/python3.9/site-packages (from unstructured[local-inference]) (2022.12.7)\n",
      "Requirement already satisfied: requests in /Users/anthonyjaramillo/opt/anaconda3/envs/experimental/lib/python3.9/site-packages (from unstructured[local-inference]) (2.28.1)\n",
      "Requirement already satisfied: argilla in /Users/anthonyjaramillo/opt/anaconda3/envs/experimental/lib/python3.9/site-packages (from unstructured[local-inference]) (1.5.1)\n",
      "Requirement already satisfied: markdown in /Users/anthonyjaramillo/opt/anaconda3/envs/experimental/lib/python3.9/site-packages (from unstructured[local-inference]) (3.4.3)\n",
      "Requirement already satisfied: nltk in /Users/anthonyjaramillo/opt/anaconda3/envs/experimental/lib/python3.9/site-packages (from unstructured[local-inference]) (3.8.1)\n",
      "Requirement already satisfied: python-pptx in /Users/anthonyjaramillo/opt/anaconda3/envs/experimental/lib/python3.9/site-packages (from unstructured[local-inference]) (0.6.21)\n",
      "Requirement already satisfied: unstructured-inference~=0.2.4 in /Users/anthonyjaramillo/opt/anaconda3/envs/experimental/lib/python3.9/site-packages (from unstructured[local-inference]) (0.2.14)\n",
      "Requirement already satisfied: onnxruntime in /Users/anthonyjaramillo/opt/anaconda3/envs/experimental/lib/python3.9/site-packages (from unstructured-inference~=0.2.4->unstructured[local-inference]) (1.14.1)\n",
      "Requirement already satisfied: transformers in /Users/anthonyjaramillo/opt/anaconda3/envs/experimental/lib/python3.9/site-packages (from unstructured-inference~=0.2.4->unstructured[local-inference]) (4.27.4)\n",
      "Requirement already satisfied: huggingface-hub in /Users/anthonyjaramillo/opt/anaconda3/envs/experimental/lib/python3.9/site-packages (from unstructured-inference~=0.2.4->unstructured[local-inference]) (0.13.3)\n",
      "Requirement already satisfied: opencv-python==4.6.0.66 in /Users/anthonyjaramillo/opt/anaconda3/envs/experimental/lib/python3.9/site-packages (from unstructured-inference~=0.2.4->unstructured[local-inference]) (4.6.0.66)\n",
      "Requirement already satisfied: fastapi in /Users/anthonyjaramillo/opt/anaconda3/envs/experimental/lib/python3.9/site-packages (from unstructured-inference~=0.2.4->unstructured[local-inference]) (0.95.0)\n",
      "Requirement already satisfied: uvicorn in /Users/anthonyjaramillo/opt/anaconda3/envs/experimental/lib/python3.9/site-packages (from unstructured-inference~=0.2.4->unstructured[local-inference]) (0.21.1)\n",
      "Requirement already satisfied: layoutparser[layoutmodels,tesseract] in /Users/anthonyjaramillo/opt/anaconda3/envs/experimental/lib/python3.9/site-packages (from unstructured-inference~=0.2.4->unstructured[local-inference]) (0.3.4)\n",
      "Requirement already satisfied: python-multipart in /Users/anthonyjaramillo/opt/anaconda3/envs/experimental/lib/python3.9/site-packages (from unstructured-inference~=0.2.4->unstructured[local-inference]) (0.0.6)\n",
      "Requirement already satisfied: numpy>=1.14.5 in /Users/anthonyjaramillo/opt/anaconda3/envs/experimental/lib/python3.9/site-packages (from opencv-python==4.6.0.66->unstructured-inference~=0.2.4->unstructured[local-inference]) (1.23.5)\n",
      "Requirement already satisfied: rich<=13.0.1 in /Users/anthonyjaramillo/opt/anaconda3/envs/experimental/lib/python3.9/site-packages (from argilla->unstructured[local-inference]) (13.0.1)\n",
      "Requirement already satisfied: packaging>=20.0 in /Users/anthonyjaramillo/opt/anaconda3/envs/experimental/lib/python3.9/site-packages (from argilla->unstructured[local-inference]) (23.0)\n",
      "Requirement already satisfied: backoff in /Users/anthonyjaramillo/opt/anaconda3/envs/experimental/lib/python3.9/site-packages (from argilla->unstructured[local-inference]) (2.2.1)\n",
      "Requirement already satisfied: monotonic in /Users/anthonyjaramillo/opt/anaconda3/envs/experimental/lib/python3.9/site-packages (from argilla->unstructured[local-inference]) (1.6)\n",
      "Requirement already satisfied: httpx<0.24,>=0.15 in /Users/anthonyjaramillo/opt/anaconda3/envs/experimental/lib/python3.9/site-packages (from argilla->unstructured[local-inference]) (0.23.3)\n",
      "Requirement already satisfied: pydantic>=1.7.1 in /Users/anthonyjaramillo/opt/anaconda3/envs/experimental/lib/python3.9/site-packages (from argilla->unstructured[local-inference]) (1.10.7)\n",
      "Requirement already satisfied: wrapt<1.15,>=1.13 in /Users/anthonyjaramillo/opt/anaconda3/envs/experimental/lib/python3.9/site-packages (from argilla->unstructured[local-inference]) (1.14.1)\n",
      "Requirement already satisfied: deprecated~=1.2.0 in /Users/anthonyjaramillo/opt/anaconda3/envs/experimental/lib/python3.9/site-packages (from argilla->unstructured[local-inference]) (1.2.13)\n",
      "Requirement already satisfied: tqdm>=4.27.0 in /Users/anthonyjaramillo/opt/anaconda3/envs/experimental/lib/python3.9/site-packages (from argilla->unstructured[local-inference]) (4.65.0)\n",
      "Requirement already satisfied: pytz>=2020.1 in /Users/anthonyjaramillo/opt/anaconda3/envs/experimental/lib/python3.9/site-packages (from pandas->unstructured[local-inference]) (2023.3)\n",
      "Requirement already satisfied: python-dateutil>=2.8.1 in /Users/anthonyjaramillo/opt/anaconda3/envs/experimental/lib/python3.9/site-packages (from pandas->unstructured[local-inference]) (2.8.2)\n",
      "Requirement already satisfied: importlib-metadata>=4.4 in /Users/anthonyjaramillo/opt/anaconda3/envs/experimental/lib/python3.9/site-packages (from markdown->unstructured[local-inference]) (6.0.0)\n",
      "Requirement already satisfied: olefile>=0.46 in /Users/anthonyjaramillo/opt/anaconda3/envs/experimental/lib/python3.9/site-packages (from msg-parser->unstructured[local-inference]) (0.46)\n",
      "Requirement already satisfied: click in /Users/anthonyjaramillo/opt/anaconda3/envs/experimental/lib/python3.9/site-packages (from nltk->unstructured[local-inference]) (8.1.3)\n",
      "Requirement already satisfied: joblib in /Users/anthonyjaramillo/opt/anaconda3/envs/experimental/lib/python3.9/site-packages (from nltk->unstructured[local-inference]) (1.2.0)\n",
      "Requirement already satisfied: regex>=2021.8.3 in /Users/anthonyjaramillo/opt/anaconda3/envs/experimental/lib/python3.9/site-packages (from nltk->unstructured[local-inference]) (2023.3.23)\n",
      "Requirement already satisfied: et-xmlfile in /Users/anthonyjaramillo/opt/anaconda3/envs/experimental/lib/python3.9/site-packages (from openpyxl->unstructured[local-inference]) (1.1.0)\n",
      "Requirement already satisfied: XlsxWriter>=0.5.7 in /Users/anthonyjaramillo/opt/anaconda3/envs/experimental/lib/python3.9/site-packages (from python-pptx->unstructured[local-inference]) (3.0.9)\n",
      "Requirement already satisfied: charset-normalizer<3,>=2 in /Users/anthonyjaramillo/opt/anaconda3/envs/experimental/lib/python3.9/site-packages (from requests->unstructured[local-inference]) (2.0.4)\n",
      "Requirement already satisfied: urllib3<1.27,>=1.21.1 in /Users/anthonyjaramillo/opt/anaconda3/envs/experimental/lib/python3.9/site-packages (from requests->unstructured[local-inference]) (1.26.15)\n",
      "Requirement already satisfied: idna<4,>=2.5 in /Users/anthonyjaramillo/opt/anaconda3/envs/experimental/lib/python3.9/site-packages (from requests->unstructured[local-inference]) (3.4)\n",
      "Requirement already satisfied: rfc3986[idna2008]<2,>=1.3 in /Users/anthonyjaramillo/opt/anaconda3/envs/experimental/lib/python3.9/site-packages (from httpx<0.24,>=0.15->argilla->unstructured[local-inference]) (1.5.0)\n",
      "Requirement already satisfied: sniffio in /Users/anthonyjaramillo/opt/anaconda3/envs/experimental/lib/python3.9/site-packages (from httpx<0.24,>=0.15->argilla->unstructured[local-inference]) (1.2.0)\n",
      "Requirement already satisfied: httpcore<0.17.0,>=0.15.0 in /Users/anthonyjaramillo/opt/anaconda3/envs/experimental/lib/python3.9/site-packages (from httpx<0.24,>=0.15->argilla->unstructured[local-inference]) (0.16.3)\n",
      "Requirement already satisfied: zipp>=0.5 in /Users/anthonyjaramillo/opt/anaconda3/envs/experimental/lib/python3.9/site-packages (from importlib-metadata>=4.4->markdown->unstructured[local-inference]) (3.11.0)\n",
      "Requirement already satisfied: typing-extensions>=4.2.0 in /Users/anthonyjaramillo/opt/anaconda3/envs/experimental/lib/python3.9/site-packages (from pydantic>=1.7.1->argilla->unstructured[local-inference]) (4.5.0)\n",
      "Requirement already satisfied: six>=1.5 in /Users/anthonyjaramillo/opt/anaconda3/envs/experimental/lib/python3.9/site-packages (from python-dateutil>=2.8.1->pandas->unstructured[local-inference]) (1.16.0)\n",
      "Requirement already satisfied: commonmark<0.10.0,>=0.9.0 in /Users/anthonyjaramillo/opt/anaconda3/envs/experimental/lib/python3.9/site-packages (from rich<=13.0.1->argilla->unstructured[local-inference]) (0.9.1)\n",
      "Requirement already satisfied: pygments<3.0.0,>=2.6.0 in /Users/anthonyjaramillo/opt/anaconda3/envs/experimental/lib/python3.9/site-packages (from rich<=13.0.1->argilla->unstructured[local-inference]) (2.11.2)\n",
      "Requirement already satisfied: starlette<0.27.0,>=0.26.1 in /Users/anthonyjaramillo/opt/anaconda3/envs/experimental/lib/python3.9/site-packages (from fastapi->unstructured-inference~=0.2.4->unstructured[local-inference]) (0.26.1)\n",
      "Requirement already satisfied: pyyaml>=5.1 in /Users/anthonyjaramillo/opt/anaconda3/envs/experimental/lib/python3.9/site-packages (from huggingface-hub->unstructured-inference~=0.2.4->unstructured[local-inference]) (6.0)\n",
      "Requirement already satisfied: filelock in /Users/anthonyjaramillo/opt/anaconda3/envs/experimental/lib/python3.9/site-packages (from huggingface-hub->unstructured-inference~=0.2.4->unstructured[local-inference]) (3.9.0)\n",
      "Requirement already satisfied: pdfplumber in /Users/anthonyjaramillo/opt/anaconda3/envs/experimental/lib/python3.9/site-packages (from layoutparser[layoutmodels,tesseract]->unstructured-inference~=0.2.4->unstructured[local-inference]) (0.8.0)\n",
      "Requirement already satisfied: pdf2image in /Users/anthonyjaramillo/opt/anaconda3/envs/experimental/lib/python3.9/site-packages (from layoutparser[layoutmodels,tesseract]->unstructured-inference~=0.2.4->unstructured[local-inference]) (1.16.3)\n",
      "Requirement already satisfied: scipy in /Users/anthonyjaramillo/opt/anaconda3/envs/experimental/lib/python3.9/site-packages (from layoutparser[layoutmodels,tesseract]->unstructured-inference~=0.2.4->unstructured[local-inference]) (1.10.1)\n",
      "Requirement already satisfied: iopath in /Users/anthonyjaramillo/opt/anaconda3/envs/experimental/lib/python3.9/site-packages (from layoutparser[layoutmodels,tesseract]->unstructured-inference~=0.2.4->unstructured[local-inference]) (0.1.9)\n",
      "Requirement already satisfied: pytesseract in /Users/anthonyjaramillo/opt/anaconda3/envs/experimental/lib/python3.9/site-packages (from layoutparser[layoutmodels,tesseract]->unstructured-inference~=0.2.4->unstructured[local-inference]) (0.3.10)\n",
      "Requirement already satisfied: torch in /Users/anthonyjaramillo/opt/anaconda3/envs/experimental/lib/python3.9/site-packages (from layoutparser[layoutmodels,tesseract]->unstructured-inference~=0.2.4->unstructured[local-inference]) (2.0.0)\n",
      "Requirement already satisfied: torchvision in /Users/anthonyjaramillo/opt/anaconda3/envs/experimental/lib/python3.9/site-packages (from layoutparser[layoutmodels,tesseract]->unstructured-inference~=0.2.4->unstructured[local-inference]) (0.15.0)\n",
      "Requirement already satisfied: effdet in /Users/anthonyjaramillo/opt/anaconda3/envs/experimental/lib/python3.9/site-packages (from layoutparser[layoutmodels,tesseract]->unstructured-inference~=0.2.4->unstructured[local-inference]) (0.3.0)\n",
      "Requirement already satisfied: protobuf in /Users/anthonyjaramillo/opt/anaconda3/envs/experimental/lib/python3.9/site-packages (from onnxruntime->unstructured-inference~=0.2.4->unstructured[local-inference]) (4.22.1)\n",
      "Requirement already satisfied: coloredlogs in /Users/anthonyjaramillo/opt/anaconda3/envs/experimental/lib/python3.9/site-packages (from onnxruntime->unstructured-inference~=0.2.4->unstructured[local-inference]) (15.0.1)\n",
      "Requirement already satisfied: sympy in /Users/anthonyjaramillo/opt/anaconda3/envs/experimental/lib/python3.9/site-packages (from onnxruntime->unstructured-inference~=0.2.4->unstructured[local-inference]) (1.11.1)\n",
      "Requirement already satisfied: flatbuffers in /Users/anthonyjaramillo/opt/anaconda3/envs/experimental/lib/python3.9/site-packages (from onnxruntime->unstructured-inference~=0.2.4->unstructured[local-inference]) (23.3.3)\n",
      "Requirement already satisfied: tokenizers!=0.11.3,<0.14,>=0.11.1 in /Users/anthonyjaramillo/opt/anaconda3/envs/experimental/lib/python3.9/site-packages (from transformers->unstructured-inference~=0.2.4->unstructured[local-inference]) (0.13.2)\n",
      "Requirement already satisfied: h11>=0.8 in /Users/anthonyjaramillo/opt/anaconda3/envs/experimental/lib/python3.9/site-packages (from uvicorn->unstructured-inference~=0.2.4->unstructured[local-inference]) (0.14.0)\n",
      "Requirement already satisfied: anyio<5.0,>=3.0 in /Users/anthonyjaramillo/opt/anaconda3/envs/experimental/lib/python3.9/site-packages (from httpcore<0.17.0,>=0.15.0->httpx<0.24,>=0.15->argilla->unstructured[local-inference]) (3.5.0)\n",
      "Requirement already satisfied: humanfriendly>=9.1 in /Users/anthonyjaramillo/opt/anaconda3/envs/experimental/lib/python3.9/site-packages (from coloredlogs->onnxruntime->unstructured-inference~=0.2.4->unstructured[local-inference]) (10.0)\n",
      "Requirement already satisfied: omegaconf>=2.0 in /Users/anthonyjaramillo/opt/anaconda3/envs/experimental/lib/python3.9/site-packages (from effdet->layoutparser[layoutmodels,tesseract]->unstructured-inference~=0.2.4->unstructured[local-inference]) (2.3.0)\n",
      "Requirement already satisfied: timm>=0.4.12 in /Users/anthonyjaramillo/opt/anaconda3/envs/experimental/lib/python3.9/site-packages (from effdet->layoutparser[layoutmodels,tesseract]->unstructured-inference~=0.2.4->unstructured[local-inference]) (0.6.13)\n",
      "Requirement already satisfied: pycocotools>=2.0.2 in /Users/anthonyjaramillo/opt/anaconda3/envs/experimental/lib/python3.9/site-packages (from effdet->layoutparser[layoutmodels,tesseract]->unstructured-inference~=0.2.4->unstructured[local-inference]) (2.0.6)\n",
      "Requirement already satisfied: networkx in /Users/anthonyjaramillo/opt/anaconda3/envs/experimental/lib/python3.9/site-packages (from torch->layoutparser[layoutmodels,tesseract]->unstructured-inference~=0.2.4->unstructured[local-inference]) (2.8.4)\n",
      "Requirement already satisfied: jinja2 in /Users/anthonyjaramillo/opt/anaconda3/envs/experimental/lib/python3.9/site-packages (from torch->layoutparser[layoutmodels,tesseract]->unstructured-inference~=0.2.4->unstructured[local-inference]) (3.1.2)\n",
      "Requirement already satisfied: portalocker in /Users/anthonyjaramillo/opt/anaconda3/envs/experimental/lib/python3.9/site-packages (from iopath->layoutparser[layoutmodels,tesseract]->unstructured-inference~=0.2.4->unstructured[local-inference]) (2.7.0)\n",
      "Requirement already satisfied: pdfminer.six==20221105 in /Users/anthonyjaramillo/opt/anaconda3/envs/experimental/lib/python3.9/site-packages (from pdfplumber->layoutparser[layoutmodels,tesseract]->unstructured-inference~=0.2.4->unstructured[local-inference]) (20221105)\n",
      "Requirement already satisfied: Wand>=0.6.10 in /Users/anthonyjaramillo/opt/anaconda3/envs/experimental/lib/python3.9/site-packages (from pdfplumber->layoutparser[layoutmodels,tesseract]->unstructured-inference~=0.2.4->unstructured[local-inference]) (0.6.11)\n",
      "Requirement already satisfied: cryptography>=36.0.0 in /Users/anthonyjaramillo/opt/anaconda3/envs/experimental/lib/python3.9/site-packages (from pdfminer.six==20221105->pdfplumber->layoutparser[layoutmodels,tesseract]->unstructured-inference~=0.2.4->unstructured[local-inference]) (39.0.1)\n",
      "Requirement already satisfied: mpmath>=0.19 in /Users/anthonyjaramillo/opt/anaconda3/envs/experimental/lib/python3.9/site-packages (from sympy->onnxruntime->unstructured-inference~=0.2.4->unstructured[local-inference]) (1.2.1)\n",
      "Requirement already satisfied: antlr4-python3-runtime==4.9.* in /Users/anthonyjaramillo/opt/anaconda3/envs/experimental/lib/python3.9/site-packages (from omegaconf>=2.0->effdet->layoutparser[layoutmodels,tesseract]->unstructured-inference~=0.2.4->unstructured[local-inference]) (4.9.3)\n",
      "Requirement already satisfied: matplotlib>=2.1.0 in /Users/anthonyjaramillo/opt/anaconda3/envs/experimental/lib/python3.9/site-packages (from pycocotools>=2.0.2->effdet->layoutparser[layoutmodels,tesseract]->unstructured-inference~=0.2.4->unstructured[local-inference]) (3.7.1)\n",
      "Requirement already satisfied: MarkupSafe>=2.0 in /Users/anthonyjaramillo/opt/anaconda3/envs/experimental/lib/python3.9/site-packages (from jinja2->torch->layoutparser[layoutmodels,tesseract]->unstructured-inference~=0.2.4->unstructured[local-inference]) (2.1.1)\n",
      "Requirement already satisfied: cffi>=1.12 in /Users/anthonyjaramillo/opt/anaconda3/envs/experimental/lib/python3.9/site-packages (from cryptography>=36.0.0->pdfminer.six==20221105->pdfplumber->layoutparser[layoutmodels,tesseract]->unstructured-inference~=0.2.4->unstructured[local-inference]) (1.15.1)\n",
      "Requirement already satisfied: kiwisolver>=1.0.1 in /Users/anthonyjaramillo/opt/anaconda3/envs/experimental/lib/python3.9/site-packages (from matplotlib>=2.1.0->pycocotools>=2.0.2->effdet->layoutparser[layoutmodels,tesseract]->unstructured-inference~=0.2.4->unstructured[local-inference]) (1.4.4)\n",
      "Requirement already satisfied: contourpy>=1.0.1 in /Users/anthonyjaramillo/opt/anaconda3/envs/experimental/lib/python3.9/site-packages (from matplotlib>=2.1.0->pycocotools>=2.0.2->effdet->layoutparser[layoutmodels,tesseract]->unstructured-inference~=0.2.4->unstructured[local-inference]) (1.0.7)\n",
      "Requirement already satisfied: cycler>=0.10 in /Users/anthonyjaramillo/opt/anaconda3/envs/experimental/lib/python3.9/site-packages (from matplotlib>=2.1.0->pycocotools>=2.0.2->effdet->layoutparser[layoutmodels,tesseract]->unstructured-inference~=0.2.4->unstructured[local-inference]) (0.11.0)\n",
      "Requirement already satisfied: pyparsing>=2.3.1 in /Users/anthonyjaramillo/opt/anaconda3/envs/experimental/lib/python3.9/site-packages (from matplotlib>=2.1.0->pycocotools>=2.0.2->effdet->layoutparser[layoutmodels,tesseract]->unstructured-inference~=0.2.4->unstructured[local-inference]) (3.0.9)\n",
      "Requirement already satisfied: importlib-resources>=3.2.0 in /Users/anthonyjaramillo/opt/anaconda3/envs/experimental/lib/python3.9/site-packages (from matplotlib>=2.1.0->pycocotools>=2.0.2->effdet->layoutparser[layoutmodels,tesseract]->unstructured-inference~=0.2.4->unstructured[local-inference]) (5.12.0)\n",
      "Requirement already satisfied: fonttools>=4.22.0 in /Users/anthonyjaramillo/opt/anaconda3/envs/experimental/lib/python3.9/site-packages (from matplotlib>=2.1.0->pycocotools>=2.0.2->effdet->layoutparser[layoutmodels,tesseract]->unstructured-inference~=0.2.4->unstructured[local-inference]) (4.39.3)\n",
      "Requirement already satisfied: pycparser in /Users/anthonyjaramillo/opt/anaconda3/envs/experimental/lib/python3.9/site-packages (from cffi>=1.12->cryptography>=36.0.0->pdfminer.six==20221105->pdfplumber->layoutparser[layoutmodels,tesseract]->unstructured-inference~=0.2.4->unstructured[local-inference]) (2.21)\n",
      "Note: you may need to restart the kernel to use updated packages.\n",
      "Requirement already satisfied: poppler-utils in /Users/anthonyjaramillo/opt/anaconda3/envs/experimental/lib/python3.9/site-packages (0.1.0)\n",
      "Requirement already satisfied: Click>=7.0 in /Users/anthonyjaramillo/opt/anaconda3/envs/experimental/lib/python3.9/site-packages (from poppler-utils) (8.1.3)\n",
      "Note: you may need to restart the kernel to use updated packages.\n",
      "Collecting tesseract-ocr\n",
      "  Using cached tesseract-ocr-0.0.1.tar.gz (33 kB)\n",
      "  Preparing metadata (setup.py) ... \u001b[?25ldone\n",
      "\u001b[?25hRequirement already satisfied: cython in /Users/anthonyjaramillo/opt/anaconda3/envs/experimental/lib/python3.9/site-packages (from tesseract-ocr) (0.29.33)\n",
      "Building wheels for collected packages: tesseract-ocr\n",
      "  Building wheel for tesseract-ocr (setup.py) ... \u001b[?25lerror\n",
      "  \u001b[1;31merror\u001b[0m: \u001b[1msubprocess-exited-with-error\u001b[0m\n",
      "  \n",
      "  \u001b[31m×\u001b[0m \u001b[32mpython setup.py bdist_wheel\u001b[0m did not run successfully.\n",
      "  \u001b[31m│\u001b[0m exit code: \u001b[1;36m1\u001b[0m\n",
      "  \u001b[31m╰─>\u001b[0m \u001b[31m[17 lines of output]\u001b[0m\n",
      "  \u001b[31m   \u001b[0m /Users/anthonyjaramillo/opt/anaconda3/envs/experimental/lib/python3.9/site-packages/setuptools/dist.py:788: UserWarning: Usage of dash-separated 'description-file' will not be supported in future versions. Please use the underscore name 'description_file' instead\n",
      "  \u001b[31m   \u001b[0m   warnings.warn(\n",
      "  \u001b[31m   \u001b[0m running bdist_wheel\n",
      "  \u001b[31m   \u001b[0m running build\n",
      "  \u001b[31m   \u001b[0m running build_py\n",
      "  \u001b[31m   \u001b[0m file tesseract_ocr.py (for module tesseract_ocr) not found\n",
      "  \u001b[31m   \u001b[0m file tesseract_ocr.py (for module tesseract_ocr) not found\n",
      "  \u001b[31m   \u001b[0m running build_ext\n",
      "  \u001b[31m   \u001b[0m building 'tesseract_ocr' extension\n",
      "  \u001b[31m   \u001b[0m creating build\n",
      "  \u001b[31m   \u001b[0m creating build/temp.macosx-10.9-x86_64-cpython-39\n",
      "  \u001b[31m   \u001b[0m clang -Wno-unused-result -Wsign-compare -Wunreachable-code -DNDEBUG -fwrapv -O2 -Wall -fPIC -O2 -isystem /Users/anthonyjaramillo/opt/anaconda3/envs/experimental/include -I/Users/anthonyjaramillo/opt/anaconda3/envs/experimental/include -fPIC -O2 -isystem /Users/anthonyjaramillo/opt/anaconda3/envs/experimental/include -arch x86_64 -I/Users/anthonyjaramillo/opt/anaconda3/envs/experimental/include/python3.9 -c tesseract_ocr.cpp -o build/temp.macosx-10.9-x86_64-cpython-39/tesseract_ocr.o\n",
      "  \u001b[31m   \u001b[0m tesseract_ocr.cpp:779:10: fatal error: 'leptonica/allheaders.h' file not found\n",
      "  \u001b[31m   \u001b[0m #include \"leptonica/allheaders.h\"\n",
      "  \u001b[31m   \u001b[0m          ^~~~~~~~~~~~~~~~~~~~~~~~\n",
      "  \u001b[31m   \u001b[0m 1 error generated.\n",
      "  \u001b[31m   \u001b[0m error: command '/usr/bin/clang' failed with exit code 1\n",
      "  \u001b[31m   \u001b[0m \u001b[31m[end of output]\u001b[0m\n",
      "  \n",
      "  \u001b[1;35mnote\u001b[0m: This error originates from a subprocess, and is likely not a problem with pip.\n",
      "\u001b[31m  ERROR: Failed building wheel for tesseract-ocr\u001b[0m\u001b[31m\n",
      "\u001b[0m\u001b[?25h  Running setup.py clean for tesseract-ocr\n",
      "Failed to build tesseract-ocr\n",
      "Installing collected packages: tesseract-ocr\n",
      "  Running setup.py install for tesseract-ocr ... \u001b[?25lerror\n",
      "  \u001b[1;31merror\u001b[0m: \u001b[1msubprocess-exited-with-error\u001b[0m\n",
      "  \n",
      "  \u001b[31m×\u001b[0m \u001b[32mRunning setup.py install for tesseract-ocr\u001b[0m did not run successfully.\n",
      "  \u001b[31m│\u001b[0m exit code: \u001b[1;36m1\u001b[0m\n",
      "  \u001b[31m╰─>\u001b[0m \u001b[31m[19 lines of output]\u001b[0m\n",
      "  \u001b[31m   \u001b[0m /Users/anthonyjaramillo/opt/anaconda3/envs/experimental/lib/python3.9/site-packages/setuptools/dist.py:788: UserWarning: Usage of dash-separated 'description-file' will not be supported in future versions. Please use the underscore name 'description_file' instead\n",
      "  \u001b[31m   \u001b[0m   warnings.warn(\n",
      "  \u001b[31m   \u001b[0m running install\n",
      "  \u001b[31m   \u001b[0m /Users/anthonyjaramillo/opt/anaconda3/envs/experimental/lib/python3.9/site-packages/setuptools/command/install.py:34: SetuptoolsDeprecationWarning: setup.py install is deprecated. Use build and pip and other standards-based tools.\n",
      "  \u001b[31m   \u001b[0m   warnings.warn(\n",
      "  \u001b[31m   \u001b[0m running build\n",
      "  \u001b[31m   \u001b[0m running build_py\n",
      "  \u001b[31m   \u001b[0m file tesseract_ocr.py (for module tesseract_ocr) not found\n",
      "  \u001b[31m   \u001b[0m file tesseract_ocr.py (for module tesseract_ocr) not found\n",
      "  \u001b[31m   \u001b[0m running build_ext\n",
      "  \u001b[31m   \u001b[0m building 'tesseract_ocr' extension\n",
      "  \u001b[31m   \u001b[0m creating build\n",
      "  \u001b[31m   \u001b[0m creating build/temp.macosx-10.9-x86_64-cpython-39\n",
      "  \u001b[31m   \u001b[0m clang -Wno-unused-result -Wsign-compare -Wunreachable-code -DNDEBUG -fwrapv -O2 -Wall -fPIC -O2 -isystem /Users/anthonyjaramillo/opt/anaconda3/envs/experimental/include -I/Users/anthonyjaramillo/opt/anaconda3/envs/experimental/include -fPIC -O2 -isystem /Users/anthonyjaramillo/opt/anaconda3/envs/experimental/include -arch x86_64 -I/Users/anthonyjaramillo/opt/anaconda3/envs/experimental/include/python3.9 -c tesseract_ocr.cpp -o build/temp.macosx-10.9-x86_64-cpython-39/tesseract_ocr.o\n",
      "  \u001b[31m   \u001b[0m tesseract_ocr.cpp:779:10: fatal error: 'leptonica/allheaders.h' file not found\n",
      "  \u001b[31m   \u001b[0m #include \"leptonica/allheaders.h\"\n",
      "  \u001b[31m   \u001b[0m          ^~~~~~~~~~~~~~~~~~~~~~~~\n",
      "  \u001b[31m   \u001b[0m 1 error generated.\n",
      "  \u001b[31m   \u001b[0m error: command '/usr/bin/clang' failed with exit code 1\n",
      "  \u001b[31m   \u001b[0m \u001b[31m[end of output]\u001b[0m\n",
      "  \n",
      "  \u001b[1;35mnote\u001b[0m: This error originates from a subprocess, and is likely not a problem with pip.\n",
      "\u001b[?25h\u001b[1;31merror\u001b[0m: \u001b[1mlegacy-install-failure\u001b[0m\n",
      "\n",
      "\u001b[31m×\u001b[0m Encountered error while trying to install package.\n",
      "\u001b[31m╰─>\u001b[0m tesseract-ocr\n",
      "\n",
      "\u001b[1;35mnote\u001b[0m: This is an issue with the package mentioned above, not pip.\n",
      "\u001b[1;36mhint\u001b[0m: See above for output from the failure.\n",
      "Note: you may need to restart the kernel to use updated packages.\n",
      "Collecting detectron2@ git+https://github.com/facebookresearch/detectron2.git@v0.6#egg=detectron2\n",
      "  Cloning https://github.com/facebookresearch/detectron2.git (to revision v0.6) to /private/var/folders/jc/h05p2tqx13sgp8gtnnrks5jw0000gn/T/pip-install-r7p1ojys/detectron2_05660b92be404adea9b38730d3eb73f1\n",
      "  Running command git clone --filter=blob:none --quiet https://github.com/facebookresearch/detectron2.git /private/var/folders/jc/h05p2tqx13sgp8gtnnrks5jw0000gn/T/pip-install-r7p1ojys/detectron2_05660b92be404adea9b38730d3eb73f1\n",
      "  Running command git checkout -q d1e04565d3bec8719335b88be9e9b961bf3ec464\n",
      "  Resolved https://github.com/facebookresearch/detectron2.git to commit d1e04565d3bec8719335b88be9e9b961bf3ec464\n",
      "  Preparing metadata (setup.py) ... \u001b[?25ldone\n",
      "\u001b[?25hRequirement already satisfied: Pillow>=7.1 in /Users/anthonyjaramillo/opt/anaconda3/envs/experimental/lib/python3.9/site-packages (from detectron2@ git+https://github.com/facebookresearch/detectron2.git@v0.6#egg=detectron2) (9.4.0)\n",
      "Requirement already satisfied: matplotlib in /Users/anthonyjaramillo/opt/anaconda3/envs/experimental/lib/python3.9/site-packages (from detectron2@ git+https://github.com/facebookresearch/detectron2.git@v0.6#egg=detectron2) (3.7.1)\n",
      "Requirement already satisfied: pycocotools>=2.0.2 in /Users/anthonyjaramillo/opt/anaconda3/envs/experimental/lib/python3.9/site-packages (from detectron2@ git+https://github.com/facebookresearch/detectron2.git@v0.6#egg=detectron2) (2.0.6)\n",
      "Requirement already satisfied: termcolor>=1.1 in /Users/anthonyjaramillo/opt/anaconda3/envs/experimental/lib/python3.9/site-packages (from detectron2@ git+https://github.com/facebookresearch/detectron2.git@v0.6#egg=detectron2) (2.2.0)\n",
      "Requirement already satisfied: yacs>=0.1.8 in /Users/anthonyjaramillo/opt/anaconda3/envs/experimental/lib/python3.9/site-packages (from detectron2@ git+https://github.com/facebookresearch/detectron2.git@v0.6#egg=detectron2) (0.1.8)\n",
      "Requirement already satisfied: tabulate in /Users/anthonyjaramillo/opt/anaconda3/envs/experimental/lib/python3.9/site-packages (from detectron2@ git+https://github.com/facebookresearch/detectron2.git@v0.6#egg=detectron2) (0.9.0)\n",
      "Requirement already satisfied: cloudpickle in /Users/anthonyjaramillo/opt/anaconda3/envs/experimental/lib/python3.9/site-packages (from detectron2@ git+https://github.com/facebookresearch/detectron2.git@v0.6#egg=detectron2) (2.2.1)\n",
      "Requirement already satisfied: tqdm>4.29.0 in /Users/anthonyjaramillo/opt/anaconda3/envs/experimental/lib/python3.9/site-packages (from detectron2@ git+https://github.com/facebookresearch/detectron2.git@v0.6#egg=detectron2) (4.65.0)\n",
      "Requirement already satisfied: tensorboard in /Users/anthonyjaramillo/opt/anaconda3/envs/experimental/lib/python3.9/site-packages (from detectron2@ git+https://github.com/facebookresearch/detectron2.git@v0.6#egg=detectron2) (2.12.1)\n",
      "Requirement already satisfied: fvcore<0.1.6,>=0.1.5 in /Users/anthonyjaramillo/opt/anaconda3/envs/experimental/lib/python3.9/site-packages (from detectron2@ git+https://github.com/facebookresearch/detectron2.git@v0.6#egg=detectron2) (0.1.5.post20221221)\n",
      "Requirement already satisfied: iopath<0.1.10,>=0.1.7 in /Users/anthonyjaramillo/opt/anaconda3/envs/experimental/lib/python3.9/site-packages (from detectron2@ git+https://github.com/facebookresearch/detectron2.git@v0.6#egg=detectron2) (0.1.9)\n",
      "Requirement already satisfied: future in /Users/anthonyjaramillo/opt/anaconda3/envs/experimental/lib/python3.9/site-packages (from detectron2@ git+https://github.com/facebookresearch/detectron2.git@v0.6#egg=detectron2) (0.18.3)\n",
      "Requirement already satisfied: pydot in /Users/anthonyjaramillo/opt/anaconda3/envs/experimental/lib/python3.9/site-packages (from detectron2@ git+https://github.com/facebookresearch/detectron2.git@v0.6#egg=detectron2) (1.4.2)\n",
      "Requirement already satisfied: omegaconf>=2.1 in /Users/anthonyjaramillo/opt/anaconda3/envs/experimental/lib/python3.9/site-packages (from detectron2@ git+https://github.com/facebookresearch/detectron2.git@v0.6#egg=detectron2) (2.3.0)\n",
      "Requirement already satisfied: hydra-core>=1.1 in /Users/anthonyjaramillo/opt/anaconda3/envs/experimental/lib/python3.9/site-packages (from detectron2@ git+https://github.com/facebookresearch/detectron2.git@v0.6#egg=detectron2) (1.3.2)\n",
      "Requirement already satisfied: black==21.4b2 in /Users/anthonyjaramillo/opt/anaconda3/envs/experimental/lib/python3.9/site-packages (from detectron2@ git+https://github.com/facebookresearch/detectron2.git@v0.6#egg=detectron2) (21.4b2)\n",
      "Requirement already satisfied: regex>=2020.1.8 in /Users/anthonyjaramillo/opt/anaconda3/envs/experimental/lib/python3.9/site-packages (from black==21.4b2->detectron2@ git+https://github.com/facebookresearch/detectron2.git@v0.6#egg=detectron2) (2023.3.23)\n",
      "Requirement already satisfied: pathspec<1,>=0.8.1 in /Users/anthonyjaramillo/opt/anaconda3/envs/experimental/lib/python3.9/site-packages (from black==21.4b2->detectron2@ git+https://github.com/facebookresearch/detectron2.git@v0.6#egg=detectron2) (0.11.1)\n",
      "Requirement already satisfied: toml>=0.10.1 in /Users/anthonyjaramillo/opt/anaconda3/envs/experimental/lib/python3.9/site-packages (from black==21.4b2->detectron2@ git+https://github.com/facebookresearch/detectron2.git@v0.6#egg=detectron2) (0.10.2)\n",
      "Requirement already satisfied: click>=7.1.2 in /Users/anthonyjaramillo/opt/anaconda3/envs/experimental/lib/python3.9/site-packages (from black==21.4b2->detectron2@ git+https://github.com/facebookresearch/detectron2.git@v0.6#egg=detectron2) (8.1.3)\n",
      "Requirement already satisfied: appdirs in /Users/anthonyjaramillo/opt/anaconda3/envs/experimental/lib/python3.9/site-packages (from black==21.4b2->detectron2@ git+https://github.com/facebookresearch/detectron2.git@v0.6#egg=detectron2) (1.4.4)\n",
      "Requirement already satisfied: mypy-extensions>=0.4.3 in /Users/anthonyjaramillo/opt/anaconda3/envs/experimental/lib/python3.9/site-packages (from black==21.4b2->detectron2@ git+https://github.com/facebookresearch/detectron2.git@v0.6#egg=detectron2) (1.0.0)\n",
      "Requirement already satisfied: pyyaml>=5.1 in /Users/anthonyjaramillo/opt/anaconda3/envs/experimental/lib/python3.9/site-packages (from fvcore<0.1.6,>=0.1.5->detectron2@ git+https://github.com/facebookresearch/detectron2.git@v0.6#egg=detectron2) (6.0)\n",
      "Requirement already satisfied: numpy in /Users/anthonyjaramillo/opt/anaconda3/envs/experimental/lib/python3.9/site-packages (from fvcore<0.1.6,>=0.1.5->detectron2@ git+https://github.com/facebookresearch/detectron2.git@v0.6#egg=detectron2) (1.23.5)\n",
      "Requirement already satisfied: antlr4-python3-runtime==4.9.* in /Users/anthonyjaramillo/opt/anaconda3/envs/experimental/lib/python3.9/site-packages (from hydra-core>=1.1->detectron2@ git+https://github.com/facebookresearch/detectron2.git@v0.6#egg=detectron2) (4.9.3)\n",
      "Requirement already satisfied: packaging in /Users/anthonyjaramillo/opt/anaconda3/envs/experimental/lib/python3.9/site-packages (from hydra-core>=1.1->detectron2@ git+https://github.com/facebookresearch/detectron2.git@v0.6#egg=detectron2) (23.0)\n",
      "Requirement already satisfied: portalocker in /Users/anthonyjaramillo/opt/anaconda3/envs/experimental/lib/python3.9/site-packages (from iopath<0.1.10,>=0.1.7->detectron2@ git+https://github.com/facebookresearch/detectron2.git@v0.6#egg=detectron2) (2.7.0)\n",
      "Requirement already satisfied: python-dateutil>=2.7 in /Users/anthonyjaramillo/opt/anaconda3/envs/experimental/lib/python3.9/site-packages (from matplotlib->detectron2@ git+https://github.com/facebookresearch/detectron2.git@v0.6#egg=detectron2) (2.8.2)\n",
      "Requirement already satisfied: cycler>=0.10 in /Users/anthonyjaramillo/opt/anaconda3/envs/experimental/lib/python3.9/site-packages (from matplotlib->detectron2@ git+https://github.com/facebookresearch/detectron2.git@v0.6#egg=detectron2) (0.11.0)\n",
      "Requirement already satisfied: importlib-resources>=3.2.0 in /Users/anthonyjaramillo/opt/anaconda3/envs/experimental/lib/python3.9/site-packages (from matplotlib->detectron2@ git+https://github.com/facebookresearch/detectron2.git@v0.6#egg=detectron2) (5.12.0)\n",
      "Requirement already satisfied: fonttools>=4.22.0 in /Users/anthonyjaramillo/opt/anaconda3/envs/experimental/lib/python3.9/site-packages (from matplotlib->detectron2@ git+https://github.com/facebookresearch/detectron2.git@v0.6#egg=detectron2) (4.39.3)\n",
      "Requirement already satisfied: pyparsing>=2.3.1 in /Users/anthonyjaramillo/opt/anaconda3/envs/experimental/lib/python3.9/site-packages (from matplotlib->detectron2@ git+https://github.com/facebookresearch/detectron2.git@v0.6#egg=detectron2) (3.0.9)\n",
      "Requirement already satisfied: contourpy>=1.0.1 in /Users/anthonyjaramillo/opt/anaconda3/envs/experimental/lib/python3.9/site-packages (from matplotlib->detectron2@ git+https://github.com/facebookresearch/detectron2.git@v0.6#egg=detectron2) (1.0.7)\n",
      "Requirement already satisfied: kiwisolver>=1.0.1 in /Users/anthonyjaramillo/opt/anaconda3/envs/experimental/lib/python3.9/site-packages (from matplotlib->detectron2@ git+https://github.com/facebookresearch/detectron2.git@v0.6#egg=detectron2) (1.4.4)\n",
      "Requirement already satisfied: requests<3,>=2.21.0 in /Users/anthonyjaramillo/opt/anaconda3/envs/experimental/lib/python3.9/site-packages (from tensorboard->detectron2@ git+https://github.com/facebookresearch/detectron2.git@v0.6#egg=detectron2) (2.28.1)\n",
      "Requirement already satisfied: google-auth<3,>=1.6.3 in /Users/anthonyjaramillo/opt/anaconda3/envs/experimental/lib/python3.9/site-packages (from tensorboard->detectron2@ git+https://github.com/facebookresearch/detectron2.git@v0.6#egg=detectron2) (2.17.1)\n",
      "Requirement already satisfied: wheel>=0.26 in /Users/anthonyjaramillo/opt/anaconda3/envs/experimental/lib/python3.9/site-packages (from tensorboard->detectron2@ git+https://github.com/facebookresearch/detectron2.git@v0.6#egg=detectron2) (0.40.0)\n",
      "Requirement already satisfied: tensorboard-data-server<0.8.0,>=0.7.0 in /Users/anthonyjaramillo/opt/anaconda3/envs/experimental/lib/python3.9/site-packages (from tensorboard->detectron2@ git+https://github.com/facebookresearch/detectron2.git@v0.6#egg=detectron2) (0.7.0)\n",
      "Requirement already satisfied: tensorboard-plugin-wit>=1.6.0 in /Users/anthonyjaramillo/opt/anaconda3/envs/experimental/lib/python3.9/site-packages (from tensorboard->detectron2@ git+https://github.com/facebookresearch/detectron2.git@v0.6#egg=detectron2) (1.8.1)\n",
      "Requirement already satisfied: setuptools>=41.0.0 in /Users/anthonyjaramillo/opt/anaconda3/envs/experimental/lib/python3.9/site-packages (from tensorboard->detectron2@ git+https://github.com/facebookresearch/detectron2.git@v0.6#egg=detectron2) (67.6.1)\n",
      "Requirement already satisfied: markdown>=2.6.8 in /Users/anthonyjaramillo/opt/anaconda3/envs/experimental/lib/python3.9/site-packages (from tensorboard->detectron2@ git+https://github.com/facebookresearch/detectron2.git@v0.6#egg=detectron2) (3.4.3)\n",
      "Requirement already satisfied: google-auth-oauthlib<1.1,>=0.5 in /Users/anthonyjaramillo/opt/anaconda3/envs/experimental/lib/python3.9/site-packages (from tensorboard->detectron2@ git+https://github.com/facebookresearch/detectron2.git@v0.6#egg=detectron2) (1.0.0)\n",
      "Requirement already satisfied: grpcio>=1.48.2 in /Users/anthonyjaramillo/opt/anaconda3/envs/experimental/lib/python3.9/site-packages (from tensorboard->detectron2@ git+https://github.com/facebookresearch/detectron2.git@v0.6#egg=detectron2) (1.53.0)\n",
      "Requirement already satisfied: absl-py>=0.4 in /Users/anthonyjaramillo/opt/anaconda3/envs/experimental/lib/python3.9/site-packages (from tensorboard->detectron2@ git+https://github.com/facebookresearch/detectron2.git@v0.6#egg=detectron2) (1.4.0)\n",
      "Requirement already satisfied: protobuf>=3.19.6 in /Users/anthonyjaramillo/opt/anaconda3/envs/experimental/lib/python3.9/site-packages (from tensorboard->detectron2@ git+https://github.com/facebookresearch/detectron2.git@v0.6#egg=detectron2) (4.22.1)\n",
      "Requirement already satisfied: werkzeug>=1.0.1 in /Users/anthonyjaramillo/opt/anaconda3/envs/experimental/lib/python3.9/site-packages (from tensorboard->detectron2@ git+https://github.com/facebookresearch/detectron2.git@v0.6#egg=detectron2) (2.2.3)\n",
      "Requirement already satisfied: pyasn1-modules>=0.2.1 in /Users/anthonyjaramillo/opt/anaconda3/envs/experimental/lib/python3.9/site-packages (from google-auth<3,>=1.6.3->tensorboard->detectron2@ git+https://github.com/facebookresearch/detectron2.git@v0.6#egg=detectron2) (0.2.8)\n",
      "Requirement already satisfied: cachetools<6.0,>=2.0.0 in /Users/anthonyjaramillo/opt/anaconda3/envs/experimental/lib/python3.9/site-packages (from google-auth<3,>=1.6.3->tensorboard->detectron2@ git+https://github.com/facebookresearch/detectron2.git@v0.6#egg=detectron2) (5.3.0)\n",
      "Requirement already satisfied: six>=1.9.0 in /Users/anthonyjaramillo/opt/anaconda3/envs/experimental/lib/python3.9/site-packages (from google-auth<3,>=1.6.3->tensorboard->detectron2@ git+https://github.com/facebookresearch/detectron2.git@v0.6#egg=detectron2) (1.16.0)\n",
      "Requirement already satisfied: rsa<5,>=3.1.4 in /Users/anthonyjaramillo/opt/anaconda3/envs/experimental/lib/python3.9/site-packages (from google-auth<3,>=1.6.3->tensorboard->detectron2@ git+https://github.com/facebookresearch/detectron2.git@v0.6#egg=detectron2) (4.9)\n",
      "Requirement already satisfied: requests-oauthlib>=0.7.0 in /Users/anthonyjaramillo/opt/anaconda3/envs/experimental/lib/python3.9/site-packages (from google-auth-oauthlib<1.1,>=0.5->tensorboard->detectron2@ git+https://github.com/facebookresearch/detectron2.git@v0.6#egg=detectron2) (1.3.1)\n",
      "Requirement already satisfied: zipp>=3.1.0 in /Users/anthonyjaramillo/opt/anaconda3/envs/experimental/lib/python3.9/site-packages (from importlib-resources>=3.2.0->matplotlib->detectron2@ git+https://github.com/facebookresearch/detectron2.git@v0.6#egg=detectron2) (3.11.0)\n",
      "Requirement already satisfied: importlib-metadata>=4.4 in /Users/anthonyjaramillo/opt/anaconda3/envs/experimental/lib/python3.9/site-packages (from markdown>=2.6.8->tensorboard->detectron2@ git+https://github.com/facebookresearch/detectron2.git@v0.6#egg=detectron2) (6.0.0)\n",
      "Requirement already satisfied: charset-normalizer<3,>=2 in /Users/anthonyjaramillo/opt/anaconda3/envs/experimental/lib/python3.9/site-packages (from requests<3,>=2.21.0->tensorboard->detectron2@ git+https://github.com/facebookresearch/detectron2.git@v0.6#egg=detectron2) (2.0.4)\n",
      "Requirement already satisfied: idna<4,>=2.5 in /Users/anthonyjaramillo/opt/anaconda3/envs/experimental/lib/python3.9/site-packages (from requests<3,>=2.21.0->tensorboard->detectron2@ git+https://github.com/facebookresearch/detectron2.git@v0.6#egg=detectron2) (3.4)\n",
      "Requirement already satisfied: urllib3<1.27,>=1.21.1 in /Users/anthonyjaramillo/opt/anaconda3/envs/experimental/lib/python3.9/site-packages (from requests<3,>=2.21.0->tensorboard->detectron2@ git+https://github.com/facebookresearch/detectron2.git@v0.6#egg=detectron2) (1.26.15)\n",
      "Requirement already satisfied: certifi>=2017.4.17 in /Users/anthonyjaramillo/opt/anaconda3/envs/experimental/lib/python3.9/site-packages (from requests<3,>=2.21.0->tensorboard->detectron2@ git+https://github.com/facebookresearch/detectron2.git@v0.6#egg=detectron2) (2022.12.7)\n",
      "Requirement already satisfied: MarkupSafe>=2.1.1 in /Users/anthonyjaramillo/opt/anaconda3/envs/experimental/lib/python3.9/site-packages (from werkzeug>=1.0.1->tensorboard->detectron2@ git+https://github.com/facebookresearch/detectron2.git@v0.6#egg=detectron2) (2.1.1)\n",
      "Requirement already satisfied: pyasn1<0.5.0,>=0.4.6 in /Users/anthonyjaramillo/opt/anaconda3/envs/experimental/lib/python3.9/site-packages (from pyasn1-modules>=0.2.1->google-auth<3,>=1.6.3->tensorboard->detectron2@ git+https://github.com/facebookresearch/detectron2.git@v0.6#egg=detectron2) (0.4.8)\n",
      "Requirement already satisfied: oauthlib>=3.0.0 in /Users/anthonyjaramillo/opt/anaconda3/envs/experimental/lib/python3.9/site-packages (from requests-oauthlib>=0.7.0->google-auth-oauthlib<1.1,>=0.5->tensorboard->detectron2@ git+https://github.com/facebookresearch/detectron2.git@v0.6#egg=detectron2) (3.2.2)\n",
      "Note: you may need to restart the kernel to use updated packages.\n"
     ]
    }
   ],
   "source": [
    "%pip install langchain\n",
    "%pip install openai\n",
    "%pip install datasets\n",
    "%pip install chromadb\n",
    "%pip install pandas\n",
    "%pip install python-dotenv\n",
    "%pip install spacy\n",
    "%pip install chardet\n",
    "%pip install \"unstructured[local-inference]\"\n",
    "%pip install poppler-utils\n",
    "%pip install tesseract-ocr\n",
    "%pip install \"detectron2@git+https://github.com/facebookresearch/detectron2.git@v0.6#egg=detectron2\"\n",
    "%pip install tiktoken\n",
    "!python -m spacy download en_core_web_sm"
   ]
  },
  {
   "cell_type": "code",
   "execution_count": 8,
   "metadata": {},
   "outputs": [],
   "source": [
    "import os\n",
    "from dotenv import load_dotenv\n",
    "\n",
    "load_dotenv()\n",
    "OPENAI_API_KEY = os.getenv(\"OPENAI_API_KEY\")\n",
    "DATASET_URL = os.getenv(\"DATASET_URL\")\n",
    "SERPAPI_API_KEY = os.getenv(\"SERPAPI_API_KEY\")"
   ]
  },
  {
   "cell_type": "code",
   "execution_count": 9,
   "metadata": {},
   "outputs": [
    {
     "data": {
      "text/html": [
       "<div>\n",
       "<style scoped>\n",
       "    .dataframe tbody tr th:only-of-type {\n",
       "        vertical-align: middle;\n",
       "    }\n",
       "\n",
       "    .dataframe tbody tr th {\n",
       "        vertical-align: top;\n",
       "    }\n",
       "\n",
       "    .dataframe thead th {\n",
       "        text-align: right;\n",
       "    }\n",
       "</style>\n",
       "<table border=\"1\" class=\"dataframe\">\n",
       "  <thead>\n",
       "    <tr style=\"text-align: right;\">\n",
       "      <th></th>\n",
       "      <th>question</th>\n",
       "      <th>answers</th>\n",
       "      <th>sources</th>\n",
       "    </tr>\n",
       "  </thead>\n",
       "  <tbody>\n",
       "    <tr>\n",
       "      <th>0</th>\n",
       "      <td>what is biochemical</td>\n",
       "      <td>Biochemistry is the scientific study of the ch...</td>\n",
       "      <td>NaN</td>\n",
       "    </tr>\n",
       "    <tr>\n",
       "      <th>1</th>\n",
       "      <td>describe the spleen in biochemical, historical...</td>\n",
       "      <td>The spleen is an important organ in the body t...</td>\n",
       "      <td>NaN</td>\n",
       "    </tr>\n",
       "    <tr>\n",
       "      <th>2</th>\n",
       "      <td>describe the biochemical pathways of CD8+ T cells</td>\n",
       "      <td>The activation and function of CD8+ T cells in...</td>\n",
       "      <td>NaN</td>\n",
       "    </tr>\n",
       "    <tr>\n",
       "      <th>3</th>\n",
       "      <td>What is the nerve cell</td>\n",
       "      <td>A nerve cell, also known as a neuron, is a spe...</td>\n",
       "      <td>NaN</td>\n",
       "    </tr>\n",
       "    <tr>\n",
       "      <th>4</th>\n",
       "      <td>What is the heart</td>\n",
       "      <td>The human heart is a muscular organ that pumps...</td>\n",
       "      <td>NaN</td>\n",
       "    </tr>\n",
       "    <tr>\n",
       "      <th>...</th>\n",
       "      <td>...</td>\n",
       "      <td>...</td>\n",
       "      <td>...</td>\n",
       "    </tr>\n",
       "    <tr>\n",
       "      <th>78</th>\n",
       "      <td>What conditions affect the circulatory system?</td>\n",
       "      <td>Many conditions can affect the health of your ...</td>\n",
       "      <td>https://my.clevelandclinic.org/health/body/217...</td>\n",
       "    </tr>\n",
       "    <tr>\n",
       "      <th>79</th>\n",
       "      <td>How can I prevent circulatory system problems?</td>\n",
       "      <td>These steps can protect the health of your cir...</td>\n",
       "      <td>https://my.clevelandclinic.org/health/body/217...</td>\n",
       "    </tr>\n",
       "    <tr>\n",
       "      <th>80</th>\n",
       "      <td>How big is the circulatory system?</td>\n",
       "      <td>Your body has more than 60,000 miles of blood ...</td>\n",
       "      <td>https://my.clevelandclinic.org/health/body/217...</td>\n",
       "    </tr>\n",
       "    <tr>\n",
       "      <th>81</th>\n",
       "      <td>What is red blood and blue blood?</td>\n",
       "      <td>All blood is red. Hemoglobin, an iron-rich pro...</td>\n",
       "      <td>https://my.clevelandclinic.org/health/body/217...</td>\n",
       "    </tr>\n",
       "    <tr>\n",
       "      <th>82</th>\n",
       "      <td>Do arteries always carry oxygenated blood?</td>\n",
       "      <td>For the most part, yes. The exceptions are pul...</td>\n",
       "      <td>https://my.clevelandclinic.org/health/body/217...</td>\n",
       "    </tr>\n",
       "  </tbody>\n",
       "</table>\n",
       "<p>83 rows × 3 columns</p>\n",
       "</div>"
      ],
      "text/plain": [
       "                                             question  \\\n",
       "0                                 what is biochemical   \n",
       "1   describe the spleen in biochemical, historical...   \n",
       "2   describe the biochemical pathways of CD8+ T cells   \n",
       "3                              What is the nerve cell   \n",
       "4                                   What is the heart   \n",
       "..                                                ...   \n",
       "78     What conditions affect the circulatory system?   \n",
       "79     How can I prevent circulatory system problems?   \n",
       "80                 How big is the circulatory system?   \n",
       "81                  What is red blood and blue blood?   \n",
       "82         Do arteries always carry oxygenated blood?   \n",
       "\n",
       "                                              answers  \\\n",
       "0   Biochemistry is the scientific study of the ch...   \n",
       "1   The spleen is an important organ in the body t...   \n",
       "2   The activation and function of CD8+ T cells in...   \n",
       "3   A nerve cell, also known as a neuron, is a spe...   \n",
       "4   The human heart is a muscular organ that pumps...   \n",
       "..                                                ...   \n",
       "78  Many conditions can affect the health of your ...   \n",
       "79  These steps can protect the health of your cir...   \n",
       "80  Your body has more than 60,000 miles of blood ...   \n",
       "81  All blood is red. Hemoglobin, an iron-rich pro...   \n",
       "82  For the most part, yes. The exceptions are pul...   \n",
       "\n",
       "                                              sources  \n",
       "0                                                 NaN  \n",
       "1                                                 NaN  \n",
       "2                                                 NaN  \n",
       "3                                                 NaN  \n",
       "4                                                 NaN  \n",
       "..                                                ...  \n",
       "78  https://my.clevelandclinic.org/health/body/217...  \n",
       "79  https://my.clevelandclinic.org/health/body/217...  \n",
       "80  https://my.clevelandclinic.org/health/body/217...  \n",
       "81  https://my.clevelandclinic.org/health/body/217...  \n",
       "82  https://my.clevelandclinic.org/health/body/217...  \n",
       "\n",
       "[83 rows x 3 columns]"
      ]
     },
     "execution_count": 9,
     "metadata": {},
     "output_type": "execute_result"
    }
   ],
   "source": [
    "import pandas as pd\n",
    "\n",
    "df = pd.read_csv(DATASET_URL)\n",
    "df"
   ]
  },
  {
   "cell_type": "code",
   "execution_count": 10,
   "metadata": {},
   "outputs": [
    {
     "data": {
      "text/html": [
       "<div>\n",
       "<style scoped>\n",
       "    .dataframe tbody tr th:only-of-type {\n",
       "        vertical-align: middle;\n",
       "    }\n",
       "\n",
       "    .dataframe tbody tr th {\n",
       "        vertical-align: top;\n",
       "    }\n",
       "\n",
       "    .dataframe thead th {\n",
       "        text-align: right;\n",
       "    }\n",
       "</style>\n",
       "<table border=\"1\" class=\"dataframe\">\n",
       "  <thead>\n",
       "    <tr style=\"text-align: right;\">\n",
       "      <th></th>\n",
       "      <th>question</th>\n",
       "      <th>answers</th>\n",
       "    </tr>\n",
       "  </thead>\n",
       "  <tbody>\n",
       "    <tr>\n",
       "      <th>0</th>\n",
       "      <td>what is biochemical</td>\n",
       "      <td>Biochemistry is the scientific study of the ch...</td>\n",
       "    </tr>\n",
       "    <tr>\n",
       "      <th>1</th>\n",
       "      <td>describe the spleen in biochemical, historical...</td>\n",
       "      <td>The spleen is an important organ in the body t...</td>\n",
       "    </tr>\n",
       "    <tr>\n",
       "      <th>2</th>\n",
       "      <td>describe the biochemical pathways of CD8+ T cells</td>\n",
       "      <td>The activation and function of CD8+ T cells in...</td>\n",
       "    </tr>\n",
       "    <tr>\n",
       "      <th>3</th>\n",
       "      <td>What is the nerve cell</td>\n",
       "      <td>A nerve cell, also known as a neuron, is a spe...</td>\n",
       "    </tr>\n",
       "    <tr>\n",
       "      <th>4</th>\n",
       "      <td>What is the heart</td>\n",
       "      <td>The human heart is a muscular organ that pumps...</td>\n",
       "    </tr>\n",
       "    <tr>\n",
       "      <th>...</th>\n",
       "      <td>...</td>\n",
       "      <td>...</td>\n",
       "    </tr>\n",
       "    <tr>\n",
       "      <th>78</th>\n",
       "      <td>What conditions affect the circulatory system?</td>\n",
       "      <td>Many conditions can affect the health of your ...</td>\n",
       "    </tr>\n",
       "    <tr>\n",
       "      <th>79</th>\n",
       "      <td>How can I prevent circulatory system problems?</td>\n",
       "      <td>These steps can protect the health of your cir...</td>\n",
       "    </tr>\n",
       "    <tr>\n",
       "      <th>80</th>\n",
       "      <td>How big is the circulatory system?</td>\n",
       "      <td>Your body has more than 60,000 miles of blood ...</td>\n",
       "    </tr>\n",
       "    <tr>\n",
       "      <th>81</th>\n",
       "      <td>What is red blood and blue blood?</td>\n",
       "      <td>All blood is red. Hemoglobin, an iron-rich pro...</td>\n",
       "    </tr>\n",
       "    <tr>\n",
       "      <th>82</th>\n",
       "      <td>Do arteries always carry oxygenated blood?</td>\n",
       "      <td>For the most part, yes. The exceptions are pul...</td>\n",
       "    </tr>\n",
       "  </tbody>\n",
       "</table>\n",
       "<p>83 rows × 2 columns</p>\n",
       "</div>"
      ],
      "text/plain": [
       "                                             question  \\\n",
       "0                                 what is biochemical   \n",
       "1   describe the spleen in biochemical, historical...   \n",
       "2   describe the biochemical pathways of CD8+ T cells   \n",
       "3                              What is the nerve cell   \n",
       "4                                   What is the heart   \n",
       "..                                                ...   \n",
       "78     What conditions affect the circulatory system?   \n",
       "79     How can I prevent circulatory system problems?   \n",
       "80                 How big is the circulatory system?   \n",
       "81                  What is red blood and blue blood?   \n",
       "82         Do arteries always carry oxygenated blood?   \n",
       "\n",
       "                                              answers  \n",
       "0   Biochemistry is the scientific study of the ch...  \n",
       "1   The spleen is an important organ in the body t...  \n",
       "2   The activation and function of CD8+ T cells in...  \n",
       "3   A nerve cell, also known as a neuron, is a spe...  \n",
       "4   The human heart is a muscular organ that pumps...  \n",
       "..                                                ...  \n",
       "78  Many conditions can affect the health of your ...  \n",
       "79  These steps can protect the health of your cir...  \n",
       "80  Your body has more than 60,000 miles of blood ...  \n",
       "81  All blood is red. Hemoglobin, an iron-rich pro...  \n",
       "82  For the most part, yes. The exceptions are pul...  \n",
       "\n",
       "[83 rows x 2 columns]"
      ]
     },
     "execution_count": 10,
     "metadata": {},
     "output_type": "execute_result"
    }
   ],
   "source": [
    "df_qa = df[['question','answers']]\n",
    "df_qa"
   ]
  },
  {
   "cell_type": "code",
   "execution_count": 11,
   "metadata": {},
   "outputs": [
    {
     "data": {
      "text/plain": [
       "[Document(page_content='what is biochemical', metadata={'answers': 'Biochemistry is the scientific study of the chemical processes and substances that occur within living organisms. It combines elements of biology, chemistry, and physics to understand the chemical basis of life and how biological molecules interact with each other. Biochemists study the structure and function of biomolecules, such as proteins, nucleic acids, lipids, and carbohydrates, and how they contribute to the physiological and biochemical processes of cells and organisms. They also investigate metabolic pathways, enzymatic reactions, and other biochemical processes that occur within cells and their regulation. Understanding the biochemical basis of biological processes is essential for developing new drugs and treatments for diseases, as well as for advancing our understanding of life itself.', 'sources': nan}),\n",
       " Document(page_content='describe the spleen in biochemical, historical, and other contexts\\n', metadata={'answers': 'The spleen is an important organ in the body that is involved in a variety of biochemical and physiological processes. Here is a description of the spleen in biochemical, historical, and other contexts:\\n\\nBiochemical context:\\nThe spleen is a highly vascularized organ that is primarily responsible for filtering the blood and removing old or damaged red blood cells, as well as other cellular debris and foreign particles. The spleen contains specialized immune cells, such as B cells, T cells, and macrophages, that are involved in the immune response to infections and other foreign invaders. The spleen also serves as a reservoir of blood cells that can be released into circulation in response to blood loss or other emergencies.\\n\\nHistorical context:\\nThe spleen has been recognized as an important organ since ancient times, with references to the spleen dating back to the Hippocratic era in ancient Greece. However, the function of the spleen was poorly understood until the 19th century, when it was discovered that the spleen played a role in filtering the blood and removing old red blood cells. In the early 20th century, it was discovered that the spleen was also involved in the immune response.\\n\\nOther contexts:\\nIn addition to its physiological functions, the spleen has cultural and symbolic significance in various cultures and traditions. In traditional Chinese medicine, for example, the spleen is believed to be responsible for digestion and metabolism, as well as the emotions of worry and overthinking. In some cultures, the spleen is associated with courage, willpower, and determination.\\n\\nOverall, the spleen is a complex organ with a variety of functions and historical and cultural significance. Its biochemical and physiological properties make it an important target for medical research and treatment of various diseases and disorders.', 'sources': nan}),\n",
       " Document(page_content='describe the biochemical pathways of CD8+ T cells', metadata={'answers': 'The activation and function of CD8+ T cells involves a complex series of biochemical pathways. Here is a brief overview of some of the key steps involved:\\nAntigen recognition: CD8+ T cells recognize antigens presented on the surface of infected or abnormal cells, usually in the form of short peptide fragments displayed by MHC class I molecules.\\nT cell receptor signaling: Binding of the T cell receptor (TCR) to the antigen-MHC complex triggers a cascade of intracellular signaling events, including the activation of a protein tyrosine kinase called Lck.\\nCo-stimulation: In addition to TCR signaling, CD8+ T cell activation requires co-stimulation by other cell surface receptors, such as CD28, that interact with ligands on antigen-presenting cells (APCs). This helps to prevent inappropriate or self-reactive responses.\\nSignal transduction: The activation of Lck and other signaling molecules leads to the activation of downstream signaling pathways, including the mitogen-activated protein kinase (MAPK) pathway and the nuclear factor kappa B (NF-κB) pathway.\\nActivation of effector functions: CD8+ T cells undergo a process of clonal expansion and differentiation into effector cells, which can migrate to the site of infection or abnormality and release cytotoxic substances, such as perforin and granzymes, that induce apoptosis in the target cells.\\nRegulation of the immune response: CD8+ T cells also play a key role in regulating the immune response, through the release of cytokines and interactions with other immune cells such as helper T cells.\\nMemory formation: After the initial immune response, a subset of CD8+ T cells differentiate into long-lived memory cells that can rapidly respond to a subsequent exposure to the same antigen.\\nThese biochemical pathways are complex and interconnected, and the details of the CD8+ T cell response can vary depending on the nature of the antigen and the context of the immune response.', 'sources': nan}),\n",
       " Document(page_content='What is the nerve cell', metadata={'answers': \"A nerve cell, also known as a neuron, is a specialized type of cell that transmits information throughout the nervous system. Neurons are the basic building blocks of the nervous system, and they come in a variety of shapes and sizes depending on their location and function.\\n\\nAt the cellular level, a typical nerve cell consists of a cell body, dendrites, and an axon. The cell body contains the nucleus and other organelles that are responsible for maintaining the cell's metabolic processes. Dendrites are branched extensions that receive incoming signals from other neurons or sensory receptors. These signals are transmitted to the cell body, where they are integrated and processed. The axon is a long, thin extension that carries the outgoing signal from the cell body to other neurons or effector cells such as muscle fibers.\\n\\nThe axon is surrounded by a specialized membrane known as the axon hillock, which is responsible for initiating the electrical impulse that travels down the axon. This electrical impulse, known as an action potential, is generated by the opening and closing of ion channels in response to changes in membrane potential. The action potential travels down the axon and is transmitted to other neurons or effector cells at specialized junctions known as synapses.\\n\\nAt the synapse, the axon terminal releases neurotransmitters, which are chemical messengers that transmit the signal from one neuron to the next. The neurotransmitters bind to receptors on the postsynaptic membrane, which generates an electrical signal in the receiving neuron. This signal is then transmitted to the next neuron in the pathway, or to an effector cell such as a muscle fiber.\\n\\nOverall, the cellular structure and function of a nerve cell are highly specialized to enable the rapid transmission of signals throughout the nervous system. By understanding the cellular basis of neural communication, researchers can develop new therapies and treatments for a wide range of neurological disorders and diseases.\", 'sources': nan}),\n",
       " Document(page_content='What is the heart', metadata={'answers': \"The human heart is a muscular organ that pumps blood throughout the body. It is located in the chest cavity, slightly to the left of the midline, and is roughly the size of a closed fist. The heart is composed of four chambers: the right and left atria, and the right and left ventricles.\\n\\nBlood flows into the right atrium from the body and is then pumped into the right ventricle, which then pumps the blood to the lungs for oxygenation. Oxygenated blood returns to the heart in the left atrium and is then pumped into the left ventricle, which then pumps the blood out to the rest of the body.\\n\\nThe heart is surrounded by a double-layered sac called the pericardium, which helps protect the heart and keep it in place within the chest cavity. The heart is also supplied with oxygen and nutrients by a network of blood vessels, including the coronary arteries.\\n\\nThe heart's rhythmic contractions are coordinated by a specialized system of electrical impulses, known as the cardiac conduction system. This system includes the sinoatrial node, which acts as the heart's natural pacemaker, and the atrioventricular node, which helps coordinate the contraction of the atria and ventricles.\\n\\nThe heart is a vital organ that plays a crucial role in maintaining the body's overall health and function. Understanding the anatomy and function of the heart is essential for medical students, as it is relevant to a wide range of medical specialties, including cardiology, internal medicine, and emergency medicine.\", 'sources': nan}),\n",
       " Document(page_content='what is the cardiac conduction system', metadata={'answers': \"The cardiac conduction system is a specialized system of electrical impulses that coordinates the rhythmic contractions of the heart. The system includes several components, including the sinoatrial (SA) node, atrioventricular (AV) node, and the His-Purkinje system.\\nThe SA node, located in the upper right atrium, is the heart's natural pacemaker and initiates the electrical signal that triggers the heartbeat. The electrical signal spreads through the atria, causing them to contract and pump blood into the ventricles.\\nThe AV node, located at the bottom of the right atrium, slows down the electrical signal before it passes into the ventricles. This allows time for the atria to finish contracting before the ventricles contract.\\nAfter passing through the AV node, the electrical signal travels down the His-Purkinje system, a network of specialized muscle fibers that rapidly distribute the electrical signal throughout the ventricles. This coordinated contraction of the ventricles is essential for effective pumping of blood out of the heart.\\nOverall, the cardiac conduction system ensures that the heart's contractions are synchronized and coordinated, allowing for efficient pumping of blood throughout the body. Dysfunction of the cardiac conduction system can lead to various heart rhythm disorders, such as atrial fibrillation, which can have significant health consequences if left untreated.\", 'sources': nan}),\n",
       " Document(page_content='What is the SA node', metadata={'answers': \"The SA node, also known as the sinoatrial node, is a specialized group of cells located in the upper right atrium of the heart that serves as the heart's natural pacemaker. It generates electrical impulses that cause the atria to contract and initiate the heartbeat.\\n\\nThe SA node is responsible for setting the rhythm of the heartbeat by initiating a regular electrical impulse. This impulse travels through the atria, causing them to contract and pump blood into the ventricles. The SA node acts as the dominant pacemaker of the heart, meaning that its electrical impulses normally control the rate of the heartbeat.\\n\\nThe rate of electrical impulses generated by the SA node is regulated by the autonomic nervous system, which is composed of sympathetic and parasympathetic nerves. The sympathetic nervous system increases heart rate and force of contraction, while the parasympathetic nervous system slows down heart rate and decreases force of contraction.\\n\\nOverall, the SA node is a crucial component of the cardiac conduction system, ensuring that the heart's contractions are synchronized and coordinated. Dysfunction of the SA node can lead to various heart rhythm disorders, such as sinus bradycardia or sinus tachycardia, which can have significant health consequences if left untreated.\", 'sources': nan}),\n",
       " Document(page_content='What is the liver', metadata={'answers': 'The liver is a large, complex organ located in the upper right quadrant of the abdomen, just beneath the diaphragm. It is responsible for performing many important functions in the body, including:\\nMetabolism of nutrients: The liver is involved in the metabolism of carbohydrates, fats, and proteins, which are important sources of energy for the body.\\nProduction of bile: The liver produces bile, a substance that helps digest fats and absorb fat-soluble vitamins.\\nDetoxification of harmful substances: The liver is responsible for detoxifying and eliminating harmful substances from the body, including alcohol, drugs, and toxins.\\nStorage of nutrients: The liver stores important nutrients such as vitamins and minerals, as well as glucose, which is released into the bloodstream as needed.\\nProduction of blood proteins: The liver produces important proteins such as albumin, which helps maintain proper fluid balance in the body, and clotting factors, which are necessary for proper blood clotting.\\nRegulation of blood glucose levels: The liver plays a critical role in regulating blood glucose levels by storing excess glucose as glycogen and releasing it into the bloodstream when needed.\\nOverall, the liver is a vital organ that performs many essential functions in the body. Dysfunction of the liver can lead to various health problems, including liver disease, metabolic disorders, and impaired detoxification.', 'sources': nan}),\n",
       " Document(page_content='What is albumin', metadata={'answers': 'Albumin is a protein produced by the liver and is the most abundant protein in the blood. It plays several important roles in maintaining the health and function of the body.\\n\\nOne of the primary functions of albumin is to help maintain proper fluid balance in the body by regulating the movement of water between the blood vessels and tissues. It does this by exerting an osmotic pressure that helps to draw fluid back into the blood vessels.\\n\\nAlbumin also plays a key role in transporting various substances throughout the body, including hormones, fatty acids, and drugs. It acts as a carrier molecule, binding to these substances and transporting them to the tissues where they are needed.\\n\\nAdditionally, albumin is involved in maintaining the pH balance of the blood, protecting against oxidative stress, and regulating blood clotting.\\n\\nLow levels of albumin in the blood can be a sign of liver disease, kidney disease, malnutrition, or other health problems. This can lead to a variety of complications, including fluid buildup in the tissues (edema), impaired wound healing, and increased susceptibility to infections. Maintaining adequate levels of albumin is important for overall health and well-being.', 'sources': nan}),\n",
       " Document(page_content='What organs are related to the large intestine', metadata={'answers': 'Several organs are related to the large intestine, which is the final portion of the digestive tract responsible for absorbing water and electrolytes from undigested food and eliminating waste.\\n\\nSmall intestine: The small intestine is the portion of the digestive tract that connects the stomach to the large intestine. It is responsible for digesting and absorbing nutrients from food. The large intestine receives undigested material from the small intestine.\\n\\nAppendix: The appendix is a small pouch-like structure located near the junction of the small and large intestine. Although its function is not entirely clear, it is thought to play a role in the immune system.\\n\\nCecum: The cecum is the first part of the large intestine and is located in the lower right abdomen. It receives material from the small intestine and is the site of fermentation of some indigestible carbohydrates.\\n\\nColon: The colon is the longest portion of the large intestine and is responsible for absorbing water and electrolytes from the fecal material.\\n\\nRectum: The rectum is the final portion of the large intestine and stores fecal material before elimination through the anus.\\n\\nTogether, these organs work to digest and eliminate waste from the body, playing an important role in maintaining overall health and well-being. Dysfunction of the large intestine or related organs can lead to various health problems, including constipation, diarrhea, and inflammatory bowel disease.', 'sources': nan}),\n",
       " Document(page_content='What does the skeletal system do?', metadata={'answers': 'The skeletal system has many functions. Besides giving us our human shape and features, it:\\n\\nAllows movement: Your skeleton supports your body weight to help you stand and move. Joints, connective tissue and muscles work together to make your body parts mobile.\\nProduces blood cells: Bones contain bone marrow. Red and white blood cells are produced in the bone marrow.\\nProtects and supports organs: Your skull shields your brain, your ribs protect your heart and lungs, and your backbone protects your spine.\\nStores minerals: Bones hold your body’s supply of minerals like calcium and vitamin D.', 'sources': 'https://my.clevelandclinic.org/health/body/21048-skeletal-system'}),\n",
       " Document(page_content='What are the parts of the skeletal system?', metadata={'answers': 'The skeletal system is a network of many different parts that work together to help you move. The main part of your skeletal system consists of your bones, hard structures that create your body’s framework — the skeleton. There are 206 bones in an adult human skeleton. Each bone has three main layers:\\n\\nPeriosteum: The periosteum is a tough membrane that covers and protects the outside of the bone.\\nCompact bone: Below the periosteum, compact bone is white, hard, and smooth. It provides structural support and protection.\\nSpongy bone: The core, inner layer of the bone is softer than compact bone. It has small holes called pores to store marrow.\\nThe other components of your skeletal system include:\\n\\nCartilage: This smooth and flexible substance covers the tips of your bones where they meet. It enables bones to move without friction (rubbing against each other). When cartilage wears away, as in arthritis, it can be painful and cause movement problems.\\nJoints: A joint is where two or more bones in the body come together. There are three different joint types. The types of joints are:\\nImmovable joints: Immovable joints don’t let the bones move at all, like the joints between your skull bones.\\nPartly movable joints: These joints allow limited movement. The joints in your rib cage are partly movable joints.\\nMovable joints: Movable joints allow a wide range of motion. Your elbow, shoulder, and knee are movable joints.\\nLigaments: Bands of strong connective tissue called ligaments hold bones together.\\nTendons: Tendons are bands of tissue that connect the ends of a muscle to your bone.', 'sources': 'https://my.clevelandclinic.org/health/body/21048-skeletal-system'}),\n",
       " Document(page_content='What are some common conditions that can affect the skeletal system?', metadata={'answers': 'Many conditions can affect the bones, joints, and tissues that make up the skeletal system. Some happen as a result of disease or injury. Others develop due to wear and tear as you get older. Conditions that may affect the skeletal system can include:\\n\\nArthritis: Age, injury, and medical conditions such as Lyme disease can lead to arthritis, a painful wearing down of joints.\\nFracture: Disease, a tumor, or trauma can put stress on a bone, causing it to break.\\nOsteosarcoma: Cancer that forms in the bones can cause tumors that may weaken and break bones.\\nOsteoporosis: Bone loss caused by not getting enough calcium can lead to fragile and brittle bones, known as osteoporosis.\\nSprains and tears: Age, disease and trauma can cause connective tissue to overstretch and tear.', 'sources': 'https://my.clevelandclinic.org/health/body/21048-skeletal-system'}),\n",
       " Document(page_content='How can I keep my skeletal system healthy?', metadata={'answers': 'How can I keep my skeletal system healthy?\\n\\nTo keep your skeletal system strong and healthy, you should:\\n\\nGet plenty of vitamin D and calcium in your diet (try milk, yogurt or almonds) to keep bones strong.\\nDrink plenty of water to help keep tissues healthy.\\nExercise regularly to strengthen bones and joints.\\nStay at a healthy weight to avoid putting extra pressure on your bones and cartilage.\\nWear protective gear during contact sports such as football and hockey.\\nBe cautious on stairs to avoid falls.', 'sources': 'https://my.clevelandclinic.org/health/body/21048-skeletal-system'}),\n",
       " Document(page_content='What happens when you break a bone?', metadata={'answers': 'Your healthcare provider will classify a fracture based on the way the bone breaks. Types of fractures include:\\n\\nStable (closed): The ends of the broken bones line up.\\nStress fracture: Overuse causes a crack in the bone.\\nOpen (compound): The broken bone breaks the skin.\\nIf you break a bone, you’ll need an imaging test called an X-ray so your doctor can identify the type of fracture. Depending on the severity of the break, you’ll need to immobilize it (prevent it from moving) in a cast or brace for three to eight weeks. Broken bones can take several months to heal completely.', 'sources': 'https://my.clevelandclinic.org/health/body/21048-skeletal-system'}),\n",
       " Document(page_content='What are muscles?', metadata={'answers': 'Muscles are soft tissues. Many stretchy fibers make up your muscles. You have more than 600 muscles in your body. Different types of muscles have different jobs. Some muscles help you run, jump or perform delicate tasks like threading a needle. Other muscles allow you to breathe or digest food. Your heart is a hard-working muscle that beats thousands of times a day.\\n\\nMany disorders, injuries and diseases can affect how muscles work. These conditions can cause muscle pain, muscle spasms or muscle weakness. More severe disorders can lead to paralysis. Cardiomyopathy and other kinds of heart disease make it difficult for the heart to pump blood through the body.\\n\\nLiving a healthy lifestyle helps your muscles work like they should. You can keep your muscles strong by maintaining a healthy weight, eating a balanced diet and getting plenty of exercise. Be sure to see your provider regularly to screen for diseases and conditions that can lead to muscle problems.', 'sources': 'https://my.clevelandclinic.org/health/body/21887-muscle'}),\n",
       " Document(page_content='What are the types of muscles?', metadata={'answers': 'You control some muscles voluntarily with the help of your nervous system (your body’s command center). You make them move by thinking about moving them.\\n\\nOther muscles work involuntarily, which means you can’t control them. They do their job automatically. In order to work, they take cues from other body systems, such as your digestive system or cardiovascular system.\\n\\nThere are three types of muscle tissue in the body. They are:\\n\\nSkeletal: As part of the musculoskeletal system, these muscles work with your bones, tendons and ligaments. Tendons attach skeletal muscles to bones all over your body. Together, they support the weight of your body and help you move. You control these voluntary muscles. Some muscle fibers contract quickly and use short bursts of energy (fast-twitch muscles). Others move slowly, such as your back muscles that help with posture.\\nCardiac: These muscles line the heart walls. They help your heart pump blood that travels through your cardiovascular system. You don’t control cardiac muscles. Your heart tells them when to contract.\\nSmooth: These muscles line the insides of organs such as the bladder, stomach and intestines. Smooth muscles play an important role in many body systems, including the female reproductive system, male reproductive system, urinary system and respiratory system. These types of muscles work without you having to think about them. They do essential jobs like move waste through your intestines and help your lungs expand when you breathe.', 'sources': 'https://my.clevelandclinic.org/health/body/21887-muscle'}),\n",
       " Document(page_content='What do muscles do?', metadata={'answers': 'Muscles play a role in nearly every system and function of the body. Different kinds of muscles help with:\\n\\nBreathing, speaking and swallowing.\\nDigesting food and getting rid of waste.\\nMoving, sitting still and standing up straight.\\nPumping blood through the heart and blood vessels.\\nPushing a baby through the birth canal as muscles in the uterus contract and relax.\\nSeeing and hearing.', 'sources': 'https://my.clevelandclinic.org/health/body/21887-muscle'}),\n",
       " Document(page_content='What do muscles look like?', metadata={'answers': 'All types of muscle tissue look similar. But there are slight differences in their appearance:\\n\\nSkeletal muscles: Many individual fibers make up skeletal muscles. Actin and myosin are proteins that make up the fibers. The bundles of fibers form a spindle shape (long and straight with tapered ends). A membrane surrounds each spindle. Providers describe skeletal muscles as striated (striped) because of the striped pattern the spindles create together.\\nCardiac muscles: These striated muscles look similar to skeletal muscles. Special cells called cardiomyocytes make up the fibers in cardiac muscles. Cardiomyocytes help your heart beat.\\nSmooth muscles: The proteins actin and myosin also make up smooth muscle fibers. In skeletal muscles, these proteins come together to form a spindle shape. In smooth muscles, these proteins appear in sheets. The sheets give this muscle tissue a smooth appearance.\\n\\nYou have all sizes of muscles in your body. The largest muscle is the gluteus maximus (the muscle that makes up your bottom). The smallest muscle is the stapedius, which is deep inside your ear. This tiny muscle helps you hear by controlling the vibration and movement of small bones in your ear.', 'sources': 'https://my.clevelandclinic.org/health/body/21887-muscle'}),\n",
       " Document(page_content='What conditions and disorders affect the muscles?', metadata={'answers': 'A wide range of disorders, diseases, drugs and injuries can cause problems with how the muscles work. They include:\\n\\nCancer and other disease: Multiple types of cancer (such as sarcoma) and other diseases can lead to muscle problems. These include neuromuscular diseases such as amyotrophic lateral sclerosis (ALS), autoimmune disorders such as myasthenia gravis (MG), and many types of myopathies (muscle disease). A disease called polymyositis causes inflammation in the muscles, leading to muscle weakness.\\nCardiovascular disease: Several kinds of venous disease and cardiovascular disease, including coronary artery disease, can cause problems with the heart and blood vessels. A heart attack can result when muscles in the blood vessels weaken.\\nChronic pain disorders: Fibromyalgia and other disorders cause chronic pain in the muscles all over the body.\\nGenetic disorders: Muscular dystrophy is an inherited disorder (passed down through families). There are more than 30 types of muscular dystrophy. The disorder causes permanent muscle weakness.\\nInfections: Bacterial and viral infections can damage muscle fibers. These infections include Lyme disease, malaria and Rocky Mountain spotted fever.\\nInjuries: Many different injuries can cause muscles to tear or stretch too far (muscle strain). Back strains are a very common injury. Accidents, trauma and overuse injuries can cause muscle cramps or muscle spasms. In severe cases, these injuries can lead to paralysis.\\nMedications: Certain drugs, such as chemotherapy medications, can cause muscle pain. Sore muscles can also result from medications that treat high blood pressure. Some people develop muscle weakness after having a severe allergic reaction to a medication or a toxic substance.', 'sources': 'https://my.clevelandclinic.org/health/body/21887-muscle'}),\n",
       " Document(page_content='What happens to muscles during and after exercise?', metadata={'answers': 'Many people have sore muscles after working out. The soreness results from tiny tears (microtears) that happen when you put stress on a muscle. Usually, muscle soreness sets in a day or two after vigorous exercise. This is why providers call this condition delayed onset muscle soreness (DOMS).\\n\\nAs the muscles repair themselves and the tiny tears heal, the muscle tissue becomes inflamed. Within a few days, your muscles recover and the inflammation goes away. With continued exercise, the muscle tissue tears and rebuilds again and again. This process causes muscles to get bigger.', 'sources': 'https://my.clevelandclinic.org/health/body/21887-muscle'}),\n",
       " Document(page_content='What are common signs or symptoms of conditions affecting the muscles?', metadata={'answers': 'Some of the most common signs of muscle problems include:\\n\\nDifficulty swallowing, shortness of breath or other breathing problems.\\nMovement problems and balance issues.\\nMuscle pain, cramps or twitching.\\nMuscle weakness, loss of mobility or paralysis.\\nTingling or numbness.\\nVision problems (such as double vision) or droopy eyelids.\\nMany of these symptoms don’t necessarily mean something is wrong. Muscle pain or weakness often gets better with rest and hydration. If any of these symptoms come on suddenly, talk to your provider right away. Sudden muscle weakness or pain can be signs of a serious health condition.', 'sources': 'https://my.clevelandclinic.org/health/body/21887-muscle'}),\n",
       " Document(page_content='What are some common tests to check muscle health?', metadata={'answers': 'Depending on your symptoms, your provider may recommend:\\n\\nComplete blood count (CBC), a series of blood tests that evaluate your overall health and check for infection.\\nElectromyography (EMG) to measure how the nerves and muscles work.\\nImaging studies such as an MRI that show pictures of damage to muscles.\\nMuscle biopsy to test a sample of muscle tissue for disease.', 'sources': 'https://my.clevelandclinic.org/health/body/21887-muscle'}),\n",
       " Document(page_content='How can I keep my muscles healthy?', metadata={'answers': 'To keep your muscles healthy, you should focus on staying healthy overall:\\n\\nGet plenty of exercise: Staying active can keep all of your muscles strong, including your heart. Try to do a combination of cardiovascular activity and weight-bearing exercises. Talk to your provider about an exercise program that’s right for you. To avoid injuries, be sure to warm up properly before exercise. You’re less likely to injure muscles that are warm.\\nEat right and make smart choices: Be sure to eat a balanced diet to keep your muscles strong. Avoid sodium and trans fats (such as in fried foods), which can lead to heart disease. If you smoke, talk to your provider about a plan to help you quit.\\nMaintain a healthy weight: Carrying extra pounds can cause injuries. It also increases your risk of health problems, including high blood pressure. Talk to your provider about the most appropriate weight for your body and lifestyle. If you carry extra weight, ask your provider about a weight control plan.\\nRest when you need to: Give your muscles time to heal after a strain. You should also rest if you feel sore after rigorous exercise. Allowing your muscles time to repair and rebuild can help you avoid injury.\\nSchedule regular screenings: See your provider regularly. Get screened for diseases that put you at a higher risk of muscle problems. Staying on top of your health allows your provider to detect problems early. That’s when treatments are more effective.', 'sources': 'https://my.clevelandclinic.org/health/body/21887-muscle'}),\n",
       " Document(page_content='When should I call my doctor about my muscles?', metadata={'answers': 'If you have muscle weakness or muscle pain that comes on suddenly, call your provider right away. Get emergency medical help if you have trouble breathing or swallowing, or if you have vision changes, chest pain or problems with balance. These could be signs of a serious health condition.\\n\\nA note from Cleveland Clinic\\n\\nYour muscles play an essential role in keeping you alive and helping you interact with the world. Some muscles help you see, hear and move. Others are responsible for helping you breathe or digest food. Everyone loses some muscle mass with age. To keep your muscles working properly, you should maintain a healthy weight, get plenty of exercise and eat a balanced diet. See your provider for regular screenings that can detect health problems that may lead to muscle problems.', 'sources': 'https://my.clevelandclinic.org/health/body/21887-muscle'}),\n",
       " Document(page_content='What is the lymphatic system?', metadata={'answers': \"The lymphatic system is a network of tissues, vessels and organs that work together to move a colorless, watery fluid called lymph back into your circulatory system (your bloodstream).\\n\\nSome 20 liters of plasma flow through your body’s arteries and smaller arteriole blood vessels and capillaries every day. After delivering nutrients to the body’s cells and tissues and receiving their waste products, about 17 liters are returned to the circulation by way of veins. The remaining three liters seep through the capillaries and into your body’s tissues. The lymphatic system collects this excess fluid, now called lymph, from tissues in your body and moves it along until it's ultimately returned to your bloodstream.\\n\\nYour lymphatic system has many functions. Its key functions include:\\n\\nMaintains fluid levels in your body: As just described, the lymphatic system collects excess fluid that drains from cells and tissue throughout your body and returns it to your bloodstream, which is then recirculated through your body.\\nAbsorbs fats from the digestive tract: Lymph includes fluids from your intestines that contain fats and proteins and transports it back to your bloodstream.\\nProtects your body against foreign invaders: The lymphatic system is part of the immune system. It produces and releases lymphocytes (white blood cells) and other immune cells that monitor and then destroy the foreign invaders — such as bacteria, viruses, parasites and fungi — that may enter your body.\\nTransports and removes waste products and abnormal cells from the lymph.\", 'sources': 'https://my.clevelandclinic.org/health/articles/21199-lymphatic-system'}),\n",
       " Document(page_content='What are the parts of the lymphatic system?', metadata={'answers': 'The lymphatic system consists of many parts. These include:\\n\\nLymph: Lymph, also called lymphatic fluid, is a collection of the extra fluid that drains from cells and tissues (that is not reabsorbed into the capillaries) plus other substances. The other substances include proteins, minerals, fats, nutrients, damaged cells, cancer cells and foreign invaders (bacteria, viruses, etc). Lymph also transports infection-fighting white blood cells (lymphocytes).\\nLymph nodes: Lymph nodes are bean-shaped glands that monitor and cleanse the lymph as it filters through them. The nodes filter out the damaged cells and cancer cells. These lymph nodes also store lymphocytes and other immune system cells that attack and destroy bacteria and other harmful substances in the fluid. You have about 600 lymph nodes scattered throughout your body. Some exist as a single node; others are closely connected groups called chains. A few of the more familiar locations of lymph nodes are in your armpit, groin and neck. Lymph nodes are connected to others by the lymphatic vessels.·\\nLymphatic vessels: Lymphatic vessels are the network of capillaries (microvessels) and a large network of tubes located throughout your body that transport lymph away from tissues. Lymphatic vessels collect and filter lymph (at the nodes) as it continues to move toward larger vessels called collecting ducts. These vessels operate very much like your veins do: They work under very low pressure, have a series of valves in them to keep the fluid moving in one direction.\\nCollecting ducts: Lymphatic vessels empty the lymph into the right lymphatic duct and left lymphatic duct (also called the thoracic duct). These ducts connect to the subclavian vein, which returns lymph to your bloodstream. The subclavian vein runs below your collarbone. Returning lymph to the bloodstream helps to maintain normal blood volume and pressure. It also prevents the excess buildup of fluid around the tissues (called edema). The lymphatic system collects excess fluid that drains from cells and tissue throughout the body and returns it to the bloodstream, which is then recirculated through the body.\\n\\nSpleen: This largest lymphatic organ is located on your left side under your ribs and above your stomach. The spleen filters and stores blood and produces white blood cells that fight infection or disease.\\nThymus: This organ is located in the upper chest beneath the breast bone. It matures a specific type of white blood cell that fights off foreign organisms.\\nTonsils and adenoid: These lymphoid organs trap pathogens from the food you eat and the air you breathe. They are your body’s first line of defense against foreign invaders.\\nBone marrow: This is the soft, spongy tissue in the center of certain bones, such as the hip bone and breastbone. White blood cells, red blood cells, and platelets are made in the bone marrow.\\nPeyer’s patches: These are small masses of lymphatic tissue in the mucous membrane that lines your small intestine. These lymphoid cells monitor and destroy bacteria in the intestines.\\nAppendix: Your appendix contains lymphoid tissue that can destroy bacteria before it breaches the intestine wall during absorption. Scientists also believe the appendix plays a role in housing “good bacteria” and repopulating our gut with good bacteria after an infection has cleared.', 'sources': 'https://my.clevelandclinic.org/health/articles/21199-lymphatic-system'}),\n",
       " Document(page_content='What conditions affect the lymphatic system?', metadata={'answers': \"Many conditions can affect the vessels, glands, and organs that make up the lymphatic system. Some happen during development before birth or during childhood. Others develop as a result of disease or injury. Some common and less common diseases and disorders of the lymphatic system include:\\n\\nEnlarged (swollen) lymph nodes (lymphadenopathy): Enlarged lymph nodes are caused by infection, inflammation or cancer. Common infections that can cause enlarged lymph nodes include strep throat, mononucleosis, HIV infection and infected skin wounds. Lymphadenitis refers to lymphadenopathy that is caused by an infection or inflammatory condition.\\nSwelling or accumulation of fluid (lymphedema): Lymphedema can result from a blockage in the lymphatic system caused by scar tissue from damaged lymph vessels or nodes. Lymphedema is also often seen when lymph nodes are removed from those who've had surgery or radiation to remove cancer. The buildup of lymphatic fluid is most commonly seen in your arms and legs. Lymphedema can be very mild or be quite painful, disfiguring and disabling. People with lymphedema are at risk for serious and potentially life-threatening deep skin infections.\\nCancers of the lymphatic system: Lymphoma is cancer of the lymph nodes and occurs when lymphocytes grow and multiply uncontrollably. There are several different types of lymphoma, including Hodgkin’s lymphoma and non-Hodgkin’s lymphoma. Cancerous tumors can also block lymphatic ducts or be near lymph nodes and interfere with the flow of lymph through the node.\\nOther disorders include:\\n\\nLymphangitis: This is an inflammation of the lymph vessels.\\nLymphangioma: This is a condition that you're born with. It’s a malformation in the lymphatic system. Lymphangiomatosis is the presence of multiple or widespread lymphatic vascular malformations.\\nIntestinal lymphangiectasia: This is a condition in which loss of lymph tissue in the small intestine leads to loss of protein, gammaglobulins, albumin and lymphocytes.\\nLymphocytosis: This is a condition in which there is a higher-than-normal amount of lymphocytes in the body.\\nLymphatic filariasis: This is an infection caused by a parasite that causes the lymphatic system not to function correctly.\\nCastleman disease: Castleman disease involves an overgrowth of cells in the body’s lymphatic system.\\nLymphangioleiomyomatosis: This is a rare lung disease in which abnormal muscle-like cells begin to grow out of control in the lungs, lymph nodes and kidneys.\\nAutoimmune lymphoproliferative syndrome: This is a rare genetic disorder in which there is a high number of lymphocytes in the lymph nodes, liver and spleen.\\nMesenteric lymphadenitis: This is an inflammation of the lymph nodes in the abdomen.\\nTonsillitis: This is an inflammation and infection of the tonsils.\", 'sources': 'https://my.clevelandclinic.org/health/articles/21199-lymphatic-system'}),\n",
       " Document(page_content='How can I keep my lymphatic system healthy?', metadata={'answers': 'To keep your lymphatic system strong and healthy, you should:\\n\\nAvoid exposure to toxic chemicals like those in pesticides or cleaning products. These chemicals can build up in your system and make it harder for your body to filter waste.\\nDrink plenty of water to stay hydrated so lymph can easily move throughout your body.\\nMaintain a healthy lifestyle that includes regular exercise and a healthy diet.', 'sources': 'https://my.clevelandclinic.org/health/articles/21199-lymphatic-system'}),\n",
       " Document(page_content='When should I call my doctor about an issue with my lymphatic system?', metadata={'answers': 'Call your doctor if you experience fatigue (extreme tiredness) or have unexplained swelling that lasts more than a few weeks or interferes with your daily activities.', 'sources': 'https://my.clevelandclinic.org/health/articles/21199-lymphatic-system'}),\n",
       " Document(page_content='What is the digestive system?', metadata={'answers': 'Your digestive system is made up of the gastrointestinal (GI) tract and your liver, pancreas and gallbladder. The GI tract is a series of hollow organs that are connected to each other from your mouth to your anus. The organs that make up your GI tract, in the order that they are connected, include your mouth, esophagus, stomach, small intestine, large intestine and anus.', 'sources': 'https://my.clevelandclinic.org/health/body/7041-digestive-system'}),\n",
       " Document(page_content='What does the digestive system do?', metadata={'answers': 'Your digestive system is uniquely constructed to do its job of turning your food into the nutrients and energy you need to survive. And when it’s done with that, it handily packages your solid waste, or stool, for disposal when you have a bowel movement.', 'sources': 'https://my.clevelandclinic.org/health/body/7041-digestive-system'}),\n",
       " Document(page_content='Why is digestion important?', metadata={'answers': 'Digestion is important because your body needs nutrients from the food you eat and the liquids you drink in order to stay healthy and function properly. Nutrients include carbohydrates, proteins, fats, vitamins, minerals and water. Your digestive system breaks down and absorbs nutrients from the food and liquids you consume to use for important things like energy, growth and repairing cells.', 'sources': 'https://my.clevelandclinic.org/health/body/7041-digestive-system'}),\n",
       " Document(page_content='What organs make up the digestive system?', metadata={'answers': 'The main organs that make up the digestive system (in order of their function) are the mouth, esophagus, stomach, small intestine, large intestine, rectum and anus. Helping them along the way are the pancreas, gall bladder and liver.\\n\\nHere’s how these organs work together in your digestive system.\\n', 'sources': 'https://my.clevelandclinic.org/health/body/7041-digestive-system'}),\n",
       " Document(page_content='Tell me about the mouth', metadata={'answers': 'The mouth is the beginning of the digestive tract. In fact, digestion starts before you even take a bite. Your salivary glands get active as you see and smell that pasta dish or warm bread. After you start eating, you chew your food into pieces that are more easily digested. Your saliva mixes with the food to begin to break it down into a form your body can absorb and use. When you swallow, your tongue passes the food into your throat and into your esophagus.', 'sources': 'https://my.clevelandclinic.org/health/body/7041-digestive-system'}),\n",
       " Document(page_content='Tell me about the Esophagus', metadata={'answers': 'Located in your throat near your trachea (windpipe), the esophagus receives food from your mouth when you swallow. The epiglottis is a small flap that folds over your windpipe as you swallow to prevent you from choking (when food goes into your windpipe). A series of muscular contractions within the esophagus called peristalsis delivers food to your stomach.\\n\\nBut first a ring-like muscle at the bottom of your esophagus called the lower esophageal sphincter has to relax to let the food in. The sphincter then contracts and prevents the contents of the stomach from flowing back into the esophagus. (When it doesn’t and these contents flow back into the esophagus, you may experience acid reflux or heartburn.)', 'sources': 'https://my.clevelandclinic.org/health/body/7041-digestive-system'}),\n",
       " Document(page_content='Tell me about Stomach', metadata={'answers': 'The stomach is a hollow organ, or \"container,\" that holds food while it is being mixed with stomach enzymes. These enzymes continue the process of breaking down food into a usable form. Cells in the lining of your stomach secrete a strong acid and powerful enzymes that are responsible for the breakdown process. When the contents of the stomach are processed enough, they’re released into the small intestine.', 'sources': 'https://my.clevelandclinic.org/health/body/7041-digestive-system'}),\n",
       " Document(page_content='Tell me about the Small intestine', metadata={'answers': 'Made up of three segments — the duodenum, jejunum, and ileum — the small intestine is a 22-foot long muscular tube that breaks down food using enzymes released by the pancreas and bile from the liver. Peristalsis also works in this organ, moving food through and mixing it with digestive juices from the pancreas and liver.\\n\\nThe duodenum is the first segment of the small intestine. It’s largely responsible for the continuous breaking-down process. The jejunum and ileum lower in the intestine are mainly responsible for the absorption of nutrients into the bloodstream.\\n\\nContents of the small intestine start out semi-solid and end in a liquid form after passing through the organ. Water, bile, enzymes and mucus contribute to the change in consistency. Once the nutrients have been absorbed and the leftover-food residue liquid has passed through the small intestine, it then moves on to the large intestine (colon).', 'sources': 'https://my.clevelandclinic.org/health/body/7041-digestive-system'}),\n",
       " Document(page_content='Tell me about the Pancreas', metadata={'answers': 'The pancreas secretes digestive enzymes into the duodenum that break down protein, fats and carbohydrates. The pancreas also makes insulin, passing it directly into the bloodstream. Insulin is the chief hormone in your body for metabolizing sugar.', 'sources': 'https://my.clevelandclinic.org/health/body/7041-digestive-system'}),\n",
       " Document(page_content='Tell me about the Liver', metadata={'answers': 'The liver has many functions, but its main job within the digestive system is to process the nutrients absorbed from the small intestine. Bile from the liver secreted into the small intestine also plays an important role in digesting fat and some vitamins.\\n\\nThe liver is your body\\'s chemical \"factory.\" It takes the raw materials absorbed by the intestine and makes all the various chemicals your body needs to function.\\n\\nThe liver also detoxifies potentially harmful chemicals. It breaks down and secretes many drugs that can be toxic to your body.', 'sources': 'https://my.clevelandclinic.org/health/body/7041-digestive-system'}),\n",
       " Document(page_content='Tell me about the Gallbladder', metadata={'answers': 'The gallbladder stores and concentrates bile from the liver, and then releases it into the duodenum in the small intestine to help absorb and digest fats', 'sources': 'https://my.clevelandclinic.org/health/body/7041-digestive-system'}),\n",
       " Document(page_content='Tell me about the Colon', metadata={'answers': 'The colon is responsible for processing waste so that emptying your bowels is easy and convenient. It’s a 6-foot long muscular tube that connects the small intestine to the rectum.\\n\\nThe colon is made up of the cecum, the ascending (right) colon, the transverse (across) colon, the descending (left) colon, and the sigmoid colon, which connects to the rectum.\\n\\nStool, or waste left over from the digestive process, is passed through the colon by means of peristalsis, first in a liquid state and ultimately in a solid form. As stool passes through the colon, water is removed. Stool is stored in the sigmoid (S-shaped) colon until a \"mass movement\" empties it into the rectum once or twice a day.\\n\\nIt normally takes about 36 hours for stool to get through the colon. The stool itself is mostly food debris and bacteria. These “good” bacteria perform several useful functions, such as synthesizing various vitamins, processing waste products and food particles and protecting against harmful bacteria. When the descending colon becomes full of stool, or feces, it empties its contents into the rectum to begin the process of elimination (a bowel movement).', 'sources': 'https://my.clevelandclinic.org/health/body/7041-digestive-system'}),\n",
       " Document(page_content='Tell me about Rectum', metadata={'answers': \"The rectum is a straight, 8-inch chamber that connects the colon to the anus. The rectum's job is to receive stool from the colon, let you know that there is stool to be evacuated (pooped out) and to hold the stool until evacuation happens. When anything (gas or stool) comes into the rectum, sensors send a message to the brain. The brain then decides if the rectal contents can be released or not.\\n\\nIf they can, the sphincters relax and the rectum contracts, disposing its contents. If the contents cannot be disposed, the sphincter contracts and the rectum accommodates so that the sensation temporarily goes away.\", 'sources': 'https://my.clevelandclinic.org/health/body/7041-digestive-system'}),\n",
       " Document(page_content='Tell me about the anus', metadata={'answers': 'The anus is the last part of the digestive tract. It is a 2-inch long canal consisting of the pelvic floor muscles and the two anal sphincters (internal and external). The lining of the upper anus is able to detect rectal contents. It lets you know whether the contents are liquid, gas or solid.\\n\\nThe anus is surrounded by sphincter muscles that are important in allowing control of stool. The pelvic floor muscle creates an angle between the rectum and the anus that stops stool from coming out when it’s not supposed to. The internal sphincter is always tight, except when stool enters the rectum. This keeps us continent (prevents us from pooping involuntarily) when we are asleep or otherwise unaware of the presence of stool.\\n\\nWhen we get an urge to go to the bathroom, we rely on our external sphincter to hold the stool until reaching a toilet, where it then relaxes to release the contents.', 'sources': 'https://my.clevelandclinic.org/health/body/7041-digestive-system'}),\n",
       " Document(page_content='What are some common conditions that affect the digestive system?', metadata={'answers': 'There are temporary conditions and long-term, or chronic, diseases and disorders that affect the digestive system. It’s common to have conditions such as constipation, diarrhea or heartburn from time to time. If you are experiencing digestive issues like these frequently, be sure to contact your healthcare professional. It could be a sign of a more serious disorder that needs medical attention and treatment.\\n\\nShort-term or temporary conditions that affect the digestive system include:\\n\\nConstipation: Constipation generally happens when you go poop (have a bowel movement) less frequently than you normally do. When you’re constipated, your poop is often dry and hard and it’s difficult and painful for your poop to pass.\\nDiarrhea: Diarrhea is when you have loose or watery poop. Diarrhea can be caused by many things, including bacteria, but sometimes the cause is unknown.\\nHeartburn: Although it has “heart” in its name, heartburn is actually a digestive issue. Heartburn is an uncomfortable burning feeling in your chest that can move up your neck and throat. It happens when acidic digestive juices from your stomach go back up your esophagus.\\nHemorrhoids: Hemorrhoids are swollen, enlarged veins that form inside and outside of your anus and rectum. They can be painful, uncomfortable and cause rectal bleeding.\\nStomach flu (gastroenteritis): The stomach flu is an infection of the stomach and upper part of the small intestine usually caused by a virus. It usually lasts less than a week. Millions of people get the stomach flu every year.\\nUlcers: An ulcer is a sore that develops on the lining of the esophagus, stomach or small intestine. The most common causes of ulcers are infection with a bacteria called Helicobacter pylori (H. pylori) and long-term use of anti-inflammatory drugs such as ibuprofen.\\nGallstones: Gallstones are small pieces of solid material formed from digestive fluid that form in your gallbladder, a small organ under your liver.\\nCommon digestive system diseases (gastrointestinal diseases) and disorders include:\\n\\nGERD (chronic acid reflux): GERD (gastroesophageal reflux disease, or chronic acid reflux) is a condition in which acid-containing contents in your stomach frequently leak back up into your esophagus.\\nIrritable bowel syndrome (IBS): IBS is a condition in which your colon muscle contracts more or less often than normal. People with IBS experience excessive gas, abdominal pain and cramps.\\nLactose intolerance: People with lactose intolerance are unable to digest lactose, the sugar primarily found in milk and dairy products.\\nDiverticulosis and diverticulitis: Diverticulosis and diverticulitis are two conditions that occur in your large intestine (also called your colon). Both share the common feature of diverticula, which are pockets or bulges that form in the wall of your colon.\\nCancer: Cancers that affect tissues and organs in the digestive system are called gastrointestinal (GI) cancers. There are multiple kinds of GI cancers. The most common digestive system cancers include esophageal cancer, gastric (stomach) cancer, colon and rectal (colorectal) cancer, pancreatic cancer and liver cancer.\\nCrohn’s disease: Crohn’s disease is a lifelong form of inflammatory bowel disease (IBD). The condition irritates the digestive tract.\\nCeliac disease: Celiac disease is an autoimmune disorder that can damage your small intestine. The damage happens when a person with celiac disease consumes gluten, a protein found in wheat, barley and rye.', 'sources': 'https://my.clevelandclinic.org/health/body/7041-digestive-system'}),\n",
       " Document(page_content='How can I keep my digestive system healthy?', metadata={'answers': 'If you have a medical condition, always ask your healthcare provider what you should do and eat to stay healthy and manage your condition. In general, the following are ways to keep your digestive system healthy:\\n\\nDrink water often: Water helps the food you eat flow more easily through your digestive system. Low amounts of water in your body (dehydration) is a common cause of constipation.\\nInclude fiber in your diet: Fiber is beneficial to digestion and helps your body have regular bowel movements. Be sure to incorporate both soluble and insoluble fiber into your diet.\\nEat a balanced diet: Be sure to eat several servings of fruit and vegetables every day. Choose whole grains over processed grains and try to avoid processed foods in general. Choose poultry and fish more often than red meat and limit all deli (processed) meats. Limit the amount of sugar you consume.\\nEat foods with probiotics or take probiotic supplements: Probiotics are good bacteria that help fight off the bad bacteria in your gut. They also make healthy substances that nourish your gut. It can be especially helpful to consume probiotics after you have taken an antibiotic because antibiotics often kill both bad and good bacteria in your gut.\\nEat mindfully and chew your food: Eating slowly gives your body time to digest your food properly. It also allows your body to send you cues that it is full. It is important to chew your food thoroughly because it helps to ensure your body has enough saliva (spit) for digestion. Chewing your food fully also makes it easier for your digestive system to absorb the nutrients in the food.\\nExercise: Physical activity and gravity help move food through your digestive system. Taking a walk, for example, after you eat a meal can help your body digest the food more easily.\\nAvoid alcohol and smoking: Alcohol can increase the amount of acid in your stomach and can cause heartburn, acid reflux and stomach ulcers. Smoking almost doubles your risk of having acid reflux. Research has shown that people who have digestive issues that quit smoking have improved symptoms.\\nManage your stress: Stress is associated with digestive issues such as constipation, diarrhea and IBS.', 'sources': 'https://my.clevelandclinic.org/health/body/7041-digestive-system'}),\n",
       " Document(page_content='When should I contact my healthcare provider about digestive system issues?', metadata={'answers': 'Contact your healthcare provider if you are experiencing frequent symptoms such as constipation, diarrhea, vomiting, stomach pain or cramps, excessive gas (farting), or heartburn. While most people experience these conditions every once in a while, if you experience them often, it could be a sign of a more serious digestive system issue.', 'sources': 'https://my.clevelandclinic.org/health/body/7041-digestive-system'}),\n",
       " Document(page_content='What is the urinary system?', metadata={'answers': 'The urinary system works as a filter, removing toxins and wastes from your body through urine. It uses a series of tubes and ducts to pass this waste. These tubes are connected to your blood vessels and digestive system. Your urinary system helps the rest of your body work properly.', 'sources': 'https://my.clevelandclinic.org/health/articles/21197-urinary-system'}),\n",
       " Document(page_content='What does the urinary system do?', metadata={'answers': 'Your urinary system filters your blood to get rid of what your body doesn’t need. It eliminates extra water and salt, toxins, and other waste products. Different parts of the urinary system perform tasks including:\\n\\nFiltering blood.\\nSeparating the toxins you don’t need from the nutrients you do need.\\nStoring and carrying urine out of your body.', 'sources': 'https://my.clevelandclinic.org/health/articles/21197-urinary-system'}),\n",
       " Document(page_content='How does the urinary system clean my blood?', metadata={'answers': 'Your kidneys are an essential part of filtering your blood. Here’s how the urinary system works:\\n\\nYour blood enters each kidney through lots of little arteries.\\nYour kidneys filter your blood, separating toxins from nutrients.\\nVitamins, minerals, nutrients and proteins return to your bloodstream.\\nWaste products and urine move through your ureters to your bladder. Your bladder stores urine until you use the toilet.\\nUrine leaves your body through your urethra.', 'sources': 'https://my.clevelandclinic.org/health/articles/21197-urinary-system'}),\n",
       " Document(page_content='What are the parts of the urinary system?', metadata={'answers': 'The kidneys, ureters, bladder and urethra make up the urinary system. They all work together to filter, store and remove liquid waste from your body. Here’s what each organ does:\\n\\nKidneys: These organs work constantly. They filter your blood and make urine, which your body eliminates. You have two kidneys, one on either side of the back of your abdomen, just below your rib cage. Each kidney is about as big as your fist.\\nUreters: These two thin tubes inside your pelvis carry urine from your kidneys to your bladder.\\nBladder: Your bladder holds urine until you’re ready to empty it (pee). It’s hollow, made of muscle, and shaped like a balloon. Your bladder expands as it fills up. Most bladders can hold up to 2 cups of urine.\\nUrethra: This tube carries urine from your bladder out of your body. It ends in an opening to the outside of your body in the penis (in men) or in front of the vagina (in women).', 'sources': 'https://my.clevelandclinic.org/health/articles/21197-urinary-system'}),\n",
       " Document(page_content='What conditions and disorders affect the urinary system?', metadata={'answers': 'Many conditions can affect the ureters, kidneys, bladder and urethra. Infections, diseases, or problems can appear at birth or develop as you get older. Some common urinary disorders are:\\n\\nInfections: Urinary tract infections and sexually transmitted infections (STIs) can cause issues in the kidneys, urethra, or bladder. These infections occur when bacteria or viruses enter your urinary tract through your urethra. Your doctor can prescribe medication to treat an infection.\\nStructural problems: Sometimes babies are born with birth defects that affect the way their urinary tract is formed. These abnormalities can cause urine to back up in the kidneys and cause infection. Later in life, a bladder prolapse can occur after pregnancy or as women age. A prolapsed bladder drops into the vagina or hangs out of the vaginal opening. Sometimes structural issues need surgery to repair the issue.\\nKidney stones: These masses form when waste products in urine clump together. Kidney stones or ureteral stones (kidney stones that move to the ureter) can cause severe pain and block the flow of urine. Your doctor may use ultrasound (sound waves) to break the stones into tiny pieces so they’re easier to pass.\\nUrination problems: Loss of bladder control, or urinary incontinence (leakage), causes urine to leak a little or a lot. Urinary incontinence most often occurs in women, usually after pregnancy or later in life. It can be worse when you cough, laugh, sneeze or jump. Overactive bladder happens when you feel the sudden urge to urinate often. Medications can help treat these conditions.\\nUrinary tract obstruction: Growths or cancerous tumors in the abdomen can affect the flow of urine. In men, an enlarged prostate (also called benign prostatic hyperplasia or BPH) can block the ureter so it’s harder to urinate. BPH can be treated with medications or surgery. Other causes of ureteral obstruction include pregnancy and gastrointestinal (GI) issues like Crohn’s disease.\\nKidney disease: The most common causes of chronic kidney disease are high blood pressure and diabetes. Managing blood pressure and blood sugar is crucial to lowering your risk of kidney disease. A genetic condition called polycystic kidney disease causes fluid-filled cysts to form inside the kidneys. Non-steroidal anti-inflammatory drugs (NSAIDs), such as ibuprofen (Advil®) or naproxen (Aleve®), may damage your kidneys. The usual recommended dose of acetaminophen (Tylenol®) is safe for your kidneys. Check with your doctor to learn which over-the-counter pain medicines are safest for you. Overdoses of almost all medicines — prescription and over-the-counter — can cause your kidneys to work too hard when filtering waste, which can lead to kidney failure. Kidney failure may require dialysis or a kidney transplant.\\nInterstitial cystitis: Also called painful bladder syndrome, this condition causes inflammation (swelling and irritation) in the bladder. Medications and physical therapy can improve the symptoms of painful bladder syndrome.', 'sources': 'https://my.clevelandclinic.org/health/articles/21197-urinary-system'}),\n",
       " Document(page_content='How common are these conditions?', metadata={'answers': 'The most common urinary issues are bladder infections and urinary tract infections (UTIs). UTIs are more common in women than in men. More than 60% of women will get a UTI in their lifetime.\\n\\nAbout half of women over 65 experience urinary incontinence, usually because of stretched muscles from pregnancy and childbirth. Kidney stones are also fairly common, occurring in about 1 in every 10 people.', 'sources': 'https://my.clevelandclinic.org/health/articles/21197-urinary-system'}),\n",
       " Document(page_content='How can I keep my urinary system healthy?', metadata={'answers': 'You can’t prevent most urinary tract problems. But you can try to keep your urinary system healthy with proper hygiene and a healthy lifestyle. To help your urinary system work the way it should, you can:\\n\\nDrink plenty of water: Staying hydrated will flush out your system and can help you prevent kidney stones and UTIs. You can try drinking cranberry juice to ward off a UTI. Compounds in cranberries may stop bacteria from growing.\\nEat a healthy diet: Low sodium, high-calcium foods may prevent kidney stones.\\nWipe the right way: Women should always wipe front to back after using the toilet. Proper wiping reduces the risk of bacteria getting into the vagina and causing a UTI.\\nEmpty your bladder after sex: If you’re a woman, you should use the bathroom after having sex. Peeing promptly can clear out bacteria and reduce your risk of a UTI.\\nPractice safe sex: Protect yourself from an STI with a condom. But be careful with spermicides because they can cause bacteria to flourish.\\nDo pelvic floor exercises: Also called Kegel exercises, these can reduce your risk of urinary incontinence by strengthening the muscles in your pelvic floor.', 'sources': 'https://my.clevelandclinic.org/health/articles/21197-urinary-system'}),\n",
       " Document(page_content='When should I call my doctor if I think I might have a problem with my urinary tract?', metadata={'answers': 'If you’re having trouble or pain when urinating, you should visit your doctor. It may be a sign of an infection or another condition. Call your doctor if you have:\\n\\nBlood in your urine.\\nBurning sensation, pain or difficulty urinating.\\nPain in your pelvic area, lower back, genital area, or flank (the back and sides of your abdomen).\\nTrouble holding your urine or problems with leaking urine.\\nA feeling that something is bulging out of your vagina.\\nA note from Cleveland Clinic\\n\\nYour urinary system plays a critical role in keeping you alive. It filters your blood and removes waste and excess water through urine. Your urinary system includes your kidneys, ureters, bladder and urethra. Conditions like urinary tract infections, sexually transmitted infections, kidney diseases, and urinary tract obstruction can affect the health of your urinary system. If you have one of these conditions, talk to your healthcare provider about steps you can take to ensure your health.', 'sources': 'https://my.clevelandclinic.org/health/articles/21197-urinary-system'}),\n",
       " Document(page_content='What is the nervous system?', metadata={'answers': 'Your nervous system guides almost everything you do, think, say or feel. It controls complicated processes like movement, thought and memory. It also plays an essential role in the things your body does without thinking, such as breathing, blushing and blinking.\\n\\nYour nervous system affects every aspect of your health, including your:\\n\\nThoughts, memory, learning, and feelings.\\nMovements, such as balance and coordination.\\nSenses, including how your brain interprets what you see, hear, taste, touch and feel.\\nSleep, healing and aging.\\nHeartbeat and breathing patterns.\\nResponse to stressful situations.\\nDigestion, as well as how hungry and thirsty you feel.\\nBody processes, such as puberty.\\nThis complex system is the command center for your body. It regulates your body’s systems and allows you to experience your environment.\\n\\nA vast network of nerves sends electrical signals to and from other cells, glands, and muscles all over your body. These nerves receive information from the world around you. Then the nerves interpret the information and control your response. It’s almost like an enormous information highway running throughout your body.', 'sources': 'https://my.clevelandclinic.org/health/articles/21202-nervous-system'}),\n",
       " Document(page_content='What does the nervous system do?', metadata={'answers': 'Your nervous system uses specialized cells called neurons to send signals, or messages, all over your body. These electrical signals travel between your brain, skin, organs, glands and muscles.\\n\\nThe messages help you move your limbs and feel sensations, such as pain. Your eyes, ears, tongue, nose and the nerves all over your body take in information about your environment. Then nerves carry that data to and from your brain.\\n\\nDifferent kinds of neurons send different signals. Motor neurons tell your muscles to move. Sensory neurons take information from your senses and send signals to your brain. Other types of neurons control the things your body does automatically, like breathing, shivering, having a regular heartbeat and digesting food.', 'sources': 'https://my.clevelandclinic.org/health/articles/21202-nervous-system'}),\n",
       " Document(page_content='What are the parts of the nervous system?', metadata={'answers': 'The nervous system has two main parts. Each part contains billions of cells called neurons, or nerve cells. These special cells send and receive electrical signals through your body to tell it what to do.\\n\\nThe main parts of the nervous system are:\\n\\nCentral nervous system (CNS): Your brain and spinal cord make up your CNS. Your brain uses your nerves to send messages to the rest of your body. Each nerve has a protective outer layer called myelin. Myelin insulates the nerve and helps the messages get through.\\n\\nPeripheral nervous system: Your peripheral nervous system consists of many nerves that branch out from your CNS all over your body. This system relays information from your brain and spinal cord to your organs, arms, legs, fingers and toes. Your peripheral nervous system contains your:\\n\\nSomatic nervous system, which guides your voluntary movements.\\nAutonomic nervous system, which controls the activities you do without thinking about them.', 'sources': 'https://my.clevelandclinic.org/health/articles/21202-nervous-system'}),\n",
       " Document(page_content='What conditions and disorders affect the nervous system?', metadata={'answers': 'Thousands of disorders and conditions can affect your nerves. An injured nerve has trouble sending a message. Sometimes it’s so damaged that it can’t send or receive a message at all. Nerve injury can cause numbness, a pins-and-needles feeling or pain. It may be difficult or impossible for you to move the area that’s injured.\\n\\nNerve damage can happen in several ways. Some of the most common causes of nerve damage include:\\n\\nDisease: Many infections, cancers, and autoimmune diseases like diabetes, lupus and rheumatoid arthritis can cause nervous system problems. Diabetes can lead to diabetes-related neuropathy, causing tingling and pain in the legs and feet. A condition called multiple sclerosis attacks the myelin around nerves in the CNS.\\nStroke: A stroke happens when one of the brain’s blood vessels becomes blocked or suddenly bursts. Without enough blood, part of the brain dies. Then it can’t send messages via nerves. A stroke can cause nerve damage ranging from mild to severe.\\nAccidental injury: Nerves can be crushed, stretched, or cut in an accident. Car crashes and falls are common injuries that can damage nerves anywhere in your body.\\nPressure: If a nerve is pinched or compressed, it can’t get enough blood to do its job. Nerves can be pinched or trapped for many reasons, such as overuse (as in carpal tunnel syndrome), a tumor, or structural problems like sciatica.\\nToxic substances: Chemotherapy medicines, illegal drugs, excessive alcohol and poisonous substances can cause peripheral neuropathy or nerve damage. People with kidney disease are more likely to develop nerve damage because their kidneys have a hard time filtering out toxins.\\nAging process: As you get older, your neurons’ signals may not travel as fast as they used to. You may feel weaker, and your reflexes may slow down. Some people lose sensation in their fingers, toes or other parts of their body.\\nHow common are these conditions?\\n\\nSome causes of nerve damage occur more frequently than others. They include:\\n\\nDiabetes: This disorder of the endocrine system causes nerve damage called diabetes-related neuropathy. Around 30 million Americans have diabetes and nearly 50% of them have some nerve damage. Neuropathy of diabetes usually affects the arms, legs, hands, feet, fingers and toes.\\nLupus: About 1.5 million Americans live with lupus, and 15% of them have experienced nerve damage.\\nRheumatoid arthritis: People with rheumatoid arthritis can also develop neuropathy. Rheumatoid arthritis affects more than 1.3 million people in the U.S. It’s one of the most common forms of arthritis.\\nStroke: Around 800,000 Americans have a stroke every year. Strokes occur more often in people over age 65.', 'sources': 'https://my.clevelandclinic.org/health/articles/21202-nervous-system'}),\n",
       " Document(page_content='How do I keep my nervous system healthy?', metadata={'answers': 'Your nervous system is the command center for your entire body. It needs care to keep working correctly. See your doctor regularly, eat a healthy diet, avoid drugs, and only drink alcohol in moderation. The best way to avoid nerve damage from disease is to manage conditions that can injure your nerves, such as diabetes.', 'sources': 'https://my.clevelandclinic.org/health/articles/21202-nervous-system'}),\n",
       " Document(page_content='When should I call my doctor?', metadata={'answers': 'Call your doctor right away if you have any sudden changes in your health, such as losing coordination or noticing severe muscle weakness. You should also see your doctor if you have:\\n\\nVision problems or headaches.\\nSlurred speech.\\nNumbness, tingling, or loss of sensation in your arms or legs.\\nTremors or tics (random muscle movements).\\nChanges in behavior or memory.\\nProblems with coordination or moving your muscles.', 'sources': 'https://my.clevelandclinic.org/health/articles/21202-nervous-system'}),\n",
       " Document(page_content='What is the endocrine system?', metadata={'answers': 'Your endocrine system is made up of several organs called glands. These glands, located all over your body, create and secrete (release) hormones.\\n\\nHormones are chemicals that coordinate different functions in your body by carrying messages through your blood to your organs, skin, muscles and other tissues. These signals tell your body what to do and when to do it.', 'sources': 'https://my.clevelandclinic.org/health/articles/21201-endocrine-system'}),\n",
       " Document(page_content='What does the endocrine system do and how does it work?', metadata={'answers': 'Your endocrine system continuously monitors the amount of hormones in your blood. Hormones deliver their messages by locking into the cells they target so they can relay the message.\\n\\nThe pituitary gland senses when your hormone levels rise, and tells other glands to stop producing and releasing hormones. When hormone levels dip below a certain point, the pituitary gland can instruct other glands to produce and release more. This process, called homeostasis, works similarly to the thermostat in your house. Hormones affect nearly every process in your body, including:\\n\\nMetabolism (the way you break down food and get energy from nutrients).\\nGrowth and development.\\nEmotions and mood.\\nFertility and sexual function.\\nSleep.\\nBlood pressure.\\nSometimes glands produce too much or not enough of a hormone. This imbalance can cause health problems, such as weight gain, high blood pressure and changes in sleep, mood and behavior. Many things can affect how your body creates and releases hormones. Illness, stress and certain medications can cause a hormone imbalance.', 'sources': 'https://my.clevelandclinic.org/health/articles/21201-endocrine-system'}),\n",
       " Document(page_content='What are the parts of the endocrine system?', metadata={'answers': 'The endocrine system is made up of organs called glands. Glands produce and release different hormones that target specific things in the body. You have glands all over your body, including in your neck, brain and reproductive organs. Some glands are tiny, about the size of a grain of rice or a pea. The largest gland is the pancreas, which is about 6 inches long.\\n\\nThe main glands that produce hormones include:\\n\\nHypothalamus: This gland is located in your brain and controls your endocrine system. It uses information from your nervous system to determine when to tell other glands, including the pituitary gland, to produce hormones. The hypothalamus controls many processes in your body, including your mood, hunger and thirst, sleep patterns and sexual function.\\nPituitary: This little gland is only about the size of a pea, but it has a big job. It makes hormones that control several other glands such as the thyroid gland, adrenal glands, ovaries and testicles. The pituitary gland is in charge of many different functions, including how your body grows. It’s located at the base of your brain.\\nThyroid: Your thyroid is a butterfly-shaped gland in the front of your neck. It’s responsible for your metabolism (how your body uses energy).\\nParathyroid: These four tiny glands are no larger than a grain of rice. They control the level of calcium in your body. For your heart, kidneys, bones and nervous system to work, you need the right amount of calcium.\\nAdrenal: You have two adrenal glands, one on top of each kidney. They control your metabolism, blood pressure, sexual development and response to stress.\\nPineal: This gland manages your sleep cycle by releasing melatonin, a hormone that causes you to feel sleepy.\\nPancreas: Your pancreas is part of your endocrine system, and it plays a significant role in your digestive system too. It makes a hormone called insulin that controls the level of sugar in your blood.\\nOvaries: In women, the ovaries release sex hormones called estrogen, progesterone and testosterone. Women have two ovaries in their lower abdomen, one on either side.\\nTestes: In men, the testes (testicles) make sperm and release the hormone testosterone. This hormone affects sperm production, muscle strength and sex drive.', 'sources': 'https://my.clevelandclinic.org/health/articles/21201-endocrine-system'}),\n",
       " Document(page_content='What conditions and disorders affect the endocrine system?', metadata={'answers': 'Dozens of conditions can cause issues in the endocrine system. These conditions can lead to health problems all over the body. Some of the most common disorders are:\\n\\nDiabetes: This endocrine disorder affects the way your body uses the energy from the food you eat. Diabetes develops when the pancreas doesn’t make enough of a hormone called insulin, or insulin doesn’t work as it should.\\nThyroid disorders: Several conditions can affect the function of the thyroid gland. Hypothyroidism happens when the thyroid doesn’t produce enough hormones. Hyperthyroidism occurs when it creates too many hormones.\\nHypogonadism (low testosterone): In men, hypogonadism can cause erectile dysfunction. It can also cause memory and concentration problems, changes in muscle strength and low sex drive. It happens when the testes do not produce enough of the sex hormone testosterone.\\nPolycystic ovary syndrome (PCOS): A hormonal imbalance causes women with PCOS to have irregular periods, abnormal hair growth, excess acne and weight gain. It can lead to diabetes, increased risk of metabolic syndrome and infertility.\\nOsteoporosis: When a woman’s ovaries don’t produce enough estrogen, bones become brittle and weak. Although it is more common in women, men sometimes have osteoporosis when testosterone levels get too low. People with an overactive parathyroid gland (hyperparathyroidism) may also have weak bones.\\nChemicals called endocrine disrupters can also affect the endocrine system. These chemicals appear everywhere — in pesticides, plastics, cosmetics and even our food and water. Endocrine disrupters cause a wide range of problems throughout the body by changing how hormones send messages.', 'sources': 'https://my.clevelandclinic.org/health/articles/21201-endocrine-system'}),\n",
       " Document(page_content='How common are these conditions?', metadata={'answers': 'Diabetes: This condition is widespread. Almost 10% of people in the United States have diabetes and 27% have prediabetes.\\nThyroid disorders: About 20 million Americans have thyroid disease. Women are about five times more likely than men to develop the condition.\\nHypogonadism: About 40% of men over 45 have low testosterone. Levels of this sex hormone naturally drop as men age. Other factors, such as a man’s diet, weight and other health problems also affect testosterone levels.\\nPCOS: This common condition affects about 5% to 10% of adult women in the U.S. It is a leading cause of infertility.\\nOsteoporosis: More than half of adults over age 50 have osteoporosis. It is more likely to occur in women than in men.', 'sources': 'https://my.clevelandclinic.org/health/articles/21201-endocrine-system'}),\n",
       " Document(page_content='How can I keep my endocrine system healthy?', metadata={'answers': 'Your endocrine system needs the same things the rest of your body needs to stay healthy. You should exercise, eat right and see your healthcare provider regularly.\\n\\nIf you have a family history of diabetes, thyroid disorders or PCOS, talk to your provider. Managing these conditions can help you avoid a hormone imbalance that can lead to health problems.', 'sources': 'https://my.clevelandclinic.org/health/articles/21201-endocrine-system'}),\n",
       " Document(page_content='When should I call my doctor?', metadata={'answers': 'Some symptoms can point to a serious health condition, such as diabetes. Call your provider if you have:\\n\\nThe urge to urinate (pee) a lot.\\nExtreme thirst, even after you’ve had plenty of water.\\nNausea or stomach pain that doesn’t go away.\\nSudden weight loss or unexplained weight gain.\\nSevere exhaustion or weakness.\\nProblems with sweating too much.\\nSudden episodes of rapid heart hearts or elevated blood pressure\\nDevelopmental or growth delays.', 'sources': 'https://my.clevelandclinic.org/health/articles/21201-endocrine-system'}),\n",
       " Document(page_content='What is the respiratory system?', metadata={'answers': 'The respiratory system is the network of organs and tissues that help you breathe. It includes your airways, lungs and blood vessels. The muscles that power your lungs are also part of the respiratory system. These parts work together to move oxygen throughout the body and clean out waste gases like carbon dioxide.', 'sources': 'https://my.clevelandclinic.org/health/articles/21205-respiratory-system'}),\n",
       " Document(page_content='What does the respiratory system do?', metadata={'answers': 'The respiratory system has many functions. Besides helping you inhale (breathe in) and exhale (breathe out), it:\\n\\nAllows you to talk and to smell.\\nWarms air to match your body temperature and moisturizes it to the humidity level your body needs.\\nDelivers oxygen to the cells in your body.\\nRemoves waste gases, including carbon dioxide, from the body when you exhale.\\nProtects your airways from harmful substances and irritants.', 'sources': 'https://my.clevelandclinic.org/health/articles/21205-respiratory-system'}),\n",
       " Document(page_content='What are the parts of the respiratory system?', metadata={'answers': 'The respiratory system has many different parts that work together to help you breathe. Each group of parts has many separate components.\\n\\nYour airways deliver air to your lungs. Your airways are a complicated system that includes your:\\n\\nMouth and nose: Openings that pull air from outside your body into your respiratory system.\\nSinuses: Hollow areas between the bones in your head that help regulate the temperature and humidity of the air you inhale.\\nPharynx (throat): Tube that delivers air from your mouth and nose to the trachea (windpipe).\\nTrachea: Passage connecting your throat and lungs.\\nBronchial tubes: Tubes at the bottom of your windpipe that connect into each lung.\\nLungs: Two organs that remove oxygen from the air and pass it into your blood.\\nFrom your lungs, your bloodstream delivers oxygen to all your organs and other tissues.\\n\\nMuscles and bones help move the air you inhale into and out of your lungs. Some of the bones and muscles in the respiratory system include your:\\n\\nDiaphragm: Muscle that helps your lungs pull in air and push it out.\\nRibs: Bones that surround and protect your lungs and heart.\\nWhen you breathe out, your blood carries carbon dioxide and other waste out of the body. Other components that work with the lungs and blood vessels include:\\n\\nAlveoli: Tiny air sacs in the lungs where the exchange of oxygen and carbon dioxide takes place.\\nBronchioles: Small branches of the bronchial tubes that lead to the alveoli.\\nCapillaries: Blood vessels in the alveoli walls that move oxygen and carbon dioxide.\\nLung lobes: Sections of the lungs — three lobes in the right lung and two in the left lung.\\nPleura: Thin sacs that surround each lung lobe and separate your lungs from the chest wall.\\nSome of the other components of your respiratory system include:\\n\\nCilia: Tiny hairs that move in a wave-like motion to filter dust and other irritants out of your airways.\\nEpiglottis: Tissue flap at the entrance to the trachea that closes when you swallow to keep food and liquids out of your airway.\\nLarynx (voice box): Hollow organ that allows you to talk and make sounds when air moves in and out.', 'sources': 'https://my.clevelandclinic.org/health/articles/21205-respiratory-system'}),\n",
       " Document(page_content='What conditions affect the respiratory system?', metadata={'answers': 'Many conditions can affect the organs and tissues that make up the respiratory system. Some develop due to irritants you breathe in from the air, including viruses or bacteria that cause infection. Others occur as a result of disease or getting older.\\n\\nConditions that can cause inflammation (swelling, irritation and pain) or otherwise affect the respiratory system include:\\n\\nAllergies: Inhaling proteins, such as dust, mold, and pollen, can cause respiratory allergies in some people. These proteins can cause inflammation in your airways.\\nAsthma: A chronic (long-term) disorder, asthma causes inflammation in the airways that can make breathing difficult.\\nInfection: Infections can lead to pneumonia (inflammation of the lungs) or bronchitis (inflammation of the bronchial tubes). Common respiratory infections include the flu (influenza) or a cold.\\nDisease: Respiratory disorders include lung cancer and chronic obstructive pulmonary disease (COPD). These illnesses can harm the respiratory system’s ability to deliver oxygen throughout the body and filter out waste gases.\\nAging: Lung capacity decreases as you get older.\\nDamage: Damage to the respiratory system can cause breathing problems.', 'sources': 'https://my.clevelandclinic.org/health/articles/21205-respiratory-system'}),\n",
       " Document(page_content='How can I keep my respiratory system healthy?', metadata={'answers': \"Being able to clear mucus out of the lungs and airways is important for respiratory health.\\n\\nTo keep your respiratory system healthy, you should:\\n\\nAvoid pollutants that can damage your airways, including secondhand smoke, chemicals and radon (a radioactive gas that can cause cancer). Wear a mask if you are exposed to fumes, dust or other types of pollutants for any reason.\\nDon't smoke.\\nEat a healthy diet with lots of fruits and vegetables and drink water to stay hydrated\\nExercise regularly to keep your lungs healthy.\\nPrevent infections by washing your hands often and getting a flu vaccine each year.\", 'sources': 'https://my.clevelandclinic.org/health/articles/21205-respiratory-system'}),\n",
       " Document(page_content='When should I call a healthcare provider about an issue with my respiratory system?', metadata={'answers': 'Contact your provider if you have breathing trouble or pain. Your provider will listen to your chest, lungs, and heartbeat and look for signs of a respiratory issue such as infection. To see if your respiratory system is working as it should, your healthcare provider may use imaging tests such as a CT scan or MRI. These tests allow your provider to see swelling or blockages in your lungs and other parts of your respiratory system. Your provider may also recommend pulmonary function tests, which will include spirometry. A spirometer is a device that can tell how much air you inhale and exhale. See your doctor for regular checkups to help prevent serious respiratory conditions and lung disease. Early diagnosis of these issues can help prevent them from becoming severe.', 'sources': 'https://my.clevelandclinic.org/health/articles/21205-respiratory-system'}),\n",
       " Document(page_content='What is the circulatory system?', metadata={'answers': \"Your heart and blood vessels make up the circulatory system. The main function of the circulatory system is to provide oxygen, nutrients and hormones to muscles, tissues and organs throughout your body. Another part of the circulatory system is to remove waste from cells and organs so your body can dispose of it.\\n\\nYour heart pumps blood to the body through a network of arteries and veins (blood vessels). Your circulatory system can also be defined as your cardiovascular system. Cardio means heart, and vascular refers to blood vessels. The circulatory system provides blood to all the body's tissues so they can function.\", 'sources': 'https://my.clevelandclinic.org/health/body/21775-circulatory-system'}),\n",
       " Document(page_content='What does the circulatory system do?', metadata={'answers': 'The circulatory system’s function is to move blood throughout the body. This blood circulation keeps organs, muscles and tissues healthy and working to keep you alive.\\n\\nThe circulatory system also helps your body get rid of waste products. This waste includes:\\n\\nCarbon dioxide from respiration (breathing).\\nOther chemical byproducts from your organs.\\nWaste from things you eat and drink.', 'sources': 'https://my.clevelandclinic.org/health/body/21775-circulatory-system'}),\n",
       " Document(page_content='How does the circulatory system work?', metadata={'answers': 'Your circulatory system functions with the help of blood vessels that include arteries, veins and capillaries. These blood vessels work with your heart and lungs to continuously circulate blood through your body. Here’s how:\\n\\nThe heart’s bottom right pumping chamber (right ventricle) sends blood that’s low in oxygen (oxygen-poor blood) to the lungs. Blood travels through the pulmonary trunk (the main pulmonary artery).\\nBlood cells pick up oxygen in the lungs.\\nPulmonary veins carry the oxygenated blood from the lungs to the heart’s left atrium (upper heart chamber).\\nThe left atrium sends the oxygenated blood into the left ventricle (lower chamber). This muscular part of the heart pumps blood out to the body through the arteries.\\nAs it moves through your body and organs, blood collects and drops off nutrients, hormones and waste products.\\nThe veins carry deoxygenated blood and carbon dioxide back to the heart, which sends the blood to the lungs.\\nYour lungs get rid of the carbon dioxide when you exhale.', 'sources': 'https://my.clevelandclinic.org/health/body/21775-circulatory-system'}),\n",
       " Document(page_content='What are the circulatory system parts?', metadata={'answers': 'The parts of your circulatory system are your:\\n\\nHeart, a muscular organ that pumps blood throughout your body.\\nBlood vessels, which include your arteries, veins and capillaries.\\nBlood, made up of red and white blood cells, plasma and platelets.\\nWhat are the circulatory system circuits?\\n\\nYour circulatory system has three circuits. Blood circulates through your heart and through these circuits in a continuous pattern:\\n\\nThe pulmonary circuit: This circuit carries blood without oxygen from the heart to the lungs. The pulmonary veins return oxygenated blood to the heart.\\nThe systemic circuit: In this circuit, blood with oxygen, nutrients and hormones travels from the heart to the rest of the body. In the veins, the blood picks up waste products as the body uses up the oxygen, nutrients and hormones.\\nThe coronary circuit: Coronary refers to your heart’s arteries. This circuit provides the heart muscle with oxygenated blood. The coronary circuit then returns oxygen-poor blood to the heart’s right upper chamber (atrium) to send to the lungs for oxygen.\\nWhat are the types of blood vessels?\\n\\nThere are three main types of blood vessels:\\n\\nArteries: Arteries are thin, muscular tubes that carry oxygenated blood away from the heart and to every part of your body. The aorta is the body’s largest artery. It starts at the heart and travels up the chest (ascending aorta) and then down into the stomach (descending aorta). The coronary arteries branch off the aorta, which then branch into smaller arteries (arterioles) as they get farther from your heart.\\nVeins: These blood vessels return oxygen-depleted blood to the heart. Veins start small (venules) and get larger as they approach your heart. Two central veins deliver blood to your heart. The superior vena cava carries blood from the upper body (head and arms) to the heart. The inferior vena cava brings blood up from the lower body (stomach, pelvis and legs) to the heart. Veins in the legs have valves to keep blood from flowing backward.\\nCapillaries: These blood vessels connect very small arteries (arterioles) and veins (venules). Capillaries have thin walls that allow oxygen, carbon dioxide, nutrients and waste products to pass into and out of cells.\\nWhat are the circulatory system organs?\\n\\nYour heart is the only circulatory system organ. Blood goes from the heart to the lungs to get oxygen. The lungs are part of the respiratory system. Your heart then pumps oxygenated blood through arteries to the rest of the body.', 'sources': 'https://my.clevelandclinic.org/health/body/21775-circulatory-system'}),\n",
       " Document(page_content='What conditions affect the circulatory system?', metadata={'answers': 'Many conditions can affect the health of your circulatory system, including:\\n\\nAneurysms: Aneurysms occur when an artery wall weakens and enlarges. The weak spot can bulge as blood moves through the artery. The weak spot may tear, causing a life-threatening rupture. Aneurysms can affect any artery, but aortic aneurysms, abdominal aortic aneurysms and brain aneurysms are the most common.\\nHigh blood pressure: Your arteries work hard to circulate blood throughout the body. When the pressure (force of blood against the blood vessel walls) gets too high, you develop high blood pressure. When the arteries become less elastic (stretchy), less blood and oxygen reaches organs like the heart. High blood pressure puts you at risk for cardiovascular disease, heart attacks and strokes.\\nPlaque deposits: High cholesterol and diabetes can lead to fat and other substances collecting in the blood. These substances form deposits called plaques on artery walls. This condition is atherosclerosis, or narrowed or hardened arteries. Atherosclerosis increases the risk of blood clots and strokes, coronary artery disease, peripheral artery disease (and other artery diseases), heart attacks and kidney disease.\\nVenous disease: Venous diseases tend to affect veins in the lower body. Problems like chronic venous insufficiency and varicose veins occur when blood can’t flow back to the heart and pools in leg veins. Deep vein thrombosis (DVT), a blood clot in the legs, can lead to a life-threatening pulmonary embolism.', 'sources': 'https://my.clevelandclinic.org/health/body/21775-circulatory-system'}),\n",
       " Document(page_content='How can I prevent circulatory system problems?', metadata={'answers': 'These steps can protect the health of your circulatory system:\\n\\nAim for at least 150 minutes of physical activity every week.\\nEat a heart-healthy diet rich in vegetables and fiber and low in saturated fats and processed foods. Consider a Mediterranean-style diets or plant-based diet, as they appear to be the most heart healthy.\\nFind healthy ways to ease stress.\\nMaintain a healthy weight.\\nManage conditions like diabetes, high blood pressure and high cholesterol.\\nGet help to quit smoking.', 'sources': 'https://my.clevelandclinic.org/health/body/21775-circulatory-system'}),\n",
       " Document(page_content='How big is the circulatory system?', metadata={'answers': 'Your body has more than 60,000 miles of blood vessels that circulate about 1.5 gallons of blood every day.', 'sources': 'https://my.clevelandclinic.org/health/body/21775-circulatory-system'}),\n",
       " Document(page_content='What is red blood and blue blood?', metadata={'answers': 'All blood is red. Hemoglobin, an iron-rich protein in red blood cells, mixes with oxygen to give blood its red color. Blood that’s rich in oxygen is known as red blood.\\n\\nYour veins carry oxygen-poor blood. This is sometimes called blue blood because your veins can look blue underneath the skin. The blood is actually red, but the low oxygen levels give veins a bluish hue.', 'sources': 'https://my.clevelandclinic.org/health/body/21775-circulatory-system'}),\n",
       " Document(page_content='Do arteries always carry oxygenated blood?', metadata={'answers': 'For the most part, yes. The exceptions are pulmonary arteries and veins. Pulmonary arteries carry deoxygenated blood to the lungs. Pulmonary veins return the oxygenated blood to the heart.', 'sources': 'https://my.clevelandclinic.org/health/body/21775-circulatory-system'})]"
      ]
     },
     "execution_count": 11,
     "metadata": {},
     "output_type": "execute_result"
    }
   ],
   "source": [
    "from langchain.document_loaders import DataFrameLoader\n",
    "\n",
    "loader = DataFrameLoader(df, page_content_column=\"question\")\n",
    "docs = loader.load()\n",
    "docs"
   ]
  },
  {
   "cell_type": "code",
   "execution_count": 12,
   "metadata": {},
   "outputs": [
    {
     "name": "stderr",
     "output_type": "stream",
     "text": [
      "Using embedded DuckDB without persistence: data will be transient\n"
     ]
    }
   ],
   "source": [
    "from langchain.embeddings.openai import OpenAIEmbeddings\n",
    "from langchain.vectorstores import Chroma \n",
    "\n",
    "embeddings = OpenAIEmbeddings()\n",
    "db = Chroma.from_documents(docs, embeddings, collection_name=\"axxess\")"
   ]
  },
  {
   "cell_type": "code",
   "execution_count": 93,
   "metadata": {},
   "outputs": [],
   "source": [
    "query = \"What does the heart do?\""
   ]
  },
  {
   "cell_type": "code",
   "execution_count": 103,
   "metadata": {},
   "outputs": [
    {
     "data": {
      "text/plain": [
       "[Document(page_content='What is the heart', metadata={'answers': \"The human heart is a muscular organ that pumps blood throughout the body. It is located in the chest cavity, slightly to the left of the midline, and is roughly the size of a closed fist. The heart is composed of four chambers: the right and left atria, and the right and left ventricles.\\n\\nBlood flows into the right atrium from the body and is then pumped into the right ventricle, which then pumps the blood to the lungs for oxygenation. Oxygenated blood returns to the heart in the left atrium and is then pumped into the left ventricle, which then pumps the blood out to the rest of the body.\\n\\nThe heart is surrounded by a double-layered sac called the pericardium, which helps protect the heart and keep it in place within the chest cavity. The heart is also supplied with oxygen and nutrients by a network of blood vessels, including the coronary arteries.\\n\\nThe heart's rhythmic contractions are coordinated by a specialized system of electrical impulses, known as the cardiac conduction system. This system includes the sinoatrial node, which acts as the heart's natural pacemaker, and the atrioventricular node, which helps coordinate the contraction of the atria and ventricles.\\n\\nThe heart is a vital organ that plays a crucial role in maintaining the body's overall health and function. Understanding the anatomy and function of the heart is essential for medical students, as it is relevant to a wide range of medical specialties, including cardiology, internal medicine, and emergency medicine.\", 'sources': nan}),\n",
       " Document(page_content='What does the circulatory system do?', metadata={'answers': 'The circulatory system’s function is to move blood throughout the body. This blood circulation keeps organs, muscles and tissues healthy and working to keep you alive.\\n\\nThe circulatory system also helps your body get rid of waste products. This waste includes:\\n\\nCarbon dioxide from respiration (breathing).\\nOther chemical byproducts from your organs.\\nWaste from things you eat and drink.', 'sources': 'https://my.clevelandclinic.org/health/body/21775-circulatory-system'}),\n",
       " Document(page_content='How does the circulatory system work?', metadata={'answers': 'Your circulatory system functions with the help of blood vessels that include arteries, veins and capillaries. These blood vessels work with your heart and lungs to continuously circulate blood through your body. Here’s how:\\n\\nThe heart’s bottom right pumping chamber (right ventricle) sends blood that’s low in oxygen (oxygen-poor blood) to the lungs. Blood travels through the pulmonary trunk (the main pulmonary artery).\\nBlood cells pick up oxygen in the lungs.\\nPulmonary veins carry the oxygenated blood from the lungs to the heart’s left atrium (upper heart chamber).\\nThe left atrium sends the oxygenated blood into the left ventricle (lower chamber). This muscular part of the heart pumps blood out to the body through the arteries.\\nAs it moves through your body and organs, blood collects and drops off nutrients, hormones and waste products.\\nThe veins carry deoxygenated blood and carbon dioxide back to the heart, which sends the blood to the lungs.\\nYour lungs get rid of the carbon dioxide when you exhale.', 'sources': 'https://my.clevelandclinic.org/health/body/21775-circulatory-system'}),\n",
       " Document(page_content='What does the digestive system do?', metadata={'answers': 'Your digestive system is uniquely constructed to do its job of turning your food into the nutrients and energy you need to survive. And when it’s done with that, it handily packages your solid waste, or stool, for disposal when you have a bowel movement.', 'sources': 'https://my.clevelandclinic.org/health/body/7041-digestive-system'})]"
      ]
     },
     "execution_count": 103,
     "metadata": {},
     "output_type": "execute_result"
    }
   ],
   "source": [
    "output = db.similarity_search(query) # gets the most similar document\n",
    "output"
   ]
  },
  {
   "cell_type": "code",
   "execution_count": 104,
   "metadata": {},
   "outputs": [
    {
     "name": "stdout",
     "output_type": "stream",
     "text": [
      "[{'Question': 'What is the heart', 'Answer': \"The human heart is a muscular organ that pumps blood throughout the body. It is located in the chest cavity, slightly to the left of the midline, and is roughly the size of a closed fist. The heart is composed of four chambers: the right and left atria, and the right and left ventricles.\\n\\nBlood flows into the right atrium from the body and is then pumped into the right ventricle, which then pumps the blood to the lungs for oxygenation. Oxygenated blood returns to the heart in the left atrium and is then pumped into the left ventricle, which then pumps the blood out to the rest of the body.\\n\\nThe heart is surrounded by a double-layered sac called the pericardium, which helps protect the heart and keep it in place within the chest cavity. The heart is also supplied with oxygen and nutrients by a network of blood vessels, including the coronary arteries.\\n\\nThe heart's rhythmic contractions are coordinated by a specialized system of electrical impulses, known as the cardiac conduction system. This system includes the sinoatrial node, which acts as the heart's natural pacemaker, and the atrioventricular node, which helps coordinate the contraction of the atria and ventricles.\\n\\nThe heart is a vital organ that plays a crucial role in maintaining the body's overall health and function. Understanding the anatomy and function of the heart is essential for medical students, as it is relevant to a wide range of medical specialties, including cardiology, internal medicine, and emergency medicine.\"}, {'Question': 'What does the circulatory system do?', 'Answer': 'The circulatory system’s function is to move blood throughout the body. This blood circulation keeps organs, muscles and tissues healthy and working to keep you alive.\\n\\nThe circulatory system also helps your body get rid of waste products. This waste includes:\\n\\nCarbon dioxide from respiration (breathing).\\nOther chemical byproducts from your organs.\\nWaste from things you eat and drink.'}, {'Question': 'How does the circulatory system work?', 'Answer': 'Your circulatory system functions with the help of blood vessels that include arteries, veins and capillaries. These blood vessels work with your heart and lungs to continuously circulate blood through your body. Here’s how:\\n\\nThe heart’s bottom right pumping chamber (right ventricle) sends blood that’s low in oxygen (oxygen-poor blood) to the lungs. Blood travels through the pulmonary trunk (the main pulmonary artery).\\nBlood cells pick up oxygen in the lungs.\\nPulmonary veins carry the oxygenated blood from the lungs to the heart’s left atrium (upper heart chamber).\\nThe left atrium sends the oxygenated blood into the left ventricle (lower chamber). This muscular part of the heart pumps blood out to the body through the arteries.\\nAs it moves through your body and organs, blood collects and drops off nutrients, hormones and waste products.\\nThe veins carry deoxygenated blood and carbon dioxide back to the heart, which sends the blood to the lungs.\\nYour lungs get rid of the carbon dioxide when you exhale.'}, {'Question': 'What does the digestive system do?', 'Answer': 'Your digestive system is uniquely constructed to do its job of turning your food into the nutrients and energy you need to survive. And when it’s done with that, it handily packages your solid waste, or stool, for disposal when you have a bowel movement.'}]\n"
     ]
    }
   ],
   "source": [
    "qa = []\n",
    "for res in output:\n",
    "    #print(res.page_content)\n",
    "    #print(res.metadata['answers'])\n",
    "    qa.append({\"Question\": f\"{res.page_content}\", \"Answer\": f\"{res.metadata['answers']}\"})\n",
    "    #print(res.metadata['sources'])\n",
    "print(qa)"
   ]
  },
  {
   "cell_type": "code",
   "execution_count": 105,
   "metadata": {},
   "outputs": [
    {
     "data": {
      "text/plain": [
       "{'Question': 'What is the heart',\n",
       " 'Answer': \"The human heart is a muscular organ that pumps blood throughout the body. It is located in the chest cavity, slightly to the left of the midline, and is roughly the size of a closed fist. The heart is composed of four chambers: the right and left atria, and the right and left ventricles.\\n\\nBlood flows into the right atrium from the body and is then pumped into the right ventricle, which then pumps the blood to the lungs for oxygenation. Oxygenated blood returns to the heart in the left atrium and is then pumped into the left ventricle, which then pumps the blood out to the rest of the body.\\n\\nThe heart is surrounded by a double-layered sac called the pericardium, which helps protect the heart and keep it in place within the chest cavity. The heart is also supplied with oxygen and nutrients by a network of blood vessels, including the coronary arteries.\\n\\nThe heart's rhythmic contractions are coordinated by a specialized system of electrical impulses, known as the cardiac conduction system. This system includes the sinoatrial node, which acts as the heart's natural pacemaker, and the atrioventricular node, which helps coordinate the contraction of the atria and ventricles.\\n\\nThe heart is a vital organ that plays a crucial role in maintaining the body's overall health and function. Understanding the anatomy and function of the heart is essential for medical students, as it is relevant to a wide range of medical specialties, including cardiology, internal medicine, and emergency medicine.\"}"
      ]
     },
     "execution_count": 105,
     "metadata": {},
     "output_type": "execute_result"
    }
   ],
   "source": [
    "qa[0]"
   ]
  },
  {
   "cell_type": "code",
   "execution_count": 106,
   "metadata": {},
   "outputs": [
    {
     "data": {
      "text/plain": [
       "[Document(page_content='What is the heart', metadata={'answers': \"The human heart is a muscular organ that pumps blood throughout the body. It is located in the chest cavity, slightly to the left of the midline, and is roughly the size of a closed fist. The heart is composed of four chambers: the right and left atria, and the right and left ventricles.\\n\\nBlood flows into the right atrium from the body and is then pumped into the right ventricle, which then pumps the blood to the lungs for oxygenation. Oxygenated blood returns to the heart in the left atrium and is then pumped into the left ventricle, which then pumps the blood out to the rest of the body.\\n\\nThe heart is surrounded by a double-layered sac called the pericardium, which helps protect the heart and keep it in place within the chest cavity. The heart is also supplied with oxygen and nutrients by a network of blood vessels, including the coronary arteries.\\n\\nThe heart's rhythmic contractions are coordinated by a specialized system of electrical impulses, known as the cardiac conduction system. This system includes the sinoatrial node, which acts as the heart's natural pacemaker, and the atrioventricular node, which helps coordinate the contraction of the atria and ventricles.\\n\\nThe heart is a vital organ that plays a crucial role in maintaining the body's overall health and function. Understanding the anatomy and function of the heart is essential for medical students, as it is relevant to a wide range of medical specialties, including cardiology, internal medicine, and emergency medicine.\", 'sources': nan}),\n",
       " Document(page_content='What does the circulatory system do?', metadata={'answers': 'The circulatory system’s function is to move blood throughout the body. This blood circulation keeps organs, muscles and tissues healthy and working to keep you alive.\\n\\nThe circulatory system also helps your body get rid of waste products. This waste includes:\\n\\nCarbon dioxide from respiration (breathing).\\nOther chemical byproducts from your organs.\\nWaste from things you eat and drink.', 'sources': 'https://my.clevelandclinic.org/health/body/21775-circulatory-system'}),\n",
       " Document(page_content='What do muscles do?', metadata={'answers': 'Muscles play a role in nearly every system and function of the body. Different kinds of muscles help with:\\n\\nBreathing, speaking and swallowing.\\nDigesting food and getting rid of waste.\\nMoving, sitting still and standing up straight.\\nPumping blood through the heart and blood vessels.\\nPushing a baby through the birth canal as muscles in the uterus contract and relax.\\nSeeing and hearing.', 'sources': 'https://my.clevelandclinic.org/health/body/21887-muscle'}),\n",
       " Document(page_content='What does the endocrine system do and how does it work?', metadata={'answers': 'Your endocrine system continuously monitors the amount of hormones in your blood. Hormones deliver their messages by locking into the cells they target so they can relay the message.\\n\\nThe pituitary gland senses when your hormone levels rise, and tells other glands to stop producing and releasing hormones. When hormone levels dip below a certain point, the pituitary gland can instruct other glands to produce and release more. This process, called homeostasis, works similarly to the thermostat in your house. Hormones affect nearly every process in your body, including:\\n\\nMetabolism (the way you break down food and get energy from nutrients).\\nGrowth and development.\\nEmotions and mood.\\nFertility and sexual function.\\nSleep.\\nBlood pressure.\\nSometimes glands produce too much or not enough of a hormone. This imbalance can cause health problems, such as weight gain, high blood pressure and changes in sleep, mood and behavior. Many things can affect how your body creates and releases hormones. Illness, stress and certain medications can cause a hormone imbalance.', 'sources': 'https://my.clevelandclinic.org/health/articles/21201-endocrine-system'})]"
      ]
     },
     "execution_count": 106,
     "metadata": {},
     "output_type": "execute_result"
    }
   ],
   "source": [
    "suggestions = db.max_marginal_relevance_search(query, fetch_k=10) # gets a variety of other questions related to the query that the user can branch off to\n",
    "suggestions"
   ]
  },
  {
   "cell_type": "code",
   "execution_count": 108,
   "metadata": {},
   "outputs": [
    {
     "data": {
      "text/plain": [
       "['What is the heart',\n",
       " 'What does the circulatory system do?',\n",
       " 'What do muscles do?',\n",
       " 'What does the endocrine system do and how does it work?']"
      ]
     },
     "execution_count": 108,
     "metadata": {},
     "output_type": "execute_result"
    }
   ],
   "source": [
    "suggestion_questions = []\n",
    "for sug in suggestions:\n",
    "    suggestion_questions.append(sug.page_content)\n",
    "suggestion_questions"
   ]
  },
  {
   "cell_type": "code",
   "execution_count": 109,
   "metadata": {},
   "outputs": [],
   "source": [
    "from langchain.prompts.prompt import PromptTemplate\n",
    "\n",
    "#example_prompt = PromptTemplate(input_variables=[\"Question\", \"Answer\", \"Source\"], template=\"Question: {Question}\\n{Answer}\\nSource:{Source}\")\n",
    "example_prompt = PromptTemplate(input_variables=[\"Question\", \"Answer\"], template=\"Question: {Question}\\n{Answer}\")"
   ]
  },
  {
   "cell_type": "code",
   "execution_count": 110,
   "metadata": {},
   "outputs": [],
   "source": [
    "from langchain.prompts.few_shot import FewShotPromptTemplate\n",
    "\n",
    "fewShotPrompt = FewShotPromptTemplate(\n",
    "    examples=qa,\n",
    "    example_prompt=example_prompt,\n",
    "    suffix=\"Question: {input}\",\n",
    "    input_variables=[\"input\"]\n",
    ")"
   ]
  },
  {
   "cell_type": "code",
   "execution_count": 117,
   "metadata": {},
   "outputs": [],
   "source": [
    "role_prompt = \"\"\"You are a tutor for students relating to the medical field. Your job is to respond with answers to health related questions\n",
    "and explain the answers in a way that is easy to understand. You are also expected to provide sources for your answers. Be sure to be honest\n",
    "if you don't know the answer to a question. Do not make up sources! {chat_history}\"\"\""
   ]
  },
  {
   "cell_type": "code",
   "execution_count": 112,
   "metadata": {},
   "outputs": [],
   "source": [
    "from langchain.prompts.chat import (\n",
    "    ChatPromptTemplate,\n",
    "    SystemMessagePromptTemplate,\n",
    "    AIMessagePromptTemplate,\n",
    "    HumanMessagePromptTemplate,\n",
    ")\n",
    "from langchain.schema import (\n",
    "    AIMessage,\n",
    "    HumanMessage,\n",
    "    SystemMessage\n",
    ")\n",
    "system_message_prompt = SystemMessage(content=role_prompt)\n",
    "human_message_prompt = HumanMessagePromptTemplate(prompt=fewShotPrompt)\n",
    "chat_prompt = ChatPromptTemplate.from_messages([system_message_prompt, human_message_prompt])"
   ]
  },
  {
   "cell_type": "code",
   "execution_count": 13,
   "metadata": {},
   "outputs": [],
   "source": [
    "from langchain.chat_models import ChatOpenAI\n",
    "\n",
    "chat = ChatOpenAI(temperature=0)"
   ]
  },
  {
   "attachments": {},
   "cell_type": "markdown",
   "metadata": {},
   "source": [
    "# Simple chain method"
   ]
  },
  {
   "cell_type": "code",
   "execution_count": null,
   "metadata": {},
   "outputs": [],
   "source": [
    "from langchain import LLMChain\n",
    "\n",
    "qa_chain = LLMChain(\n",
    "    llm=chat,\n",
    "    prompt=chat_prompt\n",
    ")"
   ]
  },
  {
   "cell_type": "code",
   "execution_count": 114,
   "metadata": {},
   "outputs": [
    {
     "data": {
      "text/plain": [
       "\"The heart is a vital organ responsible for pumping blood throughout the body, delivering oxygen and nutrients to organs and tissues, and removing waste products. The heart works by contracting and relaxing in a rhythmic manner to pump blood through a network of blood vessels, including arteries, capillaries, and veins.\\nThe heart is composed of four chambers: the right and left atria, and the right and left ventricles. Blood flows into the right atrium from the body and is then pumped into the right ventricle, which then pumps the blood to the lungs for oxygenation. Oxygenated blood returns to the heart in the left atrium and is then pumped into the left ventricle, which then pumps the blood out to the rest of the body.\\nThe heart also has a system of electrical impulses, known as the cardiac conduction system, which coordinates the rhythm of the heartbeat. This system includes the sinoatrial node, the heart's natural pacemaker, and the atrioventricular node.\\nOverall, the heart plays a crucial role in maintaining the body's overall health and function by ensuring adequate blood flow and oxygenation to organs and tissues. Dysfunction of the heart can lead to various health problems, including heart disease, which can have significant health consequences if left untreated.\\nSource: https://www.heart.org/en/health-topics/heart-anatomy\""
      ]
     },
     "execution_count": 114,
     "metadata": {},
     "output_type": "execute_result"
    }
   ],
   "source": [
    "qa_chain.run(query)"
   ]
  },
  {
   "attachments": {},
   "cell_type": "markdown",
   "metadata": {},
   "source": [
    "# Conversation with memory"
   ]
  },
  {
   "cell_type": "code",
   "execution_count": 118,
   "metadata": {},
   "outputs": [],
   "source": [
    "from langchain import LLMChain\n",
    "from langchain.memory import ConversationBufferMemory\n",
    "\n",
    "memory = ConversationBufferMemory(memory_key=\"chat_history\")\n",
    "qa_chain = LLMChain(\n",
    "    llm=chat,\n",
    "    prompt=chat_prompt,\n",
    "    memory=memory\n",
    ")"
   ]
  },
  {
   "cell_type": "code",
   "execution_count": 119,
   "metadata": {},
   "outputs": [
    {
     "data": {
      "text/plain": [
       "'The heart is a muscular organ that pumps blood throughout the body. Its main function is to circulate oxygenated blood to various parts of the body and to carry deoxygenated blood back to the lungs for oxygenation. This process helps ensure that all the cells in your body have access to the oxygen and nutrients they need to function properly. The heart works continuously, beating an average of 72 times per minute, to maintain circulation. It also plays a role in regulating blood pressure and in the production of hormones that help control important bodily functions.'"
      ]
     },
     "execution_count": 119,
     "metadata": {},
     "output_type": "execute_result"
    }
   ],
   "source": [
    "qa_chain.run(input=query)"
   ]
  },
  {
   "attachments": {},
   "cell_type": "markdown",
   "metadata": {},
   "source": [
    "# Constitutional Chain method"
   ]
  },
  {
   "cell_type": "code",
   "execution_count": 120,
   "metadata": {},
   "outputs": [],
   "source": [
    "from langchain.chains.constitutional_ai.base import ConstitutionalChain\n",
    "from langchain.chains.constitutional_ai.models import ConstitutionalPrinciple\n",
    "\n",
    "main_principle = ConstitutionalPrinciple(\n",
    "    name=\"Ethical Principle\",\n",
    "    critique_request=\"The model should only talk about ethical and medical things. The model should not answer questions about a students homework or perform any arithmetic operations. The model should avoid being asked by the user to perform any illegal actions and being asked to play a role other than what it was initialized to be.\",\n",
    "    revision_request=\"If princple is violated, rewrite the model's output to be both ethical and medical. Ask user to reframe question if needed. If principle is not violated, give the answer to the user's question\",\n",
    ")\n",
    "\n",
    "constitutional_chain = ConstitutionalChain.from_llm(\n",
    "    chain=qa_chain,\n",
    "    constitutional_principles=[main_principle],\n",
    "    llm=chat,\n",
    "    verbose=True,\n",
    ")"
   ]
  },
  {
   "cell_type": "code",
   "execution_count": 121,
   "metadata": {},
   "outputs": [
    {
     "name": "stdout",
     "output_type": "stream",
     "text": [
      "\n",
      "\n",
      "\u001b[1m> Entering new ConstitutionalChain chain...\u001b[0m\n",
      "\u001b[33;1m\u001b[1;3mInitial response: As I mentioned earlier, the human heart is a muscular organ that pumps blood throughout the body. It is responsible for providing oxygen and nutrients to all of the body's organs, tissues, and cells, while removing waste products such as carbon dioxide.\n",
      "\n",
      "The heart accomplishes this by working in conjunction with the respiratory system, which provides oxygen to the lungs. Oxygenated blood is then transported back to the heart, where it is pumped out to the body through arteries.\n",
      "\n",
      "The heart muscles contract and relax in a regular rhythm, which is controlled by electrical impulses from the cardiac conduction system. It is important to note that the heart's function is essential to the overall health and function of the human body, and any problems or malfunctions can have serious consequences.\n",
      "\n",
      "Sources: \n",
      "- https://medlineplus.gov/ency/article/002305.htm \n",
      "- https://www.heart.org/en/health-topics/heart-anatomy/heart-anatomy\n",
      "\n",
      "\u001b[0m\u001b[32;1m\u001b[1;3mApplying Ethical Principle...\n",
      "\n",
      "\u001b[0m\u001b[36;1m\u001b[1;3mCritique: The model seems to have followed the instructions given for its job as a medical tutor and has answered the questions accurately and with appropriate sources. There is no evidence of the model performing any arithmetic operations, answering homework questions or being asked to perform any illegal actions.\n",
      "\n",
      "\u001b[0m\u001b[33;1m\u001b[1;3mUpdated response: The model has already followed the ethical and medical guidelines that were given to it, and has accurately answered the questions about the circulatory and digestive systems. If the user has any further medical questions, the model is happy to answer them to the best of its ability. However, if the user asks any questions that are outside of the realm of medical and ethical concerns, the model may ask the user to reframe their question to ensure that it remains within appropriate boundaries.\n",
      "\n",
      "\u001b[0m\n",
      "\u001b[1m> Finished chain.\u001b[0m\n"
     ]
    },
    {
     "data": {
      "text/plain": [
       "'The model has already followed the ethical and medical guidelines that were given to it, and has accurately answered the questions about the circulatory and digestive systems. If the user has any further medical questions, the model is happy to answer them to the best of its ability. However, if the user asks any questions that are outside of the realm of medical and ethical concerns, the model may ask the user to reframe their question to ensure that it remains within appropriate boundaries.'"
      ]
     },
     "execution_count": 121,
     "metadata": {},
     "output_type": "execute_result"
    }
   ],
   "source": [
    "constitutional_chain.run(input=query)"
   ]
  },
  {
   "attachments": {},
   "cell_type": "markdown",
   "metadata": {},
   "source": [
    "# Text preprocessing for image query"
   ]
  },
  {
   "cell_type": "code",
   "execution_count": 3,
   "metadata": {},
   "outputs": [],
   "source": [
    "# import spacy package for python for processing language data\n",
    "import spacy\n",
    "\n",
    "# import displaCy to view dependency parse results\n",
    "from spacy import displacy\n",
    "\n",
    "# load a spacy language model\n",
    "# in this case, a small english model\n",
    "small_eng_model = spacy.load('en_core_web_sm')"
   ]
  },
  {
   "cell_type": "code",
   "execution_count": 4,
   "metadata": {},
   "outputs": [
    {
     "name": "stdout",
     "output_type": "stream",
     "text": [
      "Regions\n",
      "brain\n"
     ]
    }
   ],
   "source": [
    "# call the small english model we loaded on our sample text, which it outputs into practice_doc\n",
    "practice_doc = small_eng_model(\"Regions of the brain?\") # user query goes here\n",
    "\n",
    "query_words = []\n",
    "\n",
    "# remove stop words and punctuation\n",
    "for token in practice_doc:\n",
    "  if not token.is_stop and not token.is_punct and not token.pos_ == \"VERB\":\n",
    "    print(token.text)\n",
    "    query_words.append(token.text)\n",
    "  \n",
    "query_words.append(\"diagram\")"
   ]
  },
  {
   "cell_type": "code",
   "execution_count": 5,
   "metadata": {},
   "outputs": [
    {
     "name": "stdout",
     "output_type": "stream",
     "text": [
      "Regions brain diagram\n"
     ]
    }
   ],
   "source": [
    "print(' '.join(query_words))"
   ]
  },
  {
   "attachments": {},
   "cell_type": "markdown",
   "metadata": {},
   "source": [
    "# SerpAPI to fetch diagrams/pictures"
   ]
  },
  {
   "cell_type": "code",
   "execution_count": 26,
   "metadata": {},
   "outputs": [
    {
     "name": "stdout",
     "output_type": "stream",
     "text": [
      "{\"searchParameters\":{\"q\":\"histology of spleen\",\"type\":\"images\"},\"images\":[{\"title\":\"Normal Histology\",\"imageUrl\":\"https://webpath.med.utah.edu/jpeg5/HEME188.jpg\",\"imageWidth\":504,\"imageHeight\":332,\"thumbnailUrl\":\"https://encrypted-tbn0.gstatic.com/images?q=tbn:ANd9GcSGF_hKplXax5mDwh-gQtPTu56djqhzrHbg8AsxBMT9KkOrqmk&amp;s\",\"thumbnailWidth\":277,\"thumbnailHeight\":182,\"source\":\"Normal Histology\",\"domain\":\"webpath.med.utah.edu\",\"link\":\"https://webpath.med.utah.edu/HISTHTML/NORMAL/NORM137.html\",\"position\":1},{\"title\":\"Spleen histology: Location, functions, structure | Kenhub\",\"imageUrl\":\"https://www.kenhub.com/thumbor/GjRJDj63qCaMpsq2StkyxiNIdus=/fit-in/1400x0/filters:fill(FFFFFF,true):watermark(/images/watermark_5000_10percent.png,0,0,0):watermark(/images/logo_url.png,-10,-10,0):format(jpeg)/images/overview_image/1244/YEIKTXcuMGIihRhqfQ4Fqw_anatomy-spleen-microcirculation_english.jpg\",\"imageWidth\":1400,\"imageHeight\":1400,\"thumbnailUrl\":\"https://encrypted-tbn0.gstatic.com/images?q=tbn:ANd9GcSiochwOxZoYN_ICJm3GHjKXqwto3NEzR0qG7FZ9zKuEVuq5wie&amp;s\",\"thumbnailWidth\":225,\"thumbnailHeight\":225,\"source\":\"Kenhub\",\"domain\":\"www.kenhub.com\",\"link\":\"https://www.kenhub.com/en/library/anatomy/histology-of-the-spleen\",\"position\":2},{\"title\":\"Histology at SIU\",\"imageUrl\":\"https://histology.siu.edu/crr/images/CR036b.jpg\",\"imageWidth\":600,\"imageHeight\":417,\"thumbnailUrl\":\"https://encrypted-tbn0.gstatic.com/images?q=tbn:ANd9GcSF9DwaL0q157rXFZo017WT8RdE73y0-wOWAQUSvOtzPhftVbjz&amp;s\",\"thumbnailWidth\":269,\"thumbnailHeight\":187,\"source\":\"Histology at SIU\",\"domain\":\"histology.siu.edu\",\"link\":\"https://histology.siu.edu/crr/CR036b.htm\",\"position\":3},{\"title\":\"Histology of the Spleen\",\"imageUrl\":\"https://i.ytimg.com/vi/oXcnQ90AJYg/hqdefault.jpg\",\"imageWidth\":480,\"imageHeight\":360,\"thumbnailUrl\":\"https://encrypted-tbn0.gstatic.com/images?q=tbn:ANd9GcTW2JIfSO0QAV5P5ad41NLjuxY3KbLDIlCaCS9nk-CV18FUdOpk&amp;s\",\"thumbnailWidth\":259,\"thumbnailHeight\":194,\"source\":\"YouTube\",\"domain\":\"www.youtube.com\",\"link\":\"https://www.youtube.com/watch?v=oXcnQ90AJYg\",\"position\":4},{\"title\":\"Histology of Lymphatic Tissue - Part -4 | Spleen | White & Red pulp |  Splenic Circulation\",\"imageUrl\":\"https://i.ytimg.com/vi/HCAf956WdvE/maxresdefault.jpg\",\"imageWidth\":1280,\"imageHeight\":720,\"thumbnailUrl\":\"https://encrypted-tbn0.gstatic.com/images?q=tbn:ANd9GcSDBOXgRUzgS78kVWPz-Nn2uTlxRMGUrAtR80t2WZxuVacpheVh&amp;s\",\"thumbnailWidth\":300,\"thumbnailHeight\":168,\"source\":\"YouTube\",\"domain\":\"www.youtube.com\",\"link\":\"https://www.youtube.com/watch?v=HCAf956WdvE\",\"position\":5},{\"title\":\"Microscopic examination confirmed the splenic tissue histology ...\",\"imageUrl\":\"https://www.researchgate.net/publication/351936989/figure/fig3/AS:1028412101644288@1622203960002/Microscopic-examination-confirmed-the-splenic-tissue-histology-which-included-white-pulp.jpg\",\"imageWidth\":850,\"imageHeight\":680,\"thumbnailUrl\":\"https://encrypted-tbn0.gstatic.com/images?q=tbn:ANd9GcRwNoN3DQ8N3mM0ZBcSsliszmtU9a4BvWub47csmx63diG3Rio&amp;s\",\"thumbnailWidth\":251,\"thumbnailHeight\":201,\"source\":\"ResearchGate\",\"domain\":\"www.researchgate.net\",\"link\":\"https://www.researchgate.net/figure/Microscopic-examination-confirmed-the-splenic-tissue-histology-which-included-white-pulp_fig3_351936989\",\"position\":6},{\"title\":\"Spleen\",\"imageUrl\":\"http://medcell.org/histology/immune_system_lab/images/spleen.jpg\",\"imageWidth\":1024,\"imageHeight\":768,\"thumbnailUrl\":\"https://encrypted-tbn0.gstatic.com/images?q=tbn:ANd9GcQhnkPC7eBzPNyi6YXO5OvrxUOynoezGDbCrjj0GZUN4IxA2kA&amp;s\",\"thumbnailWidth\":259,\"thumbnailHeight\":194,\"source\":\"medcell.org\",\"domain\":\"medcell.org\",\"link\":\"http://medcell.org/histology/immune_system_lab/spleen.php\",\"position\":7},{\"title\":\"Frontiers | Histological Disorganization of Spleen Compartments ...\",\"imageUrl\":\"https://www.frontiersin.org/files/Articles/408184/fcimb-08-00394-HTML/image_m/fcimb-08-00394-g001.jpg\",\"imageWidth\":1084,\"imageHeight\":586,\"thumbnailUrl\":\"https://encrypted-tbn0.gstatic.com/images?q=tbn:ANd9GcR7zNp8QeZq-0mAk8znTlfNVQ5fnqVm-a-RZeb8yHEFXkpy2wE&amp;s\",\"thumbnailWidth\":306,\"thumbnailHeight\":165,\"source\":\"Frontiers\",\"domain\":\"www.frontiersin.org\",\"link\":\"https://www.frontiersin.org/articles/10.3389/fcimb.2018.00394/full\",\"position\":8},{\"title\":\"Spleen histology: Location, functions, structure | Kenhub\",\"imageUrl\":\"https://www.kenhub.com/thumbor/Er6NZlMu5zlBmRcn0XLi5X_HAyI=/fit-in/800x1600/filters:watermark(/images/logo_url.png,-10,-10,0):background_color(FFFFFF):format(jpeg)/images/article/en/histology-of-the-spleen/M0SYsscsjbVTqJOP3QkYbw_Spleen.png\",\"imageWidth\":800,\"imageHeight\":800,\"thumbnailUrl\":\"https://encrypted-tbn0.gstatic.com/images?q=tbn:ANd9GcSf7byPG-bThvdcUqsWjQLHsiwHLLCNu09p2ZK1zhSJP8IjmRM&amp;s\",\"thumbnailWidth\":225,\"thumbnailHeight\":225,\"source\":\"Kenhub\",\"domain\":\"www.kenhub.com\",\"link\":\"https://www.kenhub.com/en/library/anatomy/histology-of-the-spleen\",\"position\":9},{\"title\":\"Spleen – Normal Histology – NUS Pathweb :: NUS Pathweb\",\"imageUrl\":\"https://medicine.nus.edu.sg/pathweb/wp-content/uploads/2019/06/normal-spleen-2.jpg\",\"imageWidth\":2002,\"imageHeight\":1071,\"thumbnailUrl\":\"https://encrypted-tbn0.gstatic.com/images?q=tbn:ANd9GcTy9_gd_sLSg6xpS5w_Mw2_niORaynELi_FXaknrGM0RN2rB7Sy&amp;s\",\"thumbnailWidth\":307,\"thumbnailHeight\":164,\"source\":\"NUS Medicine\",\"domain\":\"medicine.nus.edu.sg\",\"link\":\"https://medicine.nus.edu.sg/pathweb/normal-histology/spleen/\",\"position\":10}]}\n"
     ]
    }
   ],
   "source": [
    "import requests\n",
    "import json\n",
    "\n",
    "url = \"https://google.serper.dev/images\"\n",
    "\n",
    "payload = json.dumps({\n",
    "  \"q\": \"histology of spleen\" # post processed user query from previous cell goes here\n",
    "})\n",
    "headers = {\n",
    "  'X-API-KEY': '94b4d706b727b20b98123ea03fd1678d0f8a2c60',\n",
    "  'Content-Type': 'application/json'\n",
    "}\n",
    "\n",
    "response = requests.request(\"POST\", url, headers=headers, data=payload)\n",
    "\n",
    "print(response.text)\n"
   ]
  },
  {
   "cell_type": "code",
   "execution_count": 28,
   "metadata": {},
   "outputs": [
    {
     "data": {
      "text/plain": [
       "{'searchParameters': {'q': 'histology of spleen', 'type': 'images'},\n",
       " 'images': [{'title': 'Normal Histology',\n",
       "   'imageUrl': 'https://webpath.med.utah.edu/jpeg5/HEME188.jpg',\n",
       "   'imageWidth': 504,\n",
       "   'imageHeight': 332,\n",
       "   'thumbnailUrl': 'https://encrypted-tbn0.gstatic.com/images?q=tbn:ANd9GcSGF_hKplXax5mDwh-gQtPTu56djqhzrHbg8AsxBMT9KkOrqmk&amp;s',\n",
       "   'thumbnailWidth': 277,\n",
       "   'thumbnailHeight': 182,\n",
       "   'source': 'Normal Histology',\n",
       "   'domain': 'webpath.med.utah.edu',\n",
       "   'link': 'https://webpath.med.utah.edu/HISTHTML/NORMAL/NORM137.html',\n",
       "   'position': 1},\n",
       "  {'title': 'Spleen histology: Location, functions, structure | Kenhub',\n",
       "   'imageUrl': 'https://www.kenhub.com/thumbor/GjRJDj63qCaMpsq2StkyxiNIdus=/fit-in/1400x0/filters:fill(FFFFFF,true):watermark(/images/watermark_5000_10percent.png,0,0,0):watermark(/images/logo_url.png,-10,-10,0):format(jpeg)/images/overview_image/1244/YEIKTXcuMGIihRhqfQ4Fqw_anatomy-spleen-microcirculation_english.jpg',\n",
       "   'imageWidth': 1400,\n",
       "   'imageHeight': 1400,\n",
       "   'thumbnailUrl': 'https://encrypted-tbn0.gstatic.com/images?q=tbn:ANd9GcSiochwOxZoYN_ICJm3GHjKXqwto3NEzR0qG7FZ9zKuEVuq5wie&amp;s',\n",
       "   'thumbnailWidth': 225,\n",
       "   'thumbnailHeight': 225,\n",
       "   'source': 'Kenhub',\n",
       "   'domain': 'www.kenhub.com',\n",
       "   'link': 'https://www.kenhub.com/en/library/anatomy/histology-of-the-spleen',\n",
       "   'position': 2},\n",
       "  {'title': 'Histology at SIU',\n",
       "   'imageUrl': 'https://histology.siu.edu/crr/images/CR036b.jpg',\n",
       "   'imageWidth': 600,\n",
       "   'imageHeight': 417,\n",
       "   'thumbnailUrl': 'https://encrypted-tbn0.gstatic.com/images?q=tbn:ANd9GcSF9DwaL0q157rXFZo017WT8RdE73y0-wOWAQUSvOtzPhftVbjz&amp;s',\n",
       "   'thumbnailWidth': 269,\n",
       "   'thumbnailHeight': 187,\n",
       "   'source': 'Histology at SIU',\n",
       "   'domain': 'histology.siu.edu',\n",
       "   'link': 'https://histology.siu.edu/crr/CR036b.htm',\n",
       "   'position': 3},\n",
       "  {'title': 'Histology of the Spleen',\n",
       "   'imageUrl': 'https://i.ytimg.com/vi/oXcnQ90AJYg/hqdefault.jpg',\n",
       "   'imageWidth': 480,\n",
       "   'imageHeight': 360,\n",
       "   'thumbnailUrl': 'https://encrypted-tbn0.gstatic.com/images?q=tbn:ANd9GcTW2JIfSO0QAV5P5ad41NLjuxY3KbLDIlCaCS9nk-CV18FUdOpk&amp;s',\n",
       "   'thumbnailWidth': 259,\n",
       "   'thumbnailHeight': 194,\n",
       "   'source': 'YouTube',\n",
       "   'domain': 'www.youtube.com',\n",
       "   'link': 'https://www.youtube.com/watch?v=oXcnQ90AJYg',\n",
       "   'position': 4},\n",
       "  {'title': 'Histology of Lymphatic Tissue - Part -4 | Spleen | White & Red pulp |  Splenic Circulation',\n",
       "   'imageUrl': 'https://i.ytimg.com/vi/HCAf956WdvE/maxresdefault.jpg',\n",
       "   'imageWidth': 1280,\n",
       "   'imageHeight': 720,\n",
       "   'thumbnailUrl': 'https://encrypted-tbn0.gstatic.com/images?q=tbn:ANd9GcSDBOXgRUzgS78kVWPz-Nn2uTlxRMGUrAtR80t2WZxuVacpheVh&amp;s',\n",
       "   'thumbnailWidth': 300,\n",
       "   'thumbnailHeight': 168,\n",
       "   'source': 'YouTube',\n",
       "   'domain': 'www.youtube.com',\n",
       "   'link': 'https://www.youtube.com/watch?v=HCAf956WdvE',\n",
       "   'position': 5},\n",
       "  {'title': 'Microscopic examination confirmed the splenic tissue histology ...',\n",
       "   'imageUrl': 'https://www.researchgate.net/publication/351936989/figure/fig3/AS:1028412101644288@1622203960002/Microscopic-examination-confirmed-the-splenic-tissue-histology-which-included-white-pulp.jpg',\n",
       "   'imageWidth': 850,\n",
       "   'imageHeight': 680,\n",
       "   'thumbnailUrl': 'https://encrypted-tbn0.gstatic.com/images?q=tbn:ANd9GcRwNoN3DQ8N3mM0ZBcSsliszmtU9a4BvWub47csmx63diG3Rio&amp;s',\n",
       "   'thumbnailWidth': 251,\n",
       "   'thumbnailHeight': 201,\n",
       "   'source': 'ResearchGate',\n",
       "   'domain': 'www.researchgate.net',\n",
       "   'link': 'https://www.researchgate.net/figure/Microscopic-examination-confirmed-the-splenic-tissue-histology-which-included-white-pulp_fig3_351936989',\n",
       "   'position': 6},\n",
       "  {'title': 'Spleen',\n",
       "   'imageUrl': 'http://medcell.org/histology/immune_system_lab/images/spleen.jpg',\n",
       "   'imageWidth': 1024,\n",
       "   'imageHeight': 768,\n",
       "   'thumbnailUrl': 'https://encrypted-tbn0.gstatic.com/images?q=tbn:ANd9GcQhnkPC7eBzPNyi6YXO5OvrxUOynoezGDbCrjj0GZUN4IxA2kA&amp;s',\n",
       "   'thumbnailWidth': 259,\n",
       "   'thumbnailHeight': 194,\n",
       "   'source': 'medcell.org',\n",
       "   'domain': 'medcell.org',\n",
       "   'link': 'http://medcell.org/histology/immune_system_lab/spleen.php',\n",
       "   'position': 7},\n",
       "  {'title': 'Frontiers | Histological Disorganization of Spleen Compartments ...',\n",
       "   'imageUrl': 'https://www.frontiersin.org/files/Articles/408184/fcimb-08-00394-HTML/image_m/fcimb-08-00394-g001.jpg',\n",
       "   'imageWidth': 1084,\n",
       "   'imageHeight': 586,\n",
       "   'thumbnailUrl': 'https://encrypted-tbn0.gstatic.com/images?q=tbn:ANd9GcR7zNp8QeZq-0mAk8znTlfNVQ5fnqVm-a-RZeb8yHEFXkpy2wE&amp;s',\n",
       "   'thumbnailWidth': 306,\n",
       "   'thumbnailHeight': 165,\n",
       "   'source': 'Frontiers',\n",
       "   'domain': 'www.frontiersin.org',\n",
       "   'link': 'https://www.frontiersin.org/articles/10.3389/fcimb.2018.00394/full',\n",
       "   'position': 8},\n",
       "  {'title': 'Spleen histology: Location, functions, structure | Kenhub',\n",
       "   'imageUrl': 'https://www.kenhub.com/thumbor/Er6NZlMu5zlBmRcn0XLi5X_HAyI=/fit-in/800x1600/filters:watermark(/images/logo_url.png,-10,-10,0):background_color(FFFFFF):format(jpeg)/images/article/en/histology-of-the-spleen/M0SYsscsjbVTqJOP3QkYbw_Spleen.png',\n",
       "   'imageWidth': 800,\n",
       "   'imageHeight': 800,\n",
       "   'thumbnailUrl': 'https://encrypted-tbn0.gstatic.com/images?q=tbn:ANd9GcSf7byPG-bThvdcUqsWjQLHsiwHLLCNu09p2ZK1zhSJP8IjmRM&amp;s',\n",
       "   'thumbnailWidth': 225,\n",
       "   'thumbnailHeight': 225,\n",
       "   'source': 'Kenhub',\n",
       "   'domain': 'www.kenhub.com',\n",
       "   'link': 'https://www.kenhub.com/en/library/anatomy/histology-of-the-spleen',\n",
       "   'position': 9},\n",
       "  {'title': 'Spleen – Normal Histology – NUS Pathweb :: NUS Pathweb',\n",
       "   'imageUrl': 'https://medicine.nus.edu.sg/pathweb/wp-content/uploads/2019/06/normal-spleen-2.jpg',\n",
       "   'imageWidth': 2002,\n",
       "   'imageHeight': 1071,\n",
       "   'thumbnailUrl': 'https://encrypted-tbn0.gstatic.com/images?q=tbn:ANd9GcTy9_gd_sLSg6xpS5w_Mw2_niORaynELi_FXaknrGM0RN2rB7Sy&amp;s',\n",
       "   'thumbnailWidth': 307,\n",
       "   'thumbnailHeight': 164,\n",
       "   'source': 'NUS Medicine',\n",
       "   'domain': 'medicine.nus.edu.sg',\n",
       "   'link': 'https://medicine.nus.edu.sg/pathweb/normal-histology/spleen/',\n",
       "   'position': 10}]}"
      ]
     },
     "execution_count": 28,
     "metadata": {},
     "output_type": "execute_result"
    }
   ],
   "source": [
    "response.json()"
   ]
  },
  {
   "cell_type": "code",
   "execution_count": 27,
   "metadata": {},
   "outputs": [
    {
     "data": {
      "text/plain": [
       "'https://webpath.med.utah.edu/jpeg5/HEME188.jpg'"
      ]
     },
     "execution_count": 27,
     "metadata": {},
     "output_type": "execute_result"
    }
   ],
   "source": [
    "response.json()['images'][0]['imageUrl'] # first image url"
   ]
  },
  {
   "attachments": {},
   "cell_type": "markdown",
   "metadata": {},
   "source": [
    "# Summarizing an image"
   ]
  },
  {
   "cell_type": "code",
   "execution_count": 2,
   "metadata": {},
   "outputs": [],
   "source": [
    "import urllib.request\n",
    "from PIL import Image\n",
    "\n",
    "url = 'https://webpath.med.utah.edu/jpeg5/HEME188.jpg'\n",
    "urllib.request.urlretrieve(url, \"img.jpg\")\n",
    "\n",
    "img = Image.open('img.jpg')\n",
    "img.show()"
   ]
  },
  {
   "cell_type": "code",
   "execution_count": 28,
   "metadata": {},
   "outputs": [],
   "source": [
    "from langchain.document_loaders.image import UnstructuredImageLoader\n",
    "\n",
    "img_loader = UnstructuredImageLoader(\"img.jpg\")"
   ]
  },
  {
   "cell_type": "code",
   "execution_count": 29,
   "metadata": {},
   "outputs": [],
   "source": [
    "data = img_loader.load() # needed brew install tesseract for it to work"
   ]
  },
  {
   "cell_type": "code",
   "execution_count": 30,
   "metadata": {},
   "outputs": [
    {
     "data": {
      "text/plain": [
       "'None.'"
      ]
     },
     "execution_count": 30,
     "metadata": {},
     "output_type": "execute_result"
    }
   ],
   "source": [
    "from langchain.chains.summarize import load_summarize_chain\n",
    "import tiktoken\n",
    "\n",
    "chain = load_summarize_chain(chat, chain_type=\"map_reduce\")\n",
    "chain.run(data)"
   ]
  }
 ],
 "metadata": {
  "kernelspec": {
   "display_name": "base",
   "language": "python",
   "name": "python3"
  },
  "language_info": {
   "codemirror_mode": {
    "name": "ipython",
    "version": 3
   },
   "file_extension": ".py",
   "mimetype": "text/x-python",
   "name": "python",
   "nbconvert_exporter": "python",
   "pygments_lexer": "ipython3",
   "version": "3.9.16"
  },
  "orig_nbformat": 4
 },
 "nbformat": 4,
 "nbformat_minor": 2
}
